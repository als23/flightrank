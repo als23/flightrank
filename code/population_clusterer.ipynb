{
 "cells": [
  {
   "cell_type": "code",
   "execution_count": 2,
   "metadata": {
    "collapsed": true
   },
   "outputs": [],
   "source": [
    "import pandas as pd, json, numpy as np\n",
    "import matplotlib.pyplot as plt\n",
    "%matplotlib inline"
   ]
  },
  {
   "cell_type": "code",
   "execution_count": 7,
   "metadata": {
    "collapsed": false
   },
   "outputs": [],
   "source": [
    "cluster=json.loads(file('../json/cluster.json','r').read())\n",
    "citysave=json.loads(file('../json/citysave2.json','r').read())\n",
    "pop_countries=json.loads(file('../json/pop_countries2.json','r').read())\n",
    "pop_cities=json.loads(file('../json/pop_cities.json','r').read())"
   ]
  },
  {
   "cell_type": "code",
   "execution_count": 5,
   "metadata": {
    "collapsed": true
   },
   "outputs": [],
   "source": [
    "unicities={}\n",
    "for i in cluster:\n",
    "    if cluster[i] not in unicities:\n",
    "        unicities[cluster[i]]=citysave[i]['country']"
   ]
  },
  {
   "cell_type": "code",
   "execution_count": 15,
   "metadata": {
    "collapsed": false
   },
   "outputs": [
    {
     "data": {
      "text/plain": [
       "{u'nearby': {u'Erd': {u'km': 19.0, u'people': 63669},\n",
       "  u'Gy\\u0151r': {u'km': 110.0, u'people': 130476},\n",
       "  u'Kecskemet': {u'km': 81.0, u'people': 111428},\n",
       "  u'Szekesfehervar': {u'km': 61.0, u'people': 102035},\n",
       "  u'Tatabanya': {u'km': 48.0, u'people': 70333},\n",
       "  u'Vienna': {u'km': 218.0, u'people': 1724000}},\n",
       " u'pop': 1759000}"
      ]
     },
     "execution_count": 15,
     "metadata": {},
     "output_type": "execute_result"
    }
   ],
   "source": [
    "pop_cities['Budapest']"
   ]
  },
  {
   "cell_type": "code",
   "execution_count": 11,
   "metadata": {
    "collapsed": false
   },
   "outputs": [
    {
     "name": "stdout",
     "output_type": "stream",
     "text": [
      "2948\n"
     ]
    }
   ],
   "source": [
    "file(\"../json/pop_cities.json\",'w').write(json.dumps(G))\n",
    "print len(G)"
   ]
  },
  {
   "cell_type": "markdown",
   "metadata": {},
   "source": [
    "Country populations"
   ]
  },
  {
   "cell_type": "code",
   "execution_count": 20,
   "metadata": {
    "collapsed": true
   },
   "outputs": [],
   "source": [
    "G={}\n",
    "error=[]"
   ]
  },
  {
   "cell_type": "code",
   "execution_count": 21,
   "metadata": {
    "collapsed": false
   },
   "outputs": [
    {
     "name": "stdout",
     "output_type": "stream",
     "text": [
      "Canada Libyan Arab Jamahiriya Guernsey Turkmenistan Lithuania FYR of Macedonia Cambodia Dem. Rep. of Congo Ethiopia Aruba Swaziland Belize Argentina Bolivia Cameroon Burkina Faso Ghana Saudi Arabia Cape Verde Slovenia Guatemala Bosnia and Herzegovina Guinea Russian Federation Germany Dominica Liberia Maldives Paraguay Pakistan Oman Tanzania Greenland Gabon Niue Monaco New Zealand Yemen Jersey Jamaica Namibia Albania Samoa United Arab Emirates Uruguay India Azerbaijan Madagascar Lesotho Saint Vincent and the Grenadines Kenya Tajikistan Turkey Afghanistan Fiji Bangladesh Eritrea Solomon Islands Saint Lucia Mongolia France Syrian Arab Republic Bermuda Slovakia Somalia Peru Vanuatu Nauru Norway Malawi Cook Islands Benin Cuba Montenegro Saint Kitts and Nevis Togo China Armenia Antigua and Barbuda Dominican Republic Ukraine Bahrain Tonga Finland Western Sahara Indonesia Mauritius Sweden Vietnam British Virgin Islands Guyana Mali Bulgaria United States Romania Angola Cayman Islands South Africa Cyprus Brunei Darussalam Malaysia Austria Mozambique Uganda Japan Niger Isle of Man Brazil Kuwait Panama Rep. of Moldova Costa Rica Luxembourg Bahamas Gibraltar Ireland Italy Nigeria Ecuador Czech Republic Australia Iran Algeria El Salvador Tuvalu Marshall Islands Chile Puerto Rico Belgium Kiribati Haiti Iraq Hong Kong Sierra Leone Georgia Gambia Philippines Portugal Morocco Croatia Guinea-Bissau Thailand Switzerland Grenada Seychelles Chad Estonia Kosovo Equatorial Guinea Lebanon Uzbekistan Egypt Djibouti Rwanda Timor-Leste Spain Colombia Burundi Taiwan Turks and Caicos Islands Barbados Qatar Palau Bhutan Sudan Palestinian Territories Nepal São Tomé and Principe Malta Netherlands Suriname Anguilla Venezuela Micronesia (Federated States of) Israel Myanmar (Burma) Iceland Zambia Senegal Papua New Guinea Cote d'Ivoire Lao People's Dem. Rep. Zimbabwe Jordan Denmark Kazakhstan Poland Cent African Rep Mauritania Kyrgyzstan Montserrat Andorra Trinidad and Tobago Latvia People's Republic of Korea South Sudan Hungary Belarus Honduras Mexico Tunisia Nicaragua Singapore Serbia Comoros United Kingdom Congo Greece Sri Lanka French Guiana Rep. of Korea Botswana\n"
     ]
    }
   ],
   "source": [
    "for c in N:\n",
    "    if c not in G.keys()+error:\n",
    "        print c,\n",
    "        q='population of '+c\n",
    "        try:\n",
    "            res = client.query(q)\n",
    "            for i in range(len(res['pod'])):\n",
    "                if res['pod'][i]['@title']==\"Result\":\n",
    "                    x=res['pod'][i]['subpod']['plaintext']\n",
    "                    popul=x[:x.find('people')-1]\n",
    "                    if 'mill' in popul:\n",
    "                            popul=float(popul[:popul.find('mill')-1])*1000000.0\n",
    "                    G[c]=int(popul)\n",
    "        except: error.append(c)"
   ]
  },
  {
   "cell_type": "code",
   "execution_count": 29,
   "metadata": {
    "collapsed": true
   },
   "outputs": [],
   "source": [
    "file(\"../json/pop_countries.json\",'w').write(json.dumps(G))"
   ]
  },
  {
   "cell_type": "code",
   "execution_count": 26,
   "metadata": {
    "collapsed": false
   },
   "outputs": [
    {
     "data": {
      "text/plain": [
       "[u'FYR of Macedonia',\n",
       " u'India',\n",
       " u'China',\n",
       " u'Palestinian Territories',\n",
       " u'S\\xe3o Tom\\xe9 and Principe',\n",
       " u'Micronesia (Federated States of)',\n",
       " u\"Lao People's Dem. Rep.\"]"
      ]
     },
     "execution_count": 26,
     "metadata": {},
     "output_type": "execute_result"
    }
   ],
   "source": [
    "error"
   ]
  },
  {
   "cell_type": "code",
   "execution_count": 31,
   "metadata": {
    "collapsed": false
   },
   "outputs": [
    {
     "name": "stdout",
     "output_type": "stream",
     "text": [
      "FYR of Macedonia FYR of Macedonia\n",
      "India China Palestinian Territories Palestinian Territories\n",
      "São Tomé and Principe São Tomé and Principe\n",
      "Micronesia (Federated States of) Micronesia (Federated States of)\n",
      "Lao People's Dem. Rep. Lao People's Dem. Rep.\n"
     ]
    }
   ],
   "source": [
    "for c in error:\n",
    "    if c not in G.keys():\n",
    "        print c,\n",
    "        q='population of '+c\n",
    "        try:\n",
    "            res = client.query(q)\n",
    "            for i in range(len(res['pod'])):\n",
    "                if res['pod'][i]['@title']==\"Result\":\n",
    "                    x=res['pod'][i]['subpod']['plaintext']\n",
    "                    popul=x[:x.find('people')-1]\n",
    "                    if 'mill' in popul:\n",
    "                            popul=float(popul[:popul.find('mill')-1])*1000000.0\n",
    "                    elif 'bill' in popul:\n",
    "                            popul=float(popul[:popul.find('bill')-1])*1000000000.0\n",
    "                    G[c]=int(popul)\n",
    "        except: print c"
   ]
  },
  {
   "cell_type": "code",
   "execution_count": 40,
   "metadata": {
    "collapsed": false
   },
   "outputs": [
    {
     "name": "stdout",
     "output_type": "stream",
     "text": [
      "São Tomé and Principe Micronesia (Federated States of) Lao People's Dem. Rep.\n"
     ]
    }
   ],
   "source": [
    "cc={'FYR of Macedonia':'Macedonia',\n",
    "u'São Tomé and Principe':'Sao Tome and Principe',\n",
    "'Micronesia (Federated States of)':'Micronesia',\n",
    "u\"Lao People's Dem. Rep.\":'Laos'}\n",
    "for c in error:\n",
    "    if c not in G.keys()+['Palestinian Territories']:\n",
    "        print c,\n",
    "        q='population of '+cc[c]\n",
    "        res = client.query(q)\n",
    "        for i in range(len(res['pod'])):\n",
    "            if res['pod'][i]['@title']==\"Result\":\n",
    "                x=res['pod'][i]['subpod']['plaintext']\n",
    "                popul=x[:x.find('people')-1]\n",
    "                if 'mill' in popul:\n",
    "                        popul=float(popul[:popul.find('mill')-1])*1000000.0\n",
    "                elif 'bill' in popul:\n",
    "                        popul=float(popul[:popul.find('bill')-1])*1000000000.0\n",
    "                G[c]=int(popul)"
   ]
  },
  {
   "cell_type": "code",
   "execution_count": 55,
   "metadata": {
    "collapsed": false
   },
   "outputs": [
    {
     "name": "stdout",
     "output_type": "stream",
     "text": [
      "Palestinian Territories\n"
     ]
    }
   ],
   "source": [
    "c='Palestinian Territories'\n",
    "print c,\n",
    "q='population of '+c\n",
    "res = client.query(q)\n",
    "for i in range(len(res['pod'])):\n",
    "    s=0\n",
    "    if res['pod'][i]['@title']==\"Result\":\n",
    "        xx=res['pod'][i]['subpod']['plaintext'].split('\\n')\n",
    "        for x in xx[:-1]:\n",
    "            popul=x[x.find('|')+2:x.find('people')-1]\n",
    "            if 'mill' in popul:\n",
    "                    popul=float(popul[:popul.find('mill')-1])*1000000.0\n",
    "            elif 'bill' in popul:\n",
    "                    popul=float(popul[:popul.find('bill')-1])*1000000000.0\n",
    "            s+=int(popul)\n",
    "        G[c]=s"
   ]
  },
  {
   "cell_type": "code",
   "execution_count": 57,
   "metadata": {
    "collapsed": true
   },
   "outputs": [],
   "source": [
    "file(\"../json/pop_countries2.json\",'w').write(json.dumps(G))"
   ]
  },
  {
   "cell_type": "markdown",
   "metadata": {},
   "source": [
    "Combine"
   ]
  },
  {
   "cell_type": "code",
   "execution_count": null,
   "metadata": {
    "collapsed": true
   },
   "outputs": [],
   "source": [
    "#load if saved\n",
    "pop_countries=json.loads(file('../json/pop_countries2.json','r').read())\n",
    "pop_cities=json.loads(file('../json/pop_cities.json','r').read())"
   ]
  },
  {
   "cell_type": "code",
   "execution_count": null,
   "metadata": {
    "collapsed": true
   },
   "outputs": [],
   "source": [
    "for i in pop_cities:\n",
    "    print i"
   ]
  }
 ],
 "metadata": {
  "anaconda-cloud": {},
  "kernelspec": {
   "display_name": "Python [conda root]",
   "language": "python",
   "name": "conda-root-py"
  },
  "language_info": {
   "codemirror_mode": {
    "name": "ipython",
    "version": 2
   },
   "file_extension": ".py",
   "mimetype": "text/x-python",
   "name": "python",
   "nbconvert_exporter": "python",
   "pygments_lexer": "ipython2",
   "version": "2.7.13"
  }
 },
 "nbformat": 4,
 "nbformat_minor": 1
}
