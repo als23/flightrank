{
 "cells": [
  {
   "cell_type": "code",
   "execution_count": 3,
   "metadata": {
    "collapsed": true
   },
   "outputs": [],
   "source": [
    "import pandas as pd, json, numpy as np\n",
    "import matplotlib.pyplot as plt\n",
    "%matplotlib inline"
   ]
  },
  {
   "cell_type": "code",
   "execution_count": 4,
   "metadata": {
    "collapsed": false
   },
   "outputs": [],
   "source": [
    "SC=json.loads(file('../json/SC2.json','r').read())\n",
    "citysave=json.loads(file('../json/citysave4.json','r').read())\n",
    "citycoords=json.loads(file('../json/citycoords.json','r').read())\n",
    "unicities=json.loads(file('../json/unicities.json','r').read())\n",
    "cc=json.loads(file('../json/cluster.json','r').read())\n",
    "I3=json.loads(file('../json/I3.json','r').read())"
   ]
  },
  {
   "cell_type": "code",
   "execution_count": 9,
   "metadata": {
    "collapsed": false
   },
   "outputs": [],
   "source": [
    "error=[]"
   ]
  },
  {
   "cell_type": "code",
   "execution_count": 73,
   "metadata": {
    "collapsed": false
   },
   "outputs": [],
   "source": [
    "SC['World']=[[],[]]\n",
    "I3['World']='WD'"
   ]
  },
  {
   "cell_type": "code",
   "execution_count": 88,
   "metadata": {
    "collapsed": false
   },
   "outputs": [
    {
     "name": "stdout",
     "output_type": "stream",
     "text": [
      "Canada Turkmenistan Saint Helena Lithuania Cambodia Ethiopia Aruba Perú Argentina Bolivia Cameroon Burkina Faso Ghana Saudi Arabia Cape Verde United States Minor Outlying Islands Cocos (Keeling) Islands Slovenia Guatemala Guinea Wallis And Futuna Dominica Liberia Maldives Pakistan Oman Tanzania Saint Kitts And Nevis Albania Gabon Saint Pierre and Miquelon Monaco New Zealand Yemen Denmark Jamaica Greenland Samoa United Arab Emirates Guam Kosovo India Azerbaijan Madagascar Lesotho Saint Vincent and the Grenadines Kenya South Korea Belarus Tajikistan Turkey Afghanistan Northern Mariana Islands Eritrea Solomon Islands Saint Lucia Mongolia France Bermuda Slovakia Somalia Laos Nauru Norway Malawi Cook Islands Benin Libya Cuba Montenegro Djibouti Togo China Armenia Dominican Republic Germany Ukraine Bahrain Tonga Cayman Islands Western Sahara Finland Central African Republic Mauritius Sweden Vietnam Antigua And Barbuda Macedonia Mali Russia Bulgaria United States Romania Angola Chad South Africa Cyprus Caribbean Netherlands Malaysia Austria Mozambique Uganda Hungary Niger Brazil World Faroe Islands Kuwait Panama Guyana Costa Rica Luxembourg American Samoa Bahamas British Virgin Islands Gibraltar Ireland Italy Nigeria Ecuador Bangladesh Brunei Australia Iran Algeria El Salvador Tuvalu Czech Republic Marshall Islands Chile Puerto Rico Belgium Kiribati Haiti Belize Hong Kong Sierra Leone Georgia Gambia Philippines Moldova French Guiana Morocco Namibia French Polynesia Guinea-Bissau Thailand Switzerland Grenada Cote D'ivoire (Ivory Coast) U.S. Virgin Islands Seychelles Portugal Estonia Uruguay Equatorial Guinea Lebanon Uzbekistan Egypt Falkland Islands (Malvinas) Rwanda Timor-Leste Spain Colombia Reunion Burundi Taiwan Turks and Caicos Islands Barbados Qatar Palau Curacao Bhutan Sudan Nepal São Tomé and Principe Micronesia Netherlands Bosnia And Herzegovina Suriname Anguilla Venezuela Israel Indonesia Iceland Zambia Senegal Papua New Guinea Zimbabwe Jordan Vanuatu Martinique Kazakhstan Poland Mauritania Kyrgyzstan Mayotte Iraq Montserrat New Caledonia North Korea Paraguay Latvia South Sudan Japan Croatia Syria Guadeloupe Burma Honduras Malta Mexico Tunisia Nicaragua Singapore Serbia Comoros United Kingdom Trinidad And Tobago Congo Greece Sri Lanka Fiji Botswana\n"
     ]
    }
   ],
   "source": [
    "for w in SC:\n",
    "    if len(SC[w])>0:\n",
    "\n",
    "        print w,\n",
    "        #read mdf data\n",
    "        cpath=I3[w].lower()\n",
    "        cpath='../countries/'+cpath\n",
    "        flights=json.loads(file(cpath+'/json/flights.json','r').read())\n",
    "        \n",
    "        #create newdata\n",
    "        newdata={}\n",
    "        apconv={}\n",
    "        for g in citysave:\n",
    "            h=citysave[g]['city']\n",
    "            k=h+'('+str(citysave[g]['coords'][0])+', '+str(citysave[g]['coords'][1])+')'\n",
    "            apconv[h]=k\n",
    "            if k not in newdata: newdata[k]={}\n",
    "            newdata[k]['coords']=citysave[g]['coords']\n",
    "            newdata[k]['country']=citysave[g]['country']\n",
    "            newdata[k]['count']=0\n",
    "        \n",
    "        #parse\n",
    "        for c in flights:\n",
    "            for airport in flights[c]:\n",
    "                if airport in cluster.values():\n",
    "                    k=apconv[airport]\n",
    "                    newdata[k]['count']+=flights[c][airport]['7freq']\n",
    "                    if c not in newdata[k]:\n",
    "                        newdata[k][c]={\"count\":0}\n",
    "                    newdata[k][c]['count']+=flights[c][airport]['7freq']\n",
    "                    newdata[k][c]['airports']=flights[c][airport]['airports']\n",
    "                else: error.append(airport)\n",
    "                \n",
    "        #clean up\n",
    "        for i in list(newdata.keys()):\n",
    "            if newdata[i]['count']==0: newdata.pop(i);\n",
    "        file(cpath+'/json/newdata1a.json','w').write(json.dumps(newdata))\n",
    "                \n",
    "        #E\n",
    "        F=[]\n",
    "        #typ=w+' flights'\n",
    "        typ='qlights'\n",
    "        for j in newdata:\n",
    "            for i in newdata[j]:\n",
    "                if i not in {'country','count','coords'}:\n",
    "                    for k in newdata[j][i]['airports']:\n",
    "                        for m in newdata[j][i]['airports'][k]['airlines']:\n",
    "                            if 'cargo' not in m.lower():\n",
    "                                F.append({'type':typ,'to':j[:j.find('(')],'from':cc[i],'fp':i,'country':newdata[j]['country'],'ap':k,'al':m,u'Flights':np.round(newdata[j][i]['airports'][k]['airlines'][m]['7freq'],1)})\n",
    "        file(cpath+'/json/e.json','w').write(json.dumps(F))\n",
    "        \n",
    "        #F\n",
    "        F=[]\n",
    "        for j in newdata:\n",
    "            for i in newdata[j]:\n",
    "                if i not in {'country','count','coords'}:\n",
    "                    for k in newdata[j][i]['airports']:\n",
    "                        for m in newdata[j][i]['airports'][k]['airlines']:\n",
    "                            if 'cargo' not in m.lower():\n",
    "                                F.append({'to':j[:j.find('(')],'from':cc[i],'fp':i,'country':newdata[j]['country'],'ap':k,'al':m,u'Flights':np.round(newdata[j][i]['airports'][k]['airlines'][m]['7freq'],1)})\n",
    "                                #tests\n",
    "                                F.append({'to':j[:j.find('(')],'from':cc[i],'fp':i,'country':newdata[j]['country'],'ap':k,'al':u'Total',u'Flights':0})\n",
    "                                F.append({'to':j[:j.find('(')],'from':cc[i],'fp':i,'country':newdata[j]['country'],'ap':u'Total','al':m,u'Flights':0})\n",
    "                                F.append({'to':j[:j.find('(')],'from':cc[i],'fp':i,'country':u'Total','ap':k,'al':m,u'Flights':0})\n",
    "                                F.append({'to':j[:j.find('(')],'from':u'Total','fp':i,'country':newdata[j]['country'],'ap':k,'al':m,u'Flights':0})\n",
    "                                F.append({'to':j[:j.find('(')],'from':cc[i],'fp':u'Total','country':newdata[j]['country'],'ap':k,'al':m,u'Flights':0})\n",
    "                                F.append({'to':u'Total','from':cc[i],'fp':i,'country':newdata[j]['country'],'ap':k,'al':m,u'Flights':0})\n",
    "        file(cpath+'/json/f.json','w').write(json.dumps(F))\n",
    "        \n",
    "        #G\n",
    "        F=[]\n",
    "        for j in newdata:\n",
    "            for i in newdata[j]:\n",
    "                if i not in {'country','count','coords'}:\n",
    "                    for k in newdata[j][i]['airports']:\n",
    "                        for m in newdata[j][i]['airports'][k]['airlines']:\n",
    "                            if 'cargo' not in m.lower():\n",
    "                                F.append({'type':typ,'to':j[:j.find('(')],'from':cc[i],'fp':i,'country':newdata[j]['country'],'ap':k,'al':m,u'Flights':np.round(newdata[j][i]['airports'][k]['airlines'][m]['7freq'],1)})\n",
    "                                #tests\n",
    "                                F.append({'type':typ,'to':j[:j.find('(')],'from':cc[i],'fp':i,'country':newdata[j]['country'],'ap':k,'al':u'Total',u'Flights':0})\n",
    "                                F.append({'type':typ,'to':j[:j.find('(')],'from':cc[i],'fp':i,'country':newdata[j]['country'],'ap':u'Total','al':m,u'Flights':0})\n",
    "                                F.append({'type':typ,'to':j[:j.find('(')],'from':cc[i],'fp':i,'country':u'Total','ap':k,'al':m,u'Flights':0})\n",
    "                                F.append({'type':typ,'to':j[:j.find('(')],'from':u'Total','fp':i,'country':newdata[j]['country'],'ap':k,'al':m,u'Flights':0})\n",
    "                                F.append({'type':typ,'to':j[:j.find('(')],'from':cc[i],'fp':u'Total','country':newdata[j]['country'],'ap':k,'al':m,u'Flights':0})\n",
    "                                F.append({'type':typ,'to':u'Total','from':cc[i],'fp':i,'country':newdata[j]['country'],'ap':k,'al':m,u'Flights':0})\n",
    "        file(cpath+'/json/g.json','w').write(json.dumps(F))\n",
    "        \n",
    "        #country\n",
    "        newdatar={}\n",
    "        for g in citysave:\n",
    "            k=citysave[g]['country']\n",
    "            if k not in newdatar: newdatar[k]={}\n",
    "            newdatar[k]['count']=0\n",
    "        for c in flights:\n",
    "            for airport in flights[c]:\n",
    "                if airport in unicities:\n",
    "                    k=unicities[airport]\n",
    "                    newdatar[k]['count']+=flights[c][airport]['7freq']\n",
    "                    if c not in newdatar[k]:\n",
    "                        newdatar[k][c]={\"count\":0,'cities':{}}\n",
    "                    newdatar[k][c]['count']+=flights[c][airport]['7freq']\n",
    "                    #if airport not in newdatar['cities'][k][c]['cities']:\n",
    "                    newdatar[k][c]['cities'][airport]=flights[c][airport]\n",
    "\n",
    "        file(cpath+'/json/newdata2a.json','w').write(json.dumps(newdatar))"
   ]
  },
  {
   "cell_type": "code",
   "execution_count": 90,
   "metadata": {
    "collapsed": false
   },
   "outputs": [
    {
     "name": "stdout",
     "output_type": "stream",
     "text": [
      " Canada Turkmenistan Saint Helena Lithuania Cambodia Ethiopia Aruba Perú Argentina Bolivia Cameroon Burkina Faso Ghana Saudi Arabia Cape Verde United States Minor Outlying Islands Cocos (Keeling) Islands Slovenia Guatemala Guinea Wallis And Futuna Dominica Liberia Maldives Pakistan Oman Tanzania Saint Kitts And Nevis Albania Gabon Saint Pierre and Miquelon Monaco New Zealand Yemen Denmark Jamaica Greenland Samoa United Arab Emirates Guam Kosovo India Azerbaijan Madagascar Lesotho Saint Vincent and the Grenadines Kenya South Korea Belarus Tajikistan Turkey Afghanistan Northern Mariana Islands Eritrea Solomon Islands Saint Lucia Mongolia France Bermuda Slovakia Somalia Laos Nauru Norway Malawi Cook Islands Benin Libya Cuba Montenegro Djibouti Togo China Armenia Dominican Republic Germany Ukraine Bahrain Tonga Cayman Islands Western Sahara Finland Central African Republic Mauritius Sweden Vietnam Antigua And Barbuda Macedonia Mali Russia Bulgaria United States Romania Angola Chad South Africa Cyprus Caribbean Netherlands Malaysia Austria Mozambique Uganda Hungary Niger Brazil Faroe Islands Kuwait Panama Guyana Costa Rica Luxembourg American Samoa Bahamas British Virgin Islands Gibraltar Ireland Italy Nigeria Ecuador Bangladesh Brunei Australia Iran Algeria El Salvador Tuvalu Czech Republic Marshall Islands Chile Puerto Rico Belgium Kiribati Haiti Belize Hong Kong Sierra Leone Georgia Gambia Philippines Moldova French Guiana Morocco Namibia French Polynesia Guinea-Bissau Thailand Switzerland Grenada Cote D'ivoire (Ivory Coast) U.S. Virgin Islands Seychelles Portugal Estonia Uruguay Equatorial Guinea Lebanon Uzbekistan Egypt Falkland Islands (Malvinas) Rwanda Timor-Leste Spain Colombia Reunion Burundi Taiwan Turks and Caicos Islands Barbados Qatar Palau Curacao Bhutan Sudan Nepal São Tomé and Principe Micronesia Netherlands Bosnia And Herzegovina Suriname Anguilla Venezuela Israel Indonesia Iceland Zambia Senegal Papua New Guinea Zimbabwe Jordan Vanuatu Martinique Kazakhstan Poland Mauritania Kyrgyzstan Mayotte Iraq Montserrat New Caledonia North Korea Paraguay Latvia South Sudan Japan Croatia Syria Guadeloupe Burma Honduras Malta Mexico Tunisia Nicaragua Singapore Serbia Comoros United Kingdom Trinidad And Tobago Congo Greece Sri Lanka Fiji Botswana\n"
     ]
    }
   ],
   "source": [
    "for w in SC:\n",
    "    if w not in {\"World\"}:\n",
    "        if len(SC[w])>0:\n",
    "            print w,\n",
    "            #read mdf data\n",
    "            cpath=I3[w].lower()\n",
    "            cpath='../countries/'+cpath\n",
    "            order=SC[w]\n",
    "            file(cpath+'/json/cityorder.json','w').write(json.dumps(order))\n",
    "            file(cpath+'/json/cities.json','w').write(json.dumps({o:cc[o] for o in order}))\n",
    "            file(cpath+'/json/colors.json','w').write(json.dumps({o:'#fd8d3c' for o in order}))"
   ]
  },
  {
   "cell_type": "code",
   "execution_count": 91,
   "metadata": {
    "collapsed": false
   },
   "outputs": [],
   "source": [
    "co=[]\n",
    "for i in np.sort(SC.keys()):\n",
    "   if len(SC[i])>0:\n",
    "        cpath=I3[i].lower()\n",
    "        co.append({i:cpath})\n",
    "        #co.append({cnc.loc['pretty'][I3[i]]:cpath})"
   ]
  },
  {
   "cell_type": "code",
   "execution_count": 92,
   "metadata": {
    "collapsed": true
   },
   "outputs": [],
   "source": [
    "file('../json/iso2c.json','w').write(json.dumps(co))"
   ]
  },
  {
   "cell_type": "code",
   "execution_count": 93,
   "metadata": {
    "collapsed": true
   },
   "outputs": [],
   "source": [
    "co=[]\n",
    "for i in np.sort(SC.keys()):\n",
    "   if len(SC[i])>0:\n",
    "        cpath=I3[i].lower()\n",
    "        co.append({cpath:i})\n",
    "        #co.append({cnc.loc['pretty'][I3[i]]:cpath})"
   ]
  },
  {
   "cell_type": "code",
   "execution_count": 94,
   "metadata": {
    "collapsed": true
   },
   "outputs": [],
   "source": [
    "file('../json/riso2c.json','w').write(json.dumps(co))"
   ]
  },
  {
   "cell_type": "code",
   "execution_count": 95,
   "metadata": {
    "collapsed": true
   },
   "outputs": [],
   "source": [
    "cnc_path='../../universal/countries/'\n",
    "cnc=pd.read_csv(cnc_path+'cnc.csv',header=1).set_index('ISO2')"
   ]
  },
  {
   "cell_type": "code",
   "execution_count": 98,
   "metadata": {
    "collapsed": false
   },
   "outputs": [],
   "source": [
    "cnc['WD']='World'"
   ]
  },
  {
   "cell_type": "code",
   "execution_count": 99,
   "metadata": {
    "collapsed": false
   },
   "outputs": [],
   "source": [
    "co={}\n",
    "for i in np.sort(SC.keys()):\n",
    "    if len(SC[i])>0:\n",
    "        cpath=cnc.loc['pretty'][I3[i]]\n",
    "        co[i]={\"name\":cpath,\"iso2\":I3[i]}"
   ]
  },
  {
   "cell_type": "code",
   "execution_count": 100,
   "metadata": {
    "collapsed": false
   },
   "outputs": [],
   "source": [
    "file('../json/pretty.json','w').write(json.dumps(co))"
   ]
  }
 ],
 "metadata": {
  "anaconda-cloud": {},
  "kernelspec": {
   "display_name": "Python [conda root]",
   "language": "python",
   "name": "conda-root-py"
  }
 },
 "nbformat": 4,
 "nbformat_minor": 1
}
