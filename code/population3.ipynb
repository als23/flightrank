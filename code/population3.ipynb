{
 "cells": [
  {
   "cell_type": "code",
   "execution_count": 3,
   "metadata": {
    "collapsed": true
   },
   "outputs": [],
   "source": [
    "import pandas as pd, json, numpy as np\n",
    "import matplotlib.pyplot as plt\n",
    "%matplotlib inline"
   ]
  },
  {
   "cell_type": "code",
   "execution_count": 4,
   "metadata": {
    "collapsed": false
   },
   "outputs": [],
   "source": [
    "cluster=json.loads(file('../json/cluster.json','r').read())\n",
    "citysave=json.loads(file('../json/citysave.json','r').read())"
   ]
  },
  {
   "cell_type": "code",
   "execution_count": 5,
   "metadata": {
    "collapsed": false
   },
   "outputs": [],
   "source": [
    "import wolframalpha\n",
    "app_id='RV7XH4-KUYXP36YXX'\n",
    "#csaladenes@yahoo.com\n",
    "client = wolframalpha.Client(app_id)"
   ]
  },
  {
   "cell_type": "code",
   "execution_count": 6,
   "metadata": {
    "collapsed": false
   },
   "outputs": [],
   "source": [
    "unicities={}\n",
    "for i in cluster:\n",
    "    if cluster[i] not in unicities:\n",
    "        unicities[cluster[i]]=citysave[i]['country']"
   ]
  },
  {
   "cell_type": "code",
   "execution_count": 7,
   "metadata": {
    "collapsed": true
   },
   "outputs": [],
   "source": [
    "G={}\n",
    "error=[]"
   ]
  },
  {
   "cell_type": "code",
   "execution_count": 8,
   "metadata": {
    "collapsed": false
   },
   "outputs": [
    {
     "name": "stdout",
     "output_type": "stream",
     "text": [
      "1800 1801 1802 1803 1804 1805 1806 1807 1808 1809 1810 1811 1812 1813 1814 1815 1816 1817 1818 1819 1820 1821 1822 1823 1824 1825 1826 1827 1828 1829 1830 1831 1832 1833 1834 1835 1836 1837 1838 1839 1840 1841 1842 1843 1844 1845 1846 1847 1848 1849 1850 1851 1852 1853 1854 1855 1856 1857 1858 1859 1860 1861 1862 1863 1864 1865 1866 1867 1868 1869 1870 1871 1872 1873 1874 1875 1876 1877 1878 1879 1880 1881 1882 1883 1884 1885 1886 1887 1888 1889 1890 1891 1892 1893 1894 1895 1896 1897 1898 1899 1900 1901 1902 1903 1904 1905 1906 1907 1908 1909 1910 1911 1912 1913 1914 1915 1916 1917 1918 1919 1920 1921 1922 1923 1924 1925 1926 1927 1928 1929 1930 1931 1932 1933 1934 1935 1936 1937 1938 1939 1940 1941 1942 1943 1944 1945 1946 1947 1948 1949 1950 1951 1952 1953 1954 1955 1956 1957 1958 1959 1960 1961 1962 1963 1964 1965 1966 1967 1968 1969 1970 1971 1972 1973 1974 1975 1976 1977 1978 1979 1980 1981 1982 1983 1984 1985 1986 1987 1988 1989 1990 1991 1992 1993 1994 1995 1996 1997 1998 1999 2000 2001 2002 2003 2004 2005 2006 2007 2008 2009 2010 2011 2012 2013 2014 2015 2016 2017 2018 2019 2020 2021 2022 2023 2024 2025 2026 2027 2028 2029 2030 2031 2032 2033 2034 2035 2036 2037 2038 2039 2040 2041 2042 2043 2044 2045 2046 2047 2048 2049 2050 2051 2052 2053 2054 2055 2056 2057 2058 2059 2060 2061 2062 2063 2064 2065 2066 2067 2068 2069 2070 2071 2072 2073 2074 2075 2076 2077 2078 2079 2080 2081 2082 2083 2084 2085 2086 2087 2088 2089 2090 2091 2092 2093 2094 2095 2096 2097 2098 2099 2100 2101 2102 2103 2104 2105 2106 2107 2108 2109 2110 2111 2112 2113 2114 2115 2116 2117 2118 2119 2120 2121 2122 2123 2124 2125 2126 2127 2128 2129 2130 2131 2132 2133 2134 2135 2136 2137 2138 2139 2140 2141 2142 2143 2144 2145 2146 2147 2148 2149 2150 2151 2152 2153 2154 2155 2156 2157 2158 2159 2160 2161 2162 2163 2164 2165 2166 2167 2168 2169 2170 2171 2172 2173 2174 2175 2176 2177 2178 2179 2180 2181 2182 2183 2184 2185 2186 2187 2188 2189 2190 2191 2192 2193 2194 2195 2196 2197 2198 2199 2200 2201 2202 2203 2204 2205 2206 2207 2208 2209 2210 2211 2212 2213 2214 2215 2216 2217 2218 2219 2220 2221 2222 2223 2224 2225 2226 2227 2228 2229 2230 2231 2232 2233 2234 2235 2236 2237 2238 2239 2240 2241 2242 2243 2244 2245 2246 2247 2248 2249 2250 2251 2252 2253 2254 2255 2256 2257 2258 2259 2260 2261 2262 2263 2264 2265 2266 2267 2268 2269 2270 2271 2272 2273 2274 2275 2276 2277 2278 2279 2280 2281 2282 2283 2284 2285 2286 2287 2288 2289 2290 2291 2292 2293 2294 2295 2296 2297 2298 2299 2300 2301 2302 2303 2304 2305 2306 2307 2308 2309 2310 2311 2312 2313 2314 2315 2316 2317 2318 2319 2320 2321 2322 2323 2324 2325 2326 2327 2328 2329 2330 2331 2332 2333 2334 2335 2336 2337 2338 2339 2340 2341 2342 2343 2344 2345 2346 2347 2348 2349 2350 2351 2352 2353 2354 2355 2356 2357 2358 2359 2360 2361 2362 2363 2364 2365 2366 2367 2368 2369 2370 2371 2372 2373 2374 2375 2376 2377 2378 2379 2380 2381 2382 2383 2384 2385 2386 2387 2388 2389 2390 2391 2392 2393 2394 2395 2396 2397 2398 2399 2400 2401 2402 2403 2404 2405 2406 2407 2408 2409 2410 2411 2412 2413 2414 2415 2416 2417 2418 2419 2420 2421 2422 2423 2424 2425 2426 2427 2428 2429 2430 2431 2432 2433 2434 2435 2436 2437 2438 2439 2440 2441 2442 2443 2444 2445 2446 2447 2448 2449 2450 2451 2452 2453 2454 2455 2456 2457 2458 2459 2460 2461 2462 2463 2464 2465 2466 2467 2468 2469 2470 2471 2472 2473 2474 2475 2476 2477 2478 2479 2480 2481 2482 2483 2484 2485 2486 2487 2488 2489 2490 2491 2492 2493 2494 2495 2496 2497 2498 2499 2500 2501 2502 2503 2504 2505 2506 2507 2508 2509 2510 2511 2512 2513 2514 2515 2516 2517 2518 2519 2520 2521 2522 2523 2524 2525 2526 2527 2528 2529 2530 2531 2532 2533 2534 2535 2536 2537 2538 2539 2540 2541 2542 2543 2544 2545 2546 2547 2548 2549 2550 2551 2552 2553 2554 2555 2556 2557 2558 2559 2560 2561 2562 2563 2564 2565 2566 2567 2568 2569 2570 2571 2572 2573 2574 2575 2576 2577 2578 2579 2580 2581 2582 2583 2584 2585 2586 2587 2588 2589 2590 2591 2592 2593 2594 2595 2596 2597 2598 2599 2600 2601 2602 2603 2604 2605 2606 2607 2608 2609 2610 2611 2612 2613 2614 2615 2616 2617 2618 2619 2620 2621 2622 2623 2624 2625 2626 2627 2628 2629 2630 2631 2632 2633 2634 2635 2636 2637 2638 2639 2640 2641 2642 2643 2644 2645 2646 2647 2648 2649 2650 2651 2652 2653 2654 2655 2656 2657 2658 2659 2660 2661 2662 2663 2664 2665 2666 2667 2668 2669 2670 2671 2672 2673 2674 2675 2676 2677 2678 2679 2680 2681 2682 2683 2684 2685 2686 2687 2688 2689 2690 2691 2692 2693 2694 2695 2696 2697 2698 2699\n"
     ]
    }
   ],
   "source": [
    "uk=unicities.keys()\n",
    "for h in range(1800,2700):\n",
    "    c=uk[h]\n",
    "    if c not in G.keys()+error:\n",
    "        print h,\n",
    "        ys={\"pop\":0,\"nearby\":{}}\n",
    "        q='population of '+c+', '+unicities[c]\n",
    "        try:\n",
    "            res = client.query(q)\n",
    "            for i in range(len(res['pod'])):\n",
    "                if res['pod'][i]['@title']==\"Result\":\n",
    "                    x=res['pod'][i]['subpod']['plaintext']\n",
    "                    popul=x[:x.find('people')-1]\n",
    "                    if 'mill' in popul:\n",
    "                            popul=float(popul[:popul.find('mill')-1])*1000000.0\n",
    "                    ys['pop']=int(popul)\n",
    "                if res['pod'][i]['@title']==\"Nearby cities\":\n",
    "                    x=res['pod'][i]['subpod']['plaintext'].split('\\n')\n",
    "                    for y in x[:-1]:\n",
    "                        people=y[y.rfind('|')+2:y.find('people')-1]\n",
    "                        if 'mill' in people:\n",
    "                            people=float(people[:people.find('mill')-1])*1000000.0\n",
    "                        km=float(y[y.find('|')+2:y.find('km')-1])\n",
    "                        ys['nearby'][y.split('|')[0].split(',')[0].strip()]={\"km\":km,\"people\":int(people)}\n",
    "            G[c]=ys\n",
    "        except: error.append(c)"
   ]
  },
  {
   "cell_type": "code",
   "execution_count": 11,
   "metadata": {
    "collapsed": false
   },
   "outputs": [],
   "source": [
    "file(\"../json/pop3.json\",'w').write(json.dumps(G))\n",
    "file(\"../json/pop3e.json\",'w').write(json.dumps(error))"
   ]
  },
  {
   "cell_type": "markdown",
   "metadata": {
    "collapsed": true
   },
   "source": [
    "Postprocessing"
   ]
  },
  {
   "cell_type": "code",
   "execution_count": null,
   "metadata": {
    "collapsed": true
   },
   "outputs": [],
   "source": [
    "G=json.loads(file('../json/pop3.json','r').read())\n",
    "error=json.loads(file('../json/pop3e.json','r').read())"
   ]
  },
  {
   "cell_type": "code",
   "execution_count": 12,
   "metadata": {
    "collapsed": true
   },
   "outputs": [],
   "source": [
    "error2=[]"
   ]
  },
  {
   "cell_type": "code",
   "execution_count": 27,
   "metadata": {
    "collapsed": true
   },
   "outputs": [],
   "source": [
    "import unicodedata\n",
    "def strip_accents(s):\n",
    "   return ''.join(c for c in unicodedata.normalize('NFD', s)\n",
    "                  if unicodedata.category(c) != 'Mn')\n",
    "def remove_accents(input_str):\n",
    "    nfkd_form = unicodedata.normalize('NFKD', input_str)\n",
    "    only_ascii = nfkd_form.encode('ASCII', 'ignore')\n",
    "    return only_ascii"
   ]
  },
  {
   "cell_type": "code",
   "execution_count": 28,
   "metadata": {
    "collapsed": false,
    "scrolled": false
   },
   "outputs": [
    {
     "name": "stdout",
     "output_type": "stream",
     "text": [
      "success Jonkoping\n",
      "success Balikpapan\n",
      "error Port Hope Simpson\n",
      "success Brainerd\n",
      "success Boston\n",
      "error Arviat\n",
      "success Kokhanok\n",
      "success Lodwar\n",
      "success La Rioja\n",
      "success Manado\n",
      "error Kimmirut\n",
      "success Aarhus\n",
      "success Pullman\n",
      "success Mendoza\n",
      "error Kuujjuaq\n",
      "success Puerto Cabezas\n",
      "success Kuqa\n",
      "success Mazatlan\n",
      "success Surigao\n",
      "error Wanzhou\n",
      "success Igarka\n",
      "success Johor Bahru\n",
      "success Puerto Vallarta\n",
      "error Snare Lake\n",
      "success Albury\n",
      "error Deadmans Cay\n",
      "success Selma\n",
      "error Kingscote\n",
      "success Al Hoceima\n",
      "success Inhambane\n",
      "success Great Falls\n",
      "success Moncton\n",
      "success Aurangabad\n",
      "success Faisalabad\n",
      "error Sveg\n",
      "success Petrolina\n",
      "success Golmud\n",
      "success Meixian\n",
      "success Nagasaki\n",
      "success Maraba\n",
      "success Grand Junction\n",
      "success Haikou\n",
      "success Ottawa\n",
      "success Kahului\n",
      "success Pituffik\n",
      "error Kaimana-Papua Island\n",
      "error Carajas\n",
      "error Déline\n",
      "success Fuyuan\n",
      "success Valenca\n",
      "success Port-au-Prince\n",
      "success Vero Beach\n",
      "success Madurai\n",
      "success Mosjoen\n",
      "success Hubli\n",
      "error Makkovik\n",
      "success Myeik\n",
      "error Kosrae\n",
      "error Amami\n",
      "success New Orleans\n",
      "success Isafjordur\n",
      "success Las Tunas\n",
      "success Gunsan\n",
      "error North Connel\n",
      "success Kuopio\n",
      "success Medicine Hat\n",
      "success Devils Lake\n",
      "success Mumbai\n",
      "error Beida\n",
      "success Namsos\n",
      "success Tarija\n",
      "success Orange\n",
      "success Madang\n",
      "success Westport\n",
      "success Red Deer\n",
      "success Rijeka\n",
      "success Price\n",
      "success Lleida\n",
      "success Roskilde\n",
      "success Kigoma\n",
      "success Kenai\n",
      "error Poplar Hill\n",
      "success Teller\n",
      "success Bhubaneswar\n",
      "success Fort Simpson\n",
      "success Coventry\n",
      "success Arkhangelsk\n",
      "success Malindi\n",
      "success Ronne\n",
      "success Lafayette\n",
      "success Manassas\n",
      "success Ainsworth\n",
      "success Lovelock\n",
      "success Tres Lagoas\n",
      "success Fukue\n",
      "success Nanjing\n",
      "success Sapporo\n",
      "success Beira\n",
      "success Kwethluk\n",
      "success Attawapiskat\n",
      "success Beslan\n",
      "success Quibdo\n",
      "success Ipatinga\n",
      "success Florencia\n",
      "success Buon Ma Thuot\n",
      "success Bima\n",
      "success Lille\n",
      "success Johannesburg\n",
      "success Sialkot\n",
      "success Daytona Beach\n",
      "success Hilo\n",
      "success Kuala Lumpur\n",
      "success Chiclayo\n",
      "success Porto Velho\n",
      "success Dallesport\n",
      "success Redmond\n",
      "success Tulsa\n",
      "success Abu Dhabi\n",
      "success Buenaventura\n",
      "success Srinagar\n",
      "success Morgantown\n",
      "success Bundaberg\n",
      "success Bedford\n",
      "error Kattiniq\n",
      "success Culiacan\n",
      "success Dublin\n",
      "success Labuan\n",
      "error Ta'izz\n",
      "success Beziers\n",
      "success Norrkoping\n",
      "success Vadso\n",
      "success Camaguey\n",
      "success Rocky Mount\n",
      "success Pereira\n",
      "success Rayong\n",
      "success Monteria\n",
      "success Keene\n",
      "success Olympia\n",
      "success Puerto Leguízamo\n",
      "error Luang Prabang\n",
      "success Minneapolis\n",
      "success Bandar Abbas\n",
      "success Marion\n",
      "success Hambantota\n",
      "success Hokitika\n",
      "success Huron\n",
      "success Cherskiy\n",
      "success Rochester\n",
      "error Aupaluk\n",
      "success Nome\n",
      "success Iquique\n",
      "success Parkersburg\n",
      "success Knoxville\n",
      "success Udon Thani\n",
      "success Moab\n",
      "success Laramie\n",
      "success Rapid City\n",
      "success Friday Harbor\n",
      "success Cheyenne\n",
      "success Creil\n",
      "success Bloomington\n",
      "success Taif\n",
      "success Appleton\n",
      "success Turkmenbashi\n",
      "success Paderborn\n",
      "success Alta Floresta\n",
      "success Pangkal Pinang\n",
      "success Manistee\n",
      "success Ilheus\n",
      "error Semera\n",
      "success Cedar City\n",
      "success Reggio Calabria\n",
      "success Daşoguz\n",
      "success Hyannis\n",
      "success Karaganda\n",
      "success Yuma\n",
      "success Murmansk\n",
      "success Southern Pines\n",
      "success Maceio\n",
      "success Burtonwood\n",
      "success Hobart\n",
      "error Batu Licin-Borneo Island\n",
      "success Volgograd\n",
      "success Victoria Falls\n",
      "success Kisangani\n",
      "success San Pedro\n",
      "success Belem\n",
      "success Ketchikan\n",
      "success McCook\n",
      "success Battle Creek\n",
      "success Batsfjord\n",
      "success Bojnord\n",
      "success Moree\n",
      "success Acapulco\n",
      "error Tébessi\n",
      "success Cody\n",
      "success Merida\n",
      "success Sidney\n",
      "success Ubon Ratchathani\n",
      "success Vicksburg\n",
      "success Gibraltar\n",
      "success Lahore\n",
      "success Revelstoke\n",
      "success Bethel\n",
      "success Hofn\n",
      "success Fergana\n",
      "success Hooper Bay\n",
      "success Khartoum\n",
      "success Trail\n",
      "success Lubbock\n",
      "success Asuncion\n",
      "success Nuquí\n",
      "success Valledupar\n",
      "error Kasompe\n",
      "error Dillon's Bay\n",
      "error Kalskag\n",
      "error Dwangwa\n",
      "success Potosí\n",
      "error Eday\n",
      "error Karumba\n",
      "error Kithira\n",
      "error Hommalinn\n",
      "error Spring Point\n",
      "error Wunnummin Lake\n",
      "error North Spirit Lake\n",
      "error Baker Lake\n",
      "error Laos\n",
      "error Salluit\n",
      "error Oksibil-Papua Island\n",
      "error Londolovit\n",
      "error Ablow\n",
      "error Abu Simbel\n",
      "error Van Nuys\n",
      "error Qikiqtarjuaq\n",
      "error Liping\n",
      "error Ivalo\n",
      "error General Santos\n",
      "error Sampit Airport\n",
      "error Xieng Khouang\n",
      "error Omitama\n",
      "error Sawan\n",
      "error N'Gaoundéré\n",
      "error Memanbetsu\n",
      "success Bahía Solano\n",
      "error Seronera\n",
      "error Daocheng\n",
      "error Kashgar\n",
      "success Türkmenabat\n",
      "error Riyan\n",
      "error Nifty\n",
      "error Beni Mellal\n",
      "success Lázaro Cárdenas\n",
      "error Anua\n",
      "error Londolozi\n",
      "error Lands End\n"
     ]
    }
   ],
   "source": [
    "for c in error:\n",
    "    if c not in G.keys()+error2:\n",
    "        ys={\"pop\":0,\"nearby\":{}}\n",
    "        q=remove_accents(strip_accents('population of '+c.split('/')[0]+', '+unicities[c]))\n",
    "        res = client.query(q)\n",
    "        if 'pod' in res:\n",
    "            for i in range(len(res['pod'])):\n",
    "                if res['pod'][i]['@title']==\"Result\":\n",
    "                    x=res['pod'][i]['subpod']['plaintext']\n",
    "                    if 'available' not in x:\n",
    "                        popul=x[:x.find('people')-1]\n",
    "                        if 'mill' in popul:\n",
    "                            popul=popul[:popul.find('mill')-1]\n",
    "                            if '|' in popul:popul=popul.split('|')[1].strip()\n",
    "                        ys['pop']=int(float(popul)*1000000.0)\n",
    "                if res['pod'][i]['@title']==\"Nearby cities\":\n",
    "                    x=res['pod'][i]['subpod']['plaintext'].split('\\n')\n",
    "                    if 'available' not in x:\n",
    "                        for y in x[:-1]:\n",
    "                            people=y[y.rfind('|')+2:y.find('people')-1]\n",
    "                            if 'mill' in people:\n",
    "                                people=float(people[:people.find('mill')-1])*1000000.0\n",
    "                            km=float(y[y.find('|')+2:y.find(' km ')])\n",
    "                            ys['nearby'][y.split('|')[0].split(',')[0].strip()]={\"km\":km,\"people\":int(people)}\n",
    "                        G[c]=ys\n",
    "                        print 'success',c\n",
    "        else: \n",
    "            print 'error',c\n",
    "            error2.append(c)"
   ]
  },
  {
   "cell_type": "code",
   "execution_count": 29,
   "metadata": {
    "collapsed": false
   },
   "outputs": [
    {
     "name": "stdout",
     "output_type": "stream",
     "text": [
      "746 531 88\n"
     ]
    }
   ],
   "source": [
    "file(\"../json/pop3b.json\",'w').write(json.dumps(G))\n",
    "file(\"../json/pop3eb.json\",'w').write(json.dumps(error2))\n",
    "print len(G),len(error),len(error2)"
   ]
  },
  {
   "cell_type": "markdown",
   "metadata": {},
   "source": [
    "Re-reparse"
   ]
  },
  {
   "cell_type": "code",
   "execution_count": null,
   "metadata": {
    "collapsed": true
   },
   "outputs": [],
   "source": [
    "G=json.loads(file('../json/pop3b.json','r').read())\n",
    "error=json.loads(file('../json/pop3eb.json','r').read())"
   ]
  },
  {
   "cell_type": "code",
   "execution_count": 31,
   "metadata": {
    "collapsed": false
   },
   "outputs": [
    {
     "name": "stdout",
     "output_type": "stream",
     "text": [
      "154\n"
     ]
    }
   ],
   "source": [
    "error3=[]\n",
    "error4=[]\n",
    "uk=unicities.keys()\n",
    "for h in range(1800,2700):\n",
    "    c=uk[h]\n",
    "    if c not in G:\n",
    "        error3.append(c)\n",
    "print len(error3)"
   ]
  },
  {
   "cell_type": "code",
   "execution_count": 33,
   "metadata": {
    "collapsed": false,
    "scrolled": false
   },
   "outputs": [
    {
     "name": "stdout",
     "output_type": "stream",
     "text": [
      "error Leonora\n",
      "error Koh Samui\n",
      "error Isla De Culebra\n",
      "error Chlef\n",
      "error La Grande Riviere\n",
      "error Sogndal\n",
      "error Kitaakita\n",
      "error La Palma\n",
      "error Texada\n",
      "error Philippines\n",
      "error Daqing\n",
      "error Aden\n",
      "error Pico\n",
      "error Dominica\n",
      "error Gode\n",
      "error Hassi Messaoud\n",
      "error Naryan-Mar\n",
      "error Kelle\n",
      "error Essendon\n",
      "error Adak Island\n",
      "error Narrandera\n",
      "error Ghat\n",
      "error San Andres Island\n",
      "error Solomon Islands\n",
      "error Alor Island\n",
      "error Leros\n",
      "error Moro\n",
      "error Rost\n",
      "error Kinmen\n",
      "error Tongatapu\n",
      "error Værøy\n",
      "error Male\n",
      "error Morón\n",
      "error Tachilek\n",
      "error Algeria\n",
      "error Panjgur\n",
      "error Mulu\n",
      "error Lijiang\n",
      "error Goa\n",
      "error Ha'il\n",
      "error Arar\n",
      "error North Eleuthera\n",
      "error Germany\n",
      "error Kowanyama\n",
      "error Taraz\n",
      "error Vilhelmina\n",
      "error Barre-Montpelier\n",
      "error Providenciales\n",
      "error Papa Westray\n",
      "error Lakeba Island\n",
      "error Nosy Be\n",
      "error Gaua Island\n",
      "error Ravensthorpe\n",
      "error Karakelong Island\n",
      "error Paro\n",
      "error Atiu Island\n",
      "error Olga Bay\n",
      "error Sao Jorge\n",
      "error Sakon Nakhon\n",
      "error Thandwe\n",
      "error Sorriso\n",
      "error São Tomé and Principe\n",
      "error Kiritimati\n",
      "error Lencois\n",
      "error Daocheng\n",
      "error Aniwa\n",
      "error Kashgar\n",
      "error Riyan\n",
      "error Nifty\n",
      "error Alton-St Louis\n",
      "error Beni Mellal\n",
      "error Anua\n",
      "error Londolozi\n",
      "error Lands End\n"
     ]
    }
   ],
   "source": [
    "for c in error3:\n",
    "    if c not in G.keys()+error4:\n",
    "        ys={\"pop\":0,\"nearby\":{}}\n",
    "        q=remove_accents(strip_accents('population of '+c.split('/')[0]+', '+unicities[c]))\n",
    "        res = client.query(q)\n",
    "        good=True\n",
    "        if 'pod' in res:\n",
    "            for i in range(len(res['pod'])):\n",
    "                try:\n",
    "                    if res['pod'][i]['@title']==\"Result\":\n",
    "                        x=res['pod'][i]['subpod']['plaintext']\n",
    "                        if 'available' not in x:\n",
    "                            popul=x[:x.find('people')-1]\n",
    "                            if 'mill' in popul:\n",
    "                                popul=popul[:popul.find('mill')-1]\n",
    "                                if '|' in popul:popul=popul.split('|')[1].strip()\n",
    "                            ys['pop']=int(float(popul)*1000000.0)\n",
    "                    if res['pod'][i]['@title']==\"Nearby cities\":\n",
    "                        x=res['pod'][i]['subpod']['plaintext'].split('\\n')\n",
    "                        if 'available' not in x:\n",
    "                            for y in x[:-1]:\n",
    "                                people=y[y.rfind('|')+2:y.find('people')-1]\n",
    "                                if 'mill' in people:\n",
    "                                    people=float(people[:people.find('mill')-1])*1000000.0\n",
    "                                km=float(y[y.find('|')+2:y.find(' km ')])\n",
    "                                ys['nearby'][y.split('|')[0].split(',')[0].strip()]={\"km\":km,\"people\":int(people)}\n",
    "                            G[c]=ys\n",
    "                            print 'success',c\n",
    "                            good=False\n",
    "                except: pass\n",
    "        if good: \n",
    "            print 'error',c\n",
    "            error4.append(c)"
   ]
  },
  {
   "cell_type": "code",
   "execution_count": 34,
   "metadata": {
    "collapsed": false
   },
   "outputs": [
    {
     "name": "stdout",
     "output_type": "stream",
     "text": [
      "746 154\n"
     ]
    }
   ],
   "source": [
    "file(\"../json/pop3c.json\",'w').write(json.dumps(G))\n",
    "file(\"../json/pop3ec.json\",'w').write(json.dumps(error4))\n",
    "print len(G),len(error4)"
   ]
  }
 ],
 "metadata": {
  "anaconda-cloud": {},
  "kernelspec": {
   "display_name": "Python [conda root]",
   "language": "python",
   "name": "conda-root-py"
  },
  "language_info": {
   "codemirror_mode": {
    "name": "ipython",
    "version": 2
   },
   "file_extension": ".py",
   "mimetype": "text/x-python",
   "name": "python",
   "nbconvert_exporter": "python",
   "pygments_lexer": "ipython2",
   "version": "2.7.13"
  }
 },
 "nbformat": 4,
 "nbformat_minor": 1
}
