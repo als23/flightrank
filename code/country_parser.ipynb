{
 "cells": [
  {
   "cell_type": "code",
   "execution_count": 2,
   "metadata": {
    "collapsed": true
   },
   "outputs": [],
   "source": [
    "import pandas as pd, numpy as np, matplotlib.pyplot as plt, requests, urllib2\n",
    "from bs4 import BeautifulSoup\n",
    "%matplotlib inline"
   ]
  },
  {
   "cell_type": "code",
   "execution_count": 82,
   "metadata": {
    "collapsed": true
   },
   "outputs": [],
   "source": [
    "url='https://www.airportia.com/airports/'\n",
    "s = requests.Session()\n",
    "cookiesopen = s.get(url)\n",
    "cookies=str(s.cookies)\n",
    "fcookies=[[k[:k.find('=')],k[k.find('=')+1:k.find(' for ')]] for k in cookies[cookies.find('Cookie '):].split('Cookie ')[1:]]\n",
    "#push token\n",
    "opener = urllib2.build_opener()\n",
    "for k in fcookies:\n",
    "    opener.addheaders.append(('Cookie', k[0]+'='+k[1]))\n",
    "#read html\n",
    "content=s.get(url).content\n",
    "soup = BeautifulSoup(content, \"lxml\")"
   ]
  },
  {
   "cell_type": "code",
   "execution_count": 83,
   "metadata": {
    "collapsed": false
   },
   "outputs": [],
   "source": [
    "A=[]\n",
    "if len(soup.findAll(attrs={'class':'textlist'}))>0:\n",
    "    links=soup.findAll(attrs={'class':'textlist'})[1].findAll('a')\n",
    "A={str(i)[str(i).find('title')+7:str(i).find('>')-1]:str(i)[str(i).find('href')+6:str(i).find('title')-2]  for i in links}"
   ]
  },
  {
   "cell_type": "code",
   "execution_count": 84,
   "metadata": {
    "collapsed": false
   },
   "outputs": [
    {
     "data": {
      "text/plain": [
       "{'Afghanistan': '/afghanistan/',\n",
       " 'Albania': '/albania/',\n",
       " 'Algeria': '/algeria/',\n",
       " 'American Samoa': '/american-samoa/',\n",
       " 'Andorra': '/andorra/',\n",
       " 'Angola': '/angola/',\n",
       " 'Anguilla': '/anguilla/',\n",
       " 'Antarctica': '/antarctica/',\n",
       " 'Antigua And Barbuda': '/antigua-and-barbuda/',\n",
       " 'Argentina': '/argentina/',\n",
       " 'Armenia': '/armenia/',\n",
       " 'Aruba': '/aruba/',\n",
       " 'Australia': '/australia/',\n",
       " 'Austria': '/austria/',\n",
       " 'Azerbaijan': '/azerbaijan/',\n",
       " 'Bahamas': '/bahamas/',\n",
       " 'Bahrain': '/bahrain/',\n",
       " 'Bangladesh': '/bangladesh/',\n",
       " 'Barbados': '/barbados/',\n",
       " 'Belarus': '/belarus/',\n",
       " 'Belgium': '/belgium/',\n",
       " 'Belize': '/belize/',\n",
       " 'Benin': '/benin/',\n",
       " 'Bermuda': '/bermuda/',\n",
       " 'Bhutan': '/bhutan/',\n",
       " 'Bolivia': '/bolivia/',\n",
       " 'Bosnia And Herzegovina': '/bosnia-and-herzegovina/',\n",
       " 'Botswana': '/botswana/',\n",
       " 'Brazil': '/brazil/',\n",
       " 'British Virgin Islands': '/british-virgin-islands/',\n",
       " 'Brunei': '/brunei/',\n",
       " 'Bulgaria': '/bulgaria/',\n",
       " 'Burkina Faso': '/burkina-faso/',\n",
       " 'Burma': '/burma/',\n",
       " 'Burundi': '/burundi/',\n",
       " 'Cambodia': '/cambodia/',\n",
       " 'Cameroon': '/cameroon/',\n",
       " 'Canada': '/canada/',\n",
       " 'Cape Verde': '/cape-verde/',\n",
       " 'Caribbean Netherlands': '/caribbean-netherlands/',\n",
       " 'Cayman Islands': '/cayman-islands/',\n",
       " 'Central African Republic': '/central-african-republic/',\n",
       " 'Chad': '/chad/',\n",
       " 'Chile': '/chile/',\n",
       " 'China': '/china/',\n",
       " 'Cocos (Keeling) Islands': '/cocos/',\n",
       " 'Colombia': '/colombia/',\n",
       " 'Comoros': '/comoros/',\n",
       " 'Congo': '/congo/',\n",
       " 'Cook Islands': '/cook-islands/',\n",
       " 'Costa Rica': '/costa-rica/',\n",
       " \"Cote D'ivoire (Ivory Coast)\": '/ivory-coast/',\n",
       " 'Croatia': '/croatia/',\n",
       " 'Cuba': '/cuba/',\n",
       " 'Curacao': '/cura%C3%A7ao/',\n",
       " 'Cyprus': '/cyprus/',\n",
       " 'Czech Republic': '/czech-republic/',\n",
       " 'Democratic Republic Of The Congo': '/congo/',\n",
       " 'Denmark': '/denmark/',\n",
       " 'Djibouti': '/djibouti/',\n",
       " 'Dominica': '/dominica/',\n",
       " 'Dominican Republic': '/dominican-republic/',\n",
       " 'Ecuador': '/ecuador/',\n",
       " 'Egypt': '/egypt/',\n",
       " 'El Salvador': '/el-salvador/',\n",
       " 'Equatorial Guinea': '/equatorial-guinea/',\n",
       " 'Eritrea': '/eritrea/',\n",
       " 'Estonia': '/estonia/',\n",
       " 'Ethiopia': '/ethiopia/',\n",
       " 'Falkland Islands (Malvinas)': '/falkland-islands/',\n",
       " 'Faroe Islands': '/faroe-islands/',\n",
       " 'Fiji': '/fiji/',\n",
       " 'Finland': '/finland/',\n",
       " 'France': '/france/',\n",
       " 'French Guiana': '/french-guiana/',\n",
       " 'French Polynesia': '/french-polynesia/',\n",
       " 'Gabon': '/gabon/',\n",
       " 'Gambia': '/gambia/',\n",
       " 'Georgia': '/georgia/',\n",
       " 'Germany': '/germany/',\n",
       " 'Ghana': '/ghana/',\n",
       " 'Gibraltar': '/gibraltar/',\n",
       " 'Greece': '/greece/',\n",
       " 'Greenland': '/greenland/',\n",
       " 'Grenada': '/grenada/',\n",
       " 'Guadeloupe': '/guadeloupe/',\n",
       " 'Guam': '/guam/',\n",
       " 'Guatemala': '/guatemala/',\n",
       " 'Guinea': '/guinea/',\n",
       " 'Guinea-Bissau': '/guinea_bissau/',\n",
       " 'Guyana': '/guyana/',\n",
       " 'Haiti': '/haiti/',\n",
       " 'Honduras': '/honduras/',\n",
       " 'Hong Kong': '/hong-kong/',\n",
       " 'Hungary': '/hungary/',\n",
       " 'Iceland': '/iceland/',\n",
       " 'India': '/india/',\n",
       " 'Indonesia': '/indonesia/',\n",
       " 'Iran': '/iran/',\n",
       " 'Iraq': '/iraq/',\n",
       " 'Ireland': '/ireland/',\n",
       " 'Israel': '/israel/',\n",
       " 'Italy': '/italy/',\n",
       " 'Ivory Coast': '/ivory-coast/',\n",
       " 'Jamaica': '/jamaica/',\n",
       " 'Japan': '/japan/',\n",
       " 'Jordan': '/jordan/',\n",
       " 'Kazakhstan': '/kazakhstan/',\n",
       " 'Kenya': '/kenya/',\n",
       " 'Kiribati': '/kiribati/',\n",
       " 'Kosovo': '/kosovo/',\n",
       " 'Kuwait': '/kuwait/',\n",
       " 'Kyrgyzstan': '/kyrgyzstan/',\n",
       " 'Laos': '/laos/',\n",
       " 'Latvia': '/latvia/',\n",
       " 'Lebanon': '/lebanon/',\n",
       " 'Lesotho': '/lesotho/',\n",
       " 'Liberia': '/liberia/',\n",
       " 'Libya': '/libya/',\n",
       " 'Lithuania': '/lithuania/',\n",
       " 'Luxembourg': '/luxembourg/',\n",
       " 'Macedonia': '/macedonia/',\n",
       " 'Madagascar': '/madagascar/',\n",
       " 'Malawi': '/malawi/',\n",
       " 'Malaysia': '/malaysia/',\n",
       " 'Maldives': '/maldives/',\n",
       " 'Mali': '/mali/',\n",
       " 'Malta': '/malta/',\n",
       " 'Marshall Islands': '/marshall-islands/',\n",
       " 'Martinique': '/martinique/',\n",
       " 'Mauritania': '/mauritania/',\n",
       " 'Mauritius': '/mauritius/',\n",
       " 'Mayotte': '/mayotte/',\n",
       " 'Mexico': '/mexico/',\n",
       " 'Micronesia': '/micronesia/',\n",
       " 'Moldova': '/moldova/',\n",
       " 'Monaco': '/monaco/',\n",
       " 'Mongolia': '/mongolia/',\n",
       " 'Montenegro': '/montenegro/',\n",
       " 'Montserrat': '/montserrat/',\n",
       " 'Morocco': '/morocco/',\n",
       " 'Mozambique': '/mozambique/',\n",
       " 'Myanmar (Burma)': '/burma/',\n",
       " 'Namibia': '/namibia/',\n",
       " 'Nauru': '/nauru/',\n",
       " 'Nepal': '/nepal/',\n",
       " 'Netherlands': '/netherlands/',\n",
       " 'New Caledonia': '/new-caledonia/',\n",
       " 'New Zealand': '/new-zealand/',\n",
       " 'Nicaragua': '/nicaragua/',\n",
       " 'Niger': '/niger/',\n",
       " 'Nigeria': '/nigeria/',\n",
       " 'North Korea': '/north-korea/',\n",
       " 'Northern Mariana Islands': '/northern-mariana-islands/',\n",
       " 'Norway': '/norway/',\n",
       " 'Oman': '/oman/',\n",
       " 'Pakistan': '/pakistan/',\n",
       " 'Palau': '/palau/',\n",
       " 'Palestinian Territory': '/palestinian-territory/',\n",
       " 'Panama': '/panama/',\n",
       " 'Papua New Guinea': '/papua-new-guinea/',\n",
       " 'Paraguay': '/paraguay/',\n",
       " 'Per\\xc3\\xba': '/per%C3%BA/',\n",
       " 'Philippines': '/philippines/',\n",
       " 'Poland': '/poland/',\n",
       " 'Portugal': '/portugal/',\n",
       " 'Puerto Rico': '/puerto-rico/',\n",
       " 'Qatar': '/qatar/',\n",
       " 'Reunion': '/r%C3%A9union/',\n",
       " 'Romania': '/romania/',\n",
       " 'Russia': '/russia/',\n",
       " 'Rwanda': '/rwanda/',\n",
       " 'Saint Helena': '/saint-helena/',\n",
       " 'Saint Kitts And Nevis': '/saint-kitts-and-nevis/',\n",
       " 'Saint Lucia': '/saint-lucia/',\n",
       " 'Saint Pierre and Miquelon': '/saint-pierre-and-miquelon/',\n",
       " 'Saint Vincent and the Grenadines': '/saint-vincent-and-the-grenadines/',\n",
       " 'Samoa': '/samoa/',\n",
       " 'Saudi Arabia': '/saudi-arabia/',\n",
       " 'Senegal': '/senegal/',\n",
       " 'Serbia': '/serbia/',\n",
       " 'Seychelles': '/seychelles/',\n",
       " 'Sierra Leone': '/sierra-leone/',\n",
       " 'Singapore': '/singapore/',\n",
       " 'Slovakia': '/slovakia/',\n",
       " 'Slovenia': '/slovenia/',\n",
       " 'Solomon Islands': '/solomon-islands/',\n",
       " 'Somalia': '/somalia/',\n",
       " 'South Africa': '/south-africa/',\n",
       " 'South Korea': '/south-korea/',\n",
       " 'South Sudan': '/south-sudan/',\n",
       " 'Spain': '/spain/',\n",
       " 'Sri Lanka': '/sri-lanka/',\n",
       " 'Sudan': '/sudan/',\n",
       " 'Suriname': '/suriname/',\n",
       " 'Swaziland': '/swaziland/',\n",
       " 'Sweden': '/sweden/',\n",
       " 'Switzerland': '/switzerland/',\n",
       " 'Syria': '/syria/',\n",
       " 'S\\xc3\\xa3o Tom\\xc3\\xa9 and Principe': '/s%C3%A3o-tom%C3%A9-and-principe/',\n",
       " 'Taiwan': '/taiwan/',\n",
       " 'Tajikistan': '/tajikistan/',\n",
       " 'Tanzania': '/tanzania/',\n",
       " 'Thailand': '/thailand/',\n",
       " 'Timor-Leste': '/timor_leste/',\n",
       " 'Timor-Leste (East Timor)': '/timor_leste/',\n",
       " 'Togo': '/togo/',\n",
       " 'Tonga': '/tonga/',\n",
       " 'Trinidad And Tobago': '/trinidad-and-tobago/',\n",
       " 'Tunisia': '/tunisia/',\n",
       " 'Turkey': '/turkey/',\n",
       " 'Turkmenistan': '/turkmenistan/',\n",
       " 'Turks and Caicos Islands': '/turks-and-caicos-islands/',\n",
       " 'Tuvalu': '/tuvalu/',\n",
       " 'U.S. Virgin Islands': '/u.s.-virgin-islands/',\n",
       " 'Uganda': '/uganda/',\n",
       " 'Ukraine': '/ukraine/',\n",
       " 'United Arab Emirates': '/united-arab-emirates/',\n",
       " 'United Kingdom': '/united-kingdom/',\n",
       " 'United States': '/united-states/',\n",
       " 'United States Minor Outlying Islands': '/united-states-minor-outlying-islands/',\n",
       " 'Uruguay': '/uruguay/',\n",
       " 'Uzbekistan': '/uzbekistan/',\n",
       " 'Vanuatu': '/vanuatu/',\n",
       " 'Venezuela': '/venezuela/',\n",
       " 'Vietnam': '/vietnam/',\n",
       " 'Virgin Islands, British': '/british-virgin-islands/',\n",
       " 'Virgin Islands, Us': '/u.s.-virgin-islands/',\n",
       " 'Wallis And Futuna': '/wallis-and-futuna/',\n",
       " 'Western Sahara': '/western-sahara/',\n",
       " 'Yemen': '/yemen/',\n",
       " 'Zambia': '/zambia/',\n",
       " 'Zimbabwe': '/zimbabwe/'}"
      ]
     },
     "execution_count": 84,
     "metadata": {},
     "output_type": "execute_result"
    }
   ],
   "source": [
    "A"
   ]
  },
  {
   "cell_type": "markdown",
   "metadata": {},
   "source": [
    "Remove duplicates"
   ]
  },
  {
   "cell_type": "code",
   "execution_count": 85,
   "metadata": {
    "collapsed": true
   },
   "outputs": [],
   "source": [
    "D={}\n",
    "for i in A:\n",
    "    if A[i] not in D:D[A[i]]=[]\n",
    "    D[A[i]].append(i)\n",
    "for i in D:\n",
    "    if len(D[i])>1:\n",
    "        A.pop(D[i][0]);"
   ]
  },
  {
   "cell_type": "markdown",
   "metadata": {},
   "source": [
    "Capture airport lists"
   ]
  },
  {
   "cell_type": "code",
   "execution_count": 86,
   "metadata": {
    "collapsed": true
   },
   "outputs": [],
   "source": [
    "L={}\n",
    "M={}\n",
    "N={}\n",
    "F=[]\n",
    "baseurl='https://www.airportia.com'"
   ]
  },
  {
   "cell_type": "code",
   "execution_count": 87,
   "metadata": {
    "collapsed": false,
    "scrolled": true
   },
   "outputs": [
    {
     "name": "stdout",
     "output_type": "stream",
     "text": [
      "Success https://www.airportia.com/canada/\n",
      "Success https://www.airportia.com/turkmenistan/\n",
      "Success https://www.airportia.com/saint-helena/\n",
      "Success https://www.airportia.com/lithuania/\n",
      "Success https://www.airportia.com/cambodia/\n",
      "Success https://www.airportia.com/switzerland/\n",
      "Success https://www.airportia.com/ethiopia/\n",
      "Success https://www.airportia.com/aruba/\n",
      "Success https://www.airportia.com/swaziland/\n",
      "Success https://www.airportia.com/argentina/\n",
      "Success https://www.airportia.com/bolivia/\n",
      "Success https://www.airportia.com/cameroon/\n",
      "Success https://www.airportia.com/burkina-faso/\n",
      "Success https://www.airportia.com/ghana/\n",
      "Success https://www.airportia.com/saudi-arabia/\n",
      "Success https://www.airportia.com/japan/\n",
      "Success https://www.airportia.com/cape-verde/\n",
      "Success https://www.airportia.com/united-states-minor-outlying-islands/\n",
      "Success https://www.airportia.com/cocos/\n",
      "Success https://www.airportia.com/slovenia/\n",
      "Success https://www.airportia.com/guatemala/\n",
      "Success https://www.airportia.com/kuwait/\n",
      "Success https://www.airportia.com/jordan/\n",
      "Success https://www.airportia.com/dominica/\n",
      "Success https://www.airportia.com/liberia/\n",
      "Success https://www.airportia.com/maldives/\n",
      "Success https://www.airportia.com/jamaica/\n",
      "Success https://www.airportia.com/oman/\n",
      "Success https://www.airportia.com/tanzania/\n",
      "Success https://www.airportia.com/martinique/\n",
      "Success https://www.airportia.com/saint-kitts-and-nevis/\n",
      "Success https://www.airportia.com/zambia/\n",
      "Success https://www.airportia.com/albania/\n",
      "Success https://www.airportia.com/gabon/\n",
      "Success https://www.airportia.com/saint-pierre-and-miquelon/\n",
      "Success https://www.airportia.com/monaco/\n",
      "Success https://www.airportia.com/new-zealand/\n",
      "Success https://www.airportia.com/yemen/\n",
      "Success https://www.airportia.com/andorra/\n",
      "Success https://www.airportia.com/greenland/\n",
      "Success https://www.airportia.com/samoa/\n",
      "Success https://www.airportia.com/united-arab-emirates/\n",
      "Success https://www.airportia.com/guam/\n",
      "Success https://www.airportia.com/uruguay/\n",
      "Success https://www.airportia.com/india/\n",
      "Success https://www.airportia.com/azerbaijan/\n",
      "Success https://www.airportia.com/lesotho/\n",
      "Success https://www.airportia.com/saint-vincent-and-the-grenadines/\n",
      "Success https://www.airportia.com/kenya/\n",
      "Success https://www.airportia.com/south-korea/\n",
      "Success https://www.airportia.com/tajikistan/\n",
      "Success https://www.airportia.com/northern-mariana-islands/\n",
      "Success https://www.airportia.com/turkey/\n",
      "Success https://www.airportia.com/afghanistan/\n",
      "Success https://www.airportia.com/bangladesh/\n",
      "Success https://www.airportia.com/mauritania/\n",
      "Success https://www.airportia.com/solomon-islands/\n",
      "Success https://www.airportia.com/turks-and-caicos-islands/\n",
      "Success https://www.airportia.com/saint-lucia/\n",
      "Success https://www.airportia.com/hungary/\n",
      "Success https://www.airportia.com/french-polynesia/\n",
      "Success https://www.airportia.com/france/\n",
      "Success https://www.airportia.com/western-sahara/\n",
      "Success https://www.airportia.com/vietnam/\n",
      "Success https://www.airportia.com/bermuda/\n",
      "Success https://www.airportia.com/slovakia/\n",
      "Success https://www.airportia.com/somalia/\n",
      "Success https://www.airportia.com/laos/\n",
      "Success https://www.airportia.com/nauru/\n",
      "Success https://www.airportia.com/seychelles/\n",
      "Success https://www.airportia.com/norway/\n",
      "Success https://www.airportia.com/malawi/\n",
      "Success https://www.airportia.com/cook-islands/\n",
      "Success https://www.airportia.com/benin/\n",
      "Success https://www.airportia.com/wallis-and-futuna/\n",
      "Success https://www.airportia.com/cuba/\n",
      "Success https://www.airportia.com/montenegro/\n",
      "Success https://www.airportia.com/falkland-islands/\n",
      "Success https://www.airportia.com/togo/\n",
      "Success https://www.airportia.com/china/\n",
      "Success https://www.airportia.com/armenia/\n",
      "Success https://www.airportia.com/dominican-republic/\n",
      "Success https://www.airportia.com/mongolia/\n",
      "Success https://www.airportia.com/ukraine/\n",
      "Success https://www.airportia.com/bahrain/\n",
      "Success https://www.airportia.com/tonga/\n",
      "Success https://www.airportia.com/finland/\n",
      "Success https://www.airportia.com/libya/\n",
      "Success https://www.airportia.com/cayman-islands/\n",
      "Success https://www.airportia.com/central-african-republic/\n",
      "Success https://www.airportia.com/mauritius/\n",
      "Success https://www.airportia.com/sweden/\n",
      "Success https://www.airportia.com/australia/\n",
      "Success https://www.airportia.com/antigua-and-barbuda/\n",
      "Success https://www.airportia.com/mali/\n",
      "Success https://www.airportia.com/russia/\n",
      "Success https://www.airportia.com/bulgaria/\n",
      "Success https://www.airportia.com/united-states/\n",
      "Success https://www.airportia.com/romania/\n",
      "Success https://www.airportia.com/angola/\n",
      "Success https://www.airportia.com/chad/\n",
      "Success https://www.airportia.com/south-africa/\n",
      "Success https://www.airportia.com/cyprus/\n",
      "Success https://www.airportia.com/caribbean-netherlands/\n",
      "Success https://www.airportia.com/qatar/\n",
      "Success https://www.airportia.com/malaysia/\n",
      "Success https://www.airportia.com/austria/\n",
      "Success https://www.airportia.com/per%C3%BA/\n",
      "Success https://www.airportia.com/mozambique/\n",
      "Success https://www.airportia.com/uganda/\n",
      "Success https://www.airportia.com/british-virgin-islands/\n",
      "Success https://www.airportia.com/niger/\n",
      "Success https://www.airportia.com/brazil/\n",
      "Success https://www.airportia.com/faroe-islands/\n",
      "Success https://www.airportia.com/guinea/\n",
      "Success https://www.airportia.com/panama/\n",
      "Success https://www.airportia.com/costa-rica/\n",
      "Success https://www.airportia.com/luxembourg/\n",
      "Success https://www.airportia.com/american-samoa/\n",
      "Success https://www.airportia.com/bahamas/\n",
      "Success https://www.airportia.com/gibraltar/\n",
      "Success https://www.airportia.com/ireland/\n",
      "Success https://www.airportia.com/pakistan/\n",
      "Success https://www.airportia.com/palau/\n",
      "Success https://www.airportia.com/nigeria/\n",
      "Success https://www.airportia.com/ecuador/\n",
      "Success https://www.airportia.com/czech-republic/\n",
      "Success https://www.airportia.com/brunei/\n",
      "Success https://www.airportia.com/belarus/\n",
      "Success https://www.airportia.com/iran/\n",
      "Success https://www.airportia.com/algeria/\n",
      "Success https://www.airportia.com/el-salvador/\n",
      "Success https://www.airportia.com/tuvalu/\n",
      "Success https://www.airportia.com/marshall-islands/\n",
      "Success https://www.airportia.com/chile/\n",
      "Success https://www.airportia.com/puerto-rico/\n",
      "Success https://www.airportia.com/belgium/\n",
      "Success https://www.airportia.com/kiribati/\n",
      "Success https://www.airportia.com/haiti/\n",
      "Success https://www.airportia.com/belize/\n",
      "Success https://www.airportia.com/hong-kong/\n",
      "Success https://www.airportia.com/sierra-leone/\n",
      "Success https://www.airportia.com/georgia/\n",
      "Success https://www.airportia.com/gambia/\n",
      "Success https://www.airportia.com/philippines/\n",
      "Success https://www.airportia.com/moldova/\n",
      "Success https://www.airportia.com/morocco/\n",
      "Success https://www.airportia.com/croatia/\n",
      "Success https://www.airportia.com/micronesia/\n",
      "Success https://www.airportia.com/guinea_bissau/\n",
      "Success https://www.airportia.com/thailand/\n",
      "Success https://www.airportia.com/namibia/\n",
      "Success https://www.airportia.com/grenada/\n",
      "Success https://www.airportia.com/ivory-coast/\n",
      "Success https://www.airportia.com/u.s.-virgin-islands/\n",
      "Success https://www.airportia.com/iraq/\n",
      "Success https://www.airportia.com/portugal/\n",
      "Success https://www.airportia.com/estonia/\n",
      "Success https://www.airportia.com/kosovo/\n",
      "Success https://www.airportia.com/mexico/\n",
      "Success https://www.airportia.com/lebanon/\n",
      "Success https://www.airportia.com/uzbekistan/\n",
      "Success https://www.airportia.com/tunisia/\n",
      "Success https://www.airportia.com/djibouti/\n",
      "Success https://www.airportia.com/rwanda/\n",
      "Success https://www.airportia.com/timor_leste/\n",
      "Success https://www.airportia.com/spain/\n",
      "Success https://www.airportia.com/colombia/\n",
      "Success https://www.airportia.com/r%C3%A9union/\n",
      "Success https://www.airportia.com/burundi/\n",
      "Success https://www.airportia.com/taiwan/\n",
      "Success https://www.airportia.com/fiji/\n",
      "Success https://www.airportia.com/barbados/\n",
      "Success https://www.airportia.com/madagascar/\n",
      "Success https://www.airportia.com/italy/\n",
      "Success https://www.airportia.com/cura%C3%A7ao/\n",
      "Success https://www.airportia.com/bhutan/\n",
      "Success https://www.airportia.com/sudan/\n",
      "Success https://www.airportia.com/nepal/\n",
      "Success https://www.airportia.com/malta/\n",
      "Success https://www.airportia.com/netherlands/\n",
      "Success https://www.airportia.com/bosnia-and-herzegovina/\n",
      "Success https://www.airportia.com/suriname/\n",
      "Success https://www.airportia.com/anguilla/\n",
      "Success https://www.airportia.com/s%C3%A3o-tom%C3%A9-and-principe/\n",
      "Success https://www.airportia.com/israel/\n",
      "Success https://www.airportia.com/indonesia/\n",
      "Success https://www.airportia.com/iceland/\n",
      "Success https://www.airportia.com/venezuela/\n",
      "Success https://www.airportia.com/senegal/\n",
      "Success https://www.airportia.com/papua-new-guinea/\n",
      "Success https://www.airportia.com/zimbabwe/\n",
      "Success https://www.airportia.com/germany/\n",
      "Success https://www.airportia.com/vanuatu/\n",
      "Success https://www.airportia.com/denmark/\n",
      "Success https://www.airportia.com/kazakhstan/\n",
      "Success https://www.airportia.com/poland/\n",
      "Success https://www.airportia.com/eritrea/\n",
      "Success https://www.airportia.com/kyrgyzstan/\n",
      "Success https://www.airportia.com/palestinian-territory/\n",
      "Success https://www.airportia.com/mayotte/\n",
      "Success https://www.airportia.com/montserrat/\n",
      "Success https://www.airportia.com/new-caledonia/\n",
      "Success https://www.airportia.com/macedonia/\n",
      "Success https://www.airportia.com/north-korea/\n",
      "Success https://www.airportia.com/sri-lanka/\n",
      "Success https://www.airportia.com/latvia/\n",
      "Success https://www.airportia.com/south-sudan/\n",
      "Success https://www.airportia.com/guyana/\n",
      "Success https://www.airportia.com/syria/\n",
      "Success https://www.airportia.com/guadeloupe/\n",
      "Success https://www.airportia.com/burma/\n",
      "Success https://www.airportia.com/honduras/\n",
      "Success https://www.airportia.com/equatorial-guinea/\n",
      "Success https://www.airportia.com/egypt/\n",
      "Success https://www.airportia.com/nicaragua/\n",
      "Success https://www.airportia.com/singapore/\n",
      "Success https://www.airportia.com/serbia/\n",
      "Success https://www.airportia.com/botswana/\n",
      "Success https://www.airportia.com/united-kingdom/\n",
      "Success https://www.airportia.com/trinidad-and-tobago/\n",
      "Success https://www.airportia.com/antarctica/\n",
      "Success https://www.airportia.com/congo/\n",
      "Success https://www.airportia.com/greece/\n",
      "Success https://www.airportia.com/paraguay/\n",
      "Success https://www.airportia.com/french-guiana/\n",
      "Success https://www.airportia.com/comoros/\n"
     ]
    }
   ],
   "source": [
    "for c in A:\n",
    "    if c not in L or F:\n",
    "        #capture token\n",
    "        url=baseurl+A[c]\n",
    "        s = requests.Session()\n",
    "        cookiesopen = s.get(url)\n",
    "        cookies=str(s.cookies)\n",
    "        fcookies=[[k[:k.find('=')],k[k.find('=')+1:k.find(' for ')]] for k in cookies[cookies.find('Cookie '):].split('Cookie ')[1:]]\n",
    "        #push token\n",
    "        opener = urllib2.build_opener()\n",
    "        for k in fcookies:\n",
    "            opener.addheaders.append(('Cookie', k[0]+'='+k[1]))\n",
    "        #read html\n",
    "        content=s.get(url).content\n",
    "        soup = BeautifulSoup(content, \"lxml\")\n",
    "        if len(soup.findAll(attrs={'class':'textlist'}))>0:\n",
    "            links=soup.findAll(attrs={'class':'textlist'})[0].findAll('a')\n",
    "            L[c]=[str(i)[str(i).find('href')+6:str(i).find('title')-2] for i in links]\n",
    "            M[c]=[str(i)[str(i).find('title')+7:str(i).find('>')-1] for i in links]  \n",
    "            N[c]=[str(i)[str(i).find('<')-8:str(i).find('<')-5] for i in links]\n",
    "            print 'Success',url\n",
    "        else:\n",
    "            F.append(c)\n",
    "            print 'Fail',url"
   ]
  },
  {
   "cell_type": "code",
   "execution_count": 88,
   "metadata": {
    "collapsed": false
   },
   "outputs": [
    {
     "data": {
      "text/plain": [
       "[]"
      ]
     },
     "execution_count": 88,
     "metadata": {},
     "output_type": "execute_result"
    }
   ],
   "source": [
    "F"
   ]
  },
  {
   "cell_type": "markdown",
   "metadata": {},
   "source": [
    "Save links"
   ]
  },
  {
   "cell_type": "code",
   "execution_count": 89,
   "metadata": {
    "collapsed": true
   },
   "outputs": [],
   "source": [
    "import json\n",
    "file('../json/L.json','w').write(json.dumps(L))\n",
    "file('../json/M.json','w').write(json.dumps(M))\n",
    "file('../json/N.json','w').write(json.dumps(N))"
   ]
  },
  {
   "cell_type": "markdown",
   "metadata": {},
   "source": [
    "Create folder structure"
   ]
  },
  {
   "cell_type": "code",
   "execution_count": 90,
   "metadata": {
    "collapsed": true
   },
   "outputs": [],
   "source": [
    "iso2=pd.read_html('https://en.wikipedia.org/wiki/ISO_3166-1_alpha-2')"
   ]
  },
  {
   "cell_type": "code",
   "execution_count": 91,
   "metadata": {
    "collapsed": false
   },
   "outputs": [],
   "source": [
    "I2={}\n",
    "for i in iso2[2].T.set_index(0).iteritems():\n",
    "    country=i[1][1]\n",
    "    code=i[1][0]\n",
    "    if str(code)=='nan':code=u'NA'\n",
    "    I2[country]=code"
   ]
  },
  {
   "cell_type": "code",
   "execution_count": 92,
   "metadata": {
    "collapsed": true
   },
   "outputs": [],
   "source": [
    "cnc_path='../../universal/countries/'\n",
    "cnc=pd.read_excel(cnc_path+'cnc.xlsx').set_index('Name')"
   ]
  },
  {
   "cell_type": "code",
   "execution_count": 93,
   "metadata": {
    "collapsed": false
   },
   "outputs": [],
   "source": [
    "I3={}\n",
    "err=[]\n",
    "for i in L:\n",
    "    if i in I2:\n",
    "        I3[i]=I2[i]\n",
    "    elif i in cnc.columns:\n",
    "        I3[i]=cnc.loc['ISO2'][i]\n",
    "    else: err.append(i)"
   ]
  },
  {
   "cell_type": "code",
   "execution_count": 94,
   "metadata": {
    "collapsed": false
   },
   "outputs": [
    {
     "data": {
      "text/plain": [
       "['Saint Helena',\n",
       " 'Wallis And Futuna',\n",
       " 'Palestinian Territory',\n",
       " 'Saint Kitts And Nevis',\n",
       " 'South Korea',\n",
       " 'Laos',\n",
       " 'Antigua And Barbuda',\n",
       " 'Russia',\n",
       " 'Caribbean Netherlands',\n",
       " 'Syria',\n",
       " 'Brunei',\n",
       " 'Moldova',\n",
       " \"Cote D'ivoire (Ivory Coast)\",\n",
       " 'U.S. Virgin Islands',\n",
       " 'Reunion',\n",
       " 'Curacao',\n",
       " 'Micronesia',\n",
       " 'Bosnia And Herzegovina',\n",
       " 'S\\xc3\\xa3o Tom\\xc3\\xa9 and Principe',\n",
       " 'Macedonia',\n",
       " 'North Korea',\n",
       " 'Per\\xc3\\xba',\n",
       " 'Burma',\n",
       " 'Trinidad And Tobago']"
      ]
     },
     "execution_count": 94,
     "metadata": {},
     "output_type": "execute_result"
    }
   ],
   "source": [
    "err"
   ]
  },
  {
   "cell_type": "markdown",
   "metadata": {},
   "source": [
    "Manual fix conflicts"
   ]
  },
  {
   "cell_type": "code",
   "execution_count": 95,
   "metadata": {
    "collapsed": true
   },
   "outputs": [],
   "source": [
    "E2={\n",
    " 'Saint Helena':'SH',\n",
    " 'Wallis And Futuna':'WF',\n",
    " 'Palestinian Territory':'PS',\n",
    " 'Saint Kitts And Nevis':'KN',\n",
    " 'South Korea':'KR',\n",
    " 'Laos':'LA',\n",
    " 'Antigua And Barbuda':'AG',\n",
    " 'Russia':'RU',\n",
    " 'Caribbean Netherlands':'BQ',\n",
    " 'Syria':'SY',\n",
    " 'Brunei':'BN',\n",
    " 'Moldova':'MD',\n",
    " \"Cote D'ivoire (Ivory Coast)\":'CI',\n",
    " 'U.S. Virgin Islands':'VI',\n",
    " 'Reunion':'RE',\n",
    " 'Curacao':'CW',\n",
    " 'Micronesia':'FM',\n",
    " 'Bosnia And Herzegovina':'BA',\n",
    " 'S\\xc3\\xa3o Tom\\xc3\\xa9 and Principe':'ST',\n",
    " 'Macedonia':'MK',\n",
    " 'North Korea':'KP',\n",
    " 'Per\\xc3\\xba':'PE',\n",
    " 'Burma':'MM',\n",
    " 'Trinidad And Tobago':'TT'\n",
    "}"
   ]
  },
  {
   "cell_type": "code",
   "execution_count": 100,
   "metadata": {
    "collapsed": true
   },
   "outputs": [],
   "source": [
    "for i in E2:\n",
    "    I3[i]=E2[i]"
   ]
  },
  {
   "cell_type": "code",
   "execution_count": 118,
   "metadata": {
    "collapsed": true
   },
   "outputs": [],
   "source": [
    "I3['Kosovo']='XK'"
   ]
  },
  {
   "cell_type": "code",
   "execution_count": 104,
   "metadata": {
    "collapsed": false
   },
   "outputs": [
    {
     "data": {
      "text/plain": [
       "True"
      ]
     },
     "execution_count": 104,
     "metadata": {},
     "output_type": "execute_result"
    }
   ],
   "source": [
    "len(I3)==len(A)"
   ]
  },
  {
   "cell_type": "code",
   "execution_count": 119,
   "metadata": {
    "collapsed": true
   },
   "outputs": [],
   "source": [
    "file('../json/I3.json','w').write(json.dumps(I3))"
   ]
  },
  {
   "cell_type": "markdown",
   "metadata": {},
   "source": [
    "Save"
   ]
  },
  {
   "cell_type": "code",
   "execution_count": 109,
   "metadata": {
    "collapsed": false
   },
   "outputs": [],
   "source": [
    "pd.DataFrame(I3,index=['ISO2']).to_csv(cnc_path+'cnc.csv')\n",
    "#then manually edit, create legible"
   ]
  },
  {
   "cell_type": "code",
   "execution_count": 112,
   "metadata": {
    "collapsed": false
   },
   "outputs": [
    {
     "data": {
      "text/html": [
       "<div>\n",
       "<table border=\"1\" class=\"dataframe\">\n",
       "  <thead>\n",
       "    <tr style=\"text-align: right;\">\n",
       "      <th></th>\n",
       "      <th>Afghanistan</th>\n",
       "      <th>Albania</th>\n",
       "      <th>Algeria</th>\n",
       "      <th>American Samoa</th>\n",
       "      <th>Andorra</th>\n",
       "      <th>Angola</th>\n",
       "      <th>Anguilla</th>\n",
       "      <th>Antarctica</th>\n",
       "      <th>Antigua And Barbuda</th>\n",
       "      <th>Argentina</th>\n",
       "      <th>...</th>\n",
       "      <th>Uruguay</th>\n",
       "      <th>Uzbekistan</th>\n",
       "      <th>Vanuatu</th>\n",
       "      <th>Venezuela</th>\n",
       "      <th>Vietnam</th>\n",
       "      <th>Wallis And Futuna</th>\n",
       "      <th>Western Sahara</th>\n",
       "      <th>Yemen</th>\n",
       "      <th>Zambia</th>\n",
       "      <th>Zimbabwe</th>\n",
       "    </tr>\n",
       "    <tr>\n",
       "      <th>index</th>\n",
       "      <th></th>\n",
       "      <th></th>\n",
       "      <th></th>\n",
       "      <th></th>\n",
       "      <th></th>\n",
       "      <th></th>\n",
       "      <th></th>\n",
       "      <th></th>\n",
       "      <th></th>\n",
       "      <th></th>\n",
       "      <th></th>\n",
       "      <th></th>\n",
       "      <th></th>\n",
       "      <th></th>\n",
       "      <th></th>\n",
       "      <th></th>\n",
       "      <th></th>\n",
       "      <th></th>\n",
       "      <th></th>\n",
       "      <th></th>\n",
       "      <th></th>\n",
       "    </tr>\n",
       "  </thead>\n",
       "  <tbody>\n",
       "    <tr>\n",
       "      <th>ISO2</th>\n",
       "      <td>AF</td>\n",
       "      <td>AL</td>\n",
       "      <td>DZ</td>\n",
       "      <td>AS</td>\n",
       "      <td>AD</td>\n",
       "      <td>AO</td>\n",
       "      <td>AI</td>\n",
       "      <td>AQ</td>\n",
       "      <td>AG</td>\n",
       "      <td>AR</td>\n",
       "      <td>...</td>\n",
       "      <td>UY</td>\n",
       "      <td>UZ</td>\n",
       "      <td>VU</td>\n",
       "      <td>VE</td>\n",
       "      <td>VN</td>\n",
       "      <td>WF</td>\n",
       "      <td>EH</td>\n",
       "      <td>YE</td>\n",
       "      <td>ZM</td>\n",
       "      <td>ZW</td>\n",
       "    </tr>\n",
       "    <tr>\n",
       "      <th>pretty</th>\n",
       "      <td>Afghanistan</td>\n",
       "      <td>Albania</td>\n",
       "      <td>Algeria</td>\n",
       "      <td>American Samoa</td>\n",
       "      <td>Andorra</td>\n",
       "      <td>Angola</td>\n",
       "      <td>Anguilla</td>\n",
       "      <td>Antarctica</td>\n",
       "      <td>Antigua &amp; Barbuda</td>\n",
       "      <td>Argentina</td>\n",
       "      <td>...</td>\n",
       "      <td>Uruguay</td>\n",
       "      <td>Uzbekistan</td>\n",
       "      <td>Vanuatu</td>\n",
       "      <td>Venezuela</td>\n",
       "      <td>Vietnam</td>\n",
       "      <td>Wallis &amp; Futuna</td>\n",
       "      <td>Western Sahara</td>\n",
       "      <td>Yemen</td>\n",
       "      <td>Zambia</td>\n",
       "      <td>Zimbabwe</td>\n",
       "    </tr>\n",
       "  </tbody>\n",
       "</table>\n",
       "<p>2 rows × 227 columns</p>\n",
       "</div>"
      ],
      "text/plain": [
       "        Afghanistan  Albania  Algeria  American Samoa  Andorra  Angola  \\\n",
       "index                                                                    \n",
       "ISO2             AF       AL       DZ              AS       AD      AO   \n",
       "pretty  Afghanistan  Albania  Algeria  American Samoa  Andorra  Angola   \n",
       "\n",
       "        Anguilla  Antarctica Antigua And Barbuda  Argentina    ...     \\\n",
       "index                                                          ...      \n",
       "ISO2          AI          AQ                  AG         AR    ...      \n",
       "pretty  Anguilla  Antarctica   Antigua & Barbuda  Argentina    ...      \n",
       "\n",
       "        Uruguay  Uzbekistan  Vanuatu  Venezuela  Vietnam Wallis And Futuna  \\\n",
       "index                                                                        \n",
       "ISO2         UY          UZ       VU         VE       VN                WF   \n",
       "pretty  Uruguay  Uzbekistan  Vanuatu  Venezuela  Vietnam   Wallis & Futuna   \n",
       "\n",
       "        Western Sahara  Yemen  Zambia  Zimbabwe  \n",
       "index                                            \n",
       "ISO2                EH     YE      ZM        ZW  \n",
       "pretty  Western Sahara  Yemen  Zambia  Zimbabwe  \n",
       "\n",
       "[2 rows x 227 columns]"
      ]
     },
     "execution_count": 112,
     "metadata": {},
     "output_type": "execute_result"
    }
   ],
   "source": [
    "cnc=pd.read_csv(cnc_path+'cnc.csv').set_index('index')\n",
    "cnc"
   ]
  },
  {
   "cell_type": "markdown",
   "metadata": {},
   "source": [
    "Create folder structure"
   ]
  },
  {
   "cell_type": "code",
   "execution_count": 24,
   "metadata": {
    "collapsed": true
   },
   "outputs": [],
   "source": [
    "import os.path"
   ]
  },
  {
   "cell_type": "code",
   "execution_count": 120,
   "metadata": {
    "collapsed": false
   },
   "outputs": [],
   "source": [
    "for i in I3:\n",
    "    directory='../countries/'+I3[i].lower()\n",
    "    if not os.path.exists(directory) :\n",
    "        os.makedirs(directory)\n",
    "    for j in ['code','d3','json','map']:\n",
    "        if not os.path.exists(directory+'/'+j):\n",
    "            os.makedirs(directory+'/'+j)\n",
    "        "
   ]
  }
 ],
 "metadata": {
  "kernelspec": {
   "display_name": "Python [conda root]",
   "language": "python",
   "name": "conda-root-py"
  },
  "language_info": {
   "codemirror_mode": {
    "name": "ipython",
    "version": 2
   },
   "file_extension": ".py",
   "mimetype": "text/x-python",
   "name": "python",
   "nbconvert_exporter": "python",
   "pygments_lexer": "ipython2",
   "version": "2.7.13"
  }
 },
 "nbformat": 4,
 "nbformat_minor": 2
}
