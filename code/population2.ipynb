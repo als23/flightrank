{
 "cells": [
  {
   "cell_type": "code",
   "execution_count": 49,
   "metadata": {
    "collapsed": true
   },
   "outputs": [],
   "source": [
    "import pandas as pd, json, numpy as np\n",
    "import matplotlib.pyplot as plt\n",
    "%matplotlib inline"
   ]
  },
  {
   "cell_type": "code",
   "execution_count": 50,
   "metadata": {
    "collapsed": false
   },
   "outputs": [],
   "source": [
    "cluster=json.loads(file('../json/cluster.json','r').read())\n",
    "citysave=json.loads(file('../json/citysave.json','r').read())"
   ]
  },
  {
   "cell_type": "code",
   "execution_count": 51,
   "metadata": {
    "collapsed": false
   },
   "outputs": [],
   "source": [
    "import wolframalpha\n",
    "app_id='A4TU9P-E3QAGQJL39'\n",
    "#dcsala@masdar.ac.ae\n",
    "client = wolframalpha.Client(app_id)"
   ]
  },
  {
   "cell_type": "code",
   "execution_count": 52,
   "metadata": {
    "collapsed": false
   },
   "outputs": [],
   "source": [
    "unicities={}\n",
    "for i in cluster:\n",
    "    if cluster[i] not in unicities:\n",
    "        unicities[cluster[i]]=citysave[i]['country']"
   ]
  },
  {
   "cell_type": "code",
   "execution_count": 53,
   "metadata": {
    "collapsed": true
   },
   "outputs": [],
   "source": [
    "G={}\n",
    "error=[]"
   ]
  },
  {
   "cell_type": "code",
   "execution_count": 8,
   "metadata": {
    "collapsed": false
   },
   "outputs": [
    {
     "name": "stdout",
     "output_type": "stream",
     "text": [
      "900 901 902 903 904 905 906 907 908 909 910 911 912 913 914 915 916 917 918 919 920 921 922 923 924 925 926 927 928 929 930 931 932 933 934 935 936 937 938 939 940 941 942 943 944 945 946 947 948 949 950 951 952 953 954 955 956 957 958 959 960 961 962 963 964 965 966 967 968 969 970 971 972 973 974 975 976 977 978 979 980 981 982 983 984 985 986 987 988 989 990 991 992 993 994 995 996 997 998 999 1000 1001 1002 1003 1004 1005 1006 1007 1008 1009 1010 1011 1012 1013 1014 1015 1016 1017 1018 1019 1020 1021 1022 1023 1024 1025 1026 1027 1028 1029 1030 1031 1032 1033 1034 1035 1036 1037 1038 1039 1040 1041 1042 1043 1044 1045 1046 1047 1048 1049 1050 1051 1052 1053 1054 1055 1056 1057 1058 1059 1060 1061 1062 1063 1064 1065 1066 1067 1068 1069 1070 1071 1072 1073 1074 1075 1076 1077 1078 1079 1080 1081 1082 1083 1084 1085 1086 1087 1088 1089 1090 1091 1092 1093 1094 1095 1096 1097 1098 1099 1100 1101 1102 1103 1104 1105 1106 1107 1108 1109 1110 1111 1112 1113 1114 1115 1116 1117 1118 1119 1120 1121 1122 1123 1124 1125 1126 1127 1128 1129 1130 1131 1132 1133 1134 1135 1136 1137 1138 1139 1140 1141 1142 1143 1144 1145 1146 1147 1148 1149 1150 1151 1152 1153 1154 1155 1156 1157 1158 1159 1160 1161 1162 1163 1164 1165 1166 1167 1168 1169 1170 1171 1172 1173 1174 1175 1176 1177 1178 1179 1180 1181 1182 1183 1184 1185 1186 1187 1188 1189 1190 1191 1192 1193 1194 1195 1196 1197 1198 1199 1200 1201 1202 1203 1204 1205 1206 1207 1208 1209 1210 1211 1212 1213 1214 1215 1216 1217 1218 1219 1220 1221 1222 1223 1224 1225 1226 1227 1228 1229 1230 1231 1232 1233 1234 1235 1236 1237 1238 1239 1240 1241 1242 1243 1244 1245 1246 1247 1248 1249 1250 1251 1252 1253 1254 1255 1256 1257 1258 1259 1260 1261 1262 1263 1264 1265 1266 1267 1268 1269 1270 1271 1272 1273 1274 1275 1276 1277 1278 1279 1280 1281 1282 1283 1284 1285 1286 1287 1288 1289 1290 1291 1292 1293 1294 1295 1296 1297 1298 1299 1300 1301 1302 1303 1304 1305 1306 1307 1308 1309 1310 1311 1312 1313 1314 1315 1316 1317 1318 1319 1320 1321 1322 1323 1324 1325 1326 1327 1328 1329 1330 1331 1332 1333 1334 1335 1336 1337 1338 1339 1340 1341 1342 1343 1344 1345 1346 1347 1348 1349 1350 1351 1352 1353 1354 1355 1356 1357 1358 1359 1360 1361 1362 1363 1364 1365 1366 1367 1368 1369 1370 1371 1372 1373 1374 1375 1376 1377 1378 1379 1380 1381 1382 1383 1384 1385 1386 1387 1388 1389 1390 1391 1392 1393 1394 1395 1396 1397 1398 1399 1400 1401 1402 1403 1404 1405 1406 1407 1408 1409 1410 1411 1412 1413 1414 1415 1416 1417 1418 1419 1420 1421 1422 1423 1424 1425 1426 1427 1428 1429 1430 1431 1432 1433 1434 1435 1436 1437 1438 1439 1440 1441 1442 1443 1444 1445 1446 1447 1448 1449 1450 1451 1452 1453 1454 1455 1456 1457 1458 1459 1460 1461 1462 1463 1464 1465 1466 1467 1468 1469 1470 1471 1472 1473 1474 1475 1476 1477 1478 1479 1480 1481 1482 1483 1484 1485 1486 1487 1488 1489 1490 1491 1492 1493 1494 1495 1496 1497 1498 1499 1500 1501 1502 1503 1504 1505 1506 1507 1508 1509 1510 1511 1512 1513 1514 1515 1516 1517 1518 1519 1520 1521 1522 1523 1524 1525 1526 1527 1528 1529 1530 1531 1532 1533 1534 1535 1536 1537 1538 1539 1540 1541 1542 1543 1544 1545 1546 1547 1548 1549 1550 1551 1552 1553 1554 1555 1556 1557 1558 1559 1560 1561 1562 1563 1564 1565 1566 1567 1568 1569 1570 1571 1572 1573 1574 1575 1576 1577 1578 1579 1580 1581 1582 1583 1584 1585 1586 1587 1588 1589 1590 1591 1592 1593 1594 1595 1596 1597 1598 1599 1600 1601 1602 1603 1604 1605 1606 1607 1608 1609 1610 1611 1612 1613 1614 1615 1616 1617 1618 1619 1620 1621 1622 1623 1624 1625 1626 1627 1628 1629 1630 1631 1632 1633 1634 1635 1636 1637 1638 1639 1640 1641 1642 1643 1644 1645 1646 1647 1648 1649 1650 1651 1652 1653 1654 1655 1656 1657 1658 1659 1660 1661 1662 1663 1664 1665 1666 1667 1668 1669 1670 1671 1672 1673 1674 1675 1676 1677 1678 1679 1680 1681 1682 1683 1684 1685 1686 1687 1688 1689 1690 1691 1692 1693 1694 1695 1696 1697 1698 1699 1700 1701 1702 1703 1704 1705 1706 1707 1708 1709 1710 1711 1712 1713 1714 1715 1716 1717 1718 1719 1720 1721 1722 1723 1724 1725 1726 1727 1728 1729 1730 1731 1732 1733 1734 1735 1736 1737 1738 1739 1740 1741 1742 1743 1744 1745 1746 1747 1748 1749 1750 1751 1752 1753 1754 1755 1756 1757 1758 1759 1760 1761 1762 1763 1764 1765 1766 1767 1768 1769 1770 1771 1772 1773 1774 1775 1776 1777 1778 1779 1780 1781 1782 1783 1784 1785 1786 1787 1788 1789 1790 1791 1792 1793 1794 1795 1796 1797 1798 1799\n"
     ]
    }
   ],
   "source": [
    "uk=unicities.keys()\n",
    "for h in range(900,1800):\n",
    "    c=uk[h]\n",
    "    if c not in G.keys()+error:\n",
    "        print h,\n",
    "        ys={\"pop\":0,\"nearby\":{}}\n",
    "        q='population of '+c+', '+unicities[c]\n",
    "        try:\n",
    "            res = client.query(q)\n",
    "            for i in range(len(res['pod'])):\n",
    "                if res['pod'][i]['@title']==\"Result\":\n",
    "                    x=res['pod'][i]['subpod']['plaintext']\n",
    "                    popul=x[:x.find('people')-1]\n",
    "                    if 'mill' in popul:\n",
    "                            popul=float(popul[:popul.find('mill')-1])*1000000.0\n",
    "                    ys['pop']=int(popul)\n",
    "                if res['pod'][i]['@title']==\"Nearby cities\":\n",
    "                    x=res['pod'][i]['subpod']['plaintext'].split('\\n')\n",
    "                    for y in x[:-1]:\n",
    "                        people=y[y.rfind('|')+2:y.find('people')-1]\n",
    "                        if 'mill' in people:\n",
    "                            people=float(people[:people.find('mill')-1])*1000000.0\n",
    "                        km=float(y[y.find('|')+2:y.find('km')-1])\n",
    "                        ys['nearby'][y.split('|')[0].split(',')[0].strip()]={\"km\":km,\"people\":int(people)}\n",
    "            G[c]=ys\n",
    "        except: error.append(c)"
   ]
  },
  {
   "cell_type": "code",
   "execution_count": 13,
   "metadata": {
    "collapsed": false
   },
   "outputs": [],
   "source": [
    "file(\"../json/pop2.json\",'w').write(json.dumps(G))\n",
    "file(\"../json/pop2e.json\",'w').write(json.dumps(error))"
   ]
  },
  {
   "cell_type": "markdown",
   "metadata": {
    "collapsed": true
   },
   "source": [
    "Postprocessing"
   ]
  },
  {
   "cell_type": "code",
   "execution_count": 54,
   "metadata": {
    "collapsed": true
   },
   "outputs": [],
   "source": [
    "G=json.loads(file('../json/pop2.json','r').read())\n",
    "error=json.loads(file('../json/pop2e.json','r').read())"
   ]
  },
  {
   "cell_type": "code",
   "execution_count": 55,
   "metadata": {
    "collapsed": true
   },
   "outputs": [],
   "source": [
    "error2=[]"
   ]
  },
  {
   "cell_type": "code",
   "execution_count": 56,
   "metadata": {
    "collapsed": true
   },
   "outputs": [],
   "source": [
    "import unicodedata\n",
    "def strip_accents(s):\n",
    "   return ''.join(c for c in unicodedata.normalize('NFD', s)\n",
    "                  if unicodedata.category(c) != 'Mn')\n",
    "def remove_accents(input_str):\n",
    "    nfkd_form = unicodedata.normalize('NFKD', input_str)\n",
    "    only_ascii = nfkd_form.encode('ASCII', 'ignore')\n",
    "    return only_ascii"
   ]
  },
  {
   "cell_type": "code",
   "execution_count": null,
   "metadata": {
    "collapsed": false
   },
   "outputs": [],
   "source": [
    "for c in error:\n",
    "    if c not in G.keys()+error2:\n",
    "        ys={\"pop\":0,\"nearby\":{}}\n",
    "        q=remove_accents(strip_accents('population of '+c.split('/')[0]+', '+unicities[c]))\n",
    "        res = client.query(q)\n",
    "        if 'pod' in res:\n",
    "            for i in range(len(res['pod'])):\n",
    "                if res['pod'][i]['@title']==\"Result\":\n",
    "                    x=res['pod'][i]['subpod']['plaintext']\n",
    "                    if 'available' not in x:\n",
    "                        popul=x[:x.find('people')-1]\n",
    "                        if 'mill' in popul:\n",
    "                            popul=popul[:popul.find('mill')-1]\n",
    "                            if '|' in popul:popul=popul.split('|')[1].strip()\n",
    "                        ys['pop']=int(float(popul)*1000000.0)\n",
    "                if res['pod'][i]['@title']==\"Nearby cities\":\n",
    "                    x=res['pod'][i]['subpod']['plaintext'].split('\\n')\n",
    "                    if 'available' not in x:\n",
    "                        for y in x[:-1]:\n",
    "                            people=y[y.rfind('|')+2:y.find('people')-1]\n",
    "                            if 'mill' in people:\n",
    "                                people=float(people[:people.find('mill')-1])*1000000.0\n",
    "                            km=float(y[y.find('|')+2:y.find(' km ')])\n",
    "                            ys['nearby'][y.split('|')[0].split(',')[0].strip()]={\"km\":km,\"people\":int(people)}\n",
    "                        G[c]=ys\n",
    "                        print 'success',c\n",
    "        else: \n",
    "            print 'error',c\n",
    "            error2.append(c)"
   ]
  },
  {
   "cell_type": "code",
   "execution_count": 19,
   "metadata": {
    "collapsed": false
   },
   "outputs": [
    {
     "name": "stdout",
     "output_type": "stream",
     "text": [
      "729 655 69\n"
     ]
    }
   ],
   "source": [
    "file(\"../json/pop2b.json\",'w').write(json.dumps(G))\n",
    "file(\"../json/pop2eb.json\",'w').write(json.dumps(error2))\n",
    "print len(G),len(error),len(error2)"
   ]
  },
  {
   "cell_type": "markdown",
   "metadata": {},
   "source": [
    "Re-reparse"
   ]
  },
  {
   "cell_type": "code",
   "execution_count": 57,
   "metadata": {
    "collapsed": true
   },
   "outputs": [],
   "source": [
    "G=json.loads(file('../json/pop2b.json','r').read())\n",
    "error=json.loads(file('../json/pop2eb.json','r').read())"
   ]
  },
  {
   "cell_type": "code",
   "execution_count": 58,
   "metadata": {
    "collapsed": false
   },
   "outputs": [
    {
     "name": "stdout",
     "output_type": "stream",
     "text": [
      "171\n"
     ]
    }
   ],
   "source": [
    "error3=[]\n",
    "error4=[]\n",
    "uk=unicities.keys()\n",
    "for h in range(900,1800):\n",
    "    c=uk[h]\n",
    "    if c not in G:\n",
    "        error3.append(c)\n",
    "print len(error3)"
   ]
  },
  {
   "cell_type": "code",
   "execution_count": 67,
   "metadata": {
    "collapsed": false
   },
   "outputs": [
    {
     "name": "stdout",
     "output_type": "stream",
     "text": [
      "error Ethiopia\n",
      "error Matei\n",
      "error Nevis\n",
      "error Colville Lake\n",
      "error Mont-Joli\n",
      "error Samburu South\n",
      "error Kebar\n",
      "error Kingfisher Lake\n",
      "error Australia\n",
      "error Larantuka\n",
      "error Djibouti\n",
      "error Malawi\n",
      "error Yangyang\n",
      "error Lebanon\n",
      "error Kastelorizo Island\n",
      "error Anglesey\n",
      "error South Andros\n",
      "error Islay\n",
      "error Zhezkazgan\n",
      "error Songpan\n",
      "error Saudi Arabia\n",
      "error Tawitawi\n",
      "error Mahshahr\n",
      "error Dikson\n",
      "error Tennant Creek\n",
      "error Barter Island\n",
      "error Atka\n",
      "error Pajala\n",
      "error Bermuda\n",
      "error Peru\n",
      "error Benin\n",
      "error Virgin Gorda\n",
      "error Castro\n",
      "error San Cristobal\n",
      "error Vanua Balavu\n",
      "error Pangnirtung\n",
      "error Bamaga\n",
      "error Fuerteventura\n",
      "error Palm Island\n",
      "error Charleville\n",
      "error Churchill\n",
      "error Graciosa\n",
      "error Isle of Man\n",
      "error Iron Mountain Kingsford\n",
      "error Qinhuangdao\n",
      "error Dobo-Kobror Island\n",
      "error Muan\n",
      "error Barra\n",
      "error Formosa\n",
      "error Longyearbyen\n",
      "error Hachijojima\n",
      "error Rankin Inlet\n",
      "error Lawas\n",
      "error Long Datih\n",
      "error Roti-Rote Island\n",
      "error Puerto Jimenez\n",
      "error Lansdowne House\n",
      "error Barimunya\n",
      "error Marudi\n",
      "error Mirny\n",
      "error Island Lake\n",
      "error Lajes\n",
      "error Puerto Iguazu\n",
      "error Isles Of Scilly\n",
      "error Round Lake\n",
      "error Carbondale-Murphysboro\n",
      "error Coll Island\n",
      "error Kramfors\n",
      "error Marau\n",
      "error Mong Hsat\n",
      "error Niue\n",
      "error Pantnagar\n",
      "error Bingol\n",
      "error Boa Vista\n",
      "error Sintang\n",
      "error Phu Quoc\n",
      "error Lar\n",
      "error Summer Beaver\n",
      "error Telfer\n",
      "error Fort Severn\n",
      "error Qiemo\n",
      "error Skopje\n",
      "error Brize Norton\n",
      "error Eastsound\n",
      "error Churchill Falls\n",
      "error Butuan\n",
      "error Long Seridan\n"
     ]
    }
   ],
   "source": [
    "for c in error3:\n",
    "    if c not in G.keys()+error4:\n",
    "        ys={\"pop\":0,\"nearby\":{}}\n",
    "        q=remove_accents(strip_accents('population of '+c.split('/')[0]+', '+unicities[c]))\n",
    "        res = client.query(q)\n",
    "        good=True\n",
    "        if 'pod' in res:\n",
    "            for i in range(len(res['pod'])):\n",
    "                try:\n",
    "                    if res['pod'][i]['@title']==\"Result\":\n",
    "                        x=res['pod'][i]['subpod']['plaintext']\n",
    "                        if 'available' not in x:\n",
    "                            popul=x[:x.find('people')-1]\n",
    "                            if 'mill' in popul:\n",
    "                                popul=popul[:popul.find('mill')-1]\n",
    "                                if '|' in popul:popul=popul.split('|')[1].strip()\n",
    "                            ys['pop']=int(float(popul)*1000000.0)\n",
    "                    if res['pod'][i]['@title']==\"Nearby cities\":\n",
    "                        x=res['pod'][i]['subpod']['plaintext'].split('\\n')\n",
    "                        if 'available' not in x:\n",
    "                            for y in x[:-1]:\n",
    "                                people=y[y.rfind('|')+2:y.find('people')-1]\n",
    "                                if 'mill' in people:\n",
    "                                    people=float(people[:people.find('mill')-1])*1000000.0\n",
    "                                km=float(y[y.find('|')+2:y.find(' km ')])\n",
    "                                ys['nearby'][y.split('|')[0].split(',')[0].strip()]={\"km\":km,\"people\":int(people)}\n",
    "                            G[c]=ys\n",
    "                            print 'success',c\n",
    "                            good=False\n",
    "                except: pass\n",
    "        if good: \n",
    "            print 'error',c\n",
    "            error4.append(c)"
   ]
  },
  {
   "cell_type": "code",
   "execution_count": 68,
   "metadata": {
    "collapsed": false
   },
   "outputs": [
    {
     "name": "stdout",
     "output_type": "stream",
     "text": [
      "730 170\n"
     ]
    }
   ],
   "source": [
    "file(\"../json/pop2c.json\",'w').write(json.dumps(G))\n",
    "file(\"../json/pop2ec.json\",'w').write(json.dumps(error4))\n",
    "print len(G),len(error4)"
   ]
  }
 ],
 "metadata": {
  "anaconda-cloud": {},
  "kernelspec": {
   "display_name": "Python [conda root]",
   "language": "python",
   "name": "conda-root-py"
  },
  "language_info": {
   "codemirror_mode": {
    "name": "ipython",
    "version": 2
   },
   "file_extension": ".py",
   "mimetype": "text/x-python",
   "name": "python",
   "nbconvert_exporter": "python",
   "pygments_lexer": "ipython2",
   "version": "2.7.13"
  }
 },
 "nbformat": 4,
 "nbformat_minor": 1
}
