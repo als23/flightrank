{
 "cells": [
  {
   "cell_type": "code",
   "execution_count": 1,
   "metadata": {
    "collapsed": true
   },
   "outputs": [],
   "source": [
    "import pandas as pd, json, numpy as np\n",
    "import matplotlib.pyplot as plt\n",
    "%matplotlib inline"
   ]
  },
  {
   "cell_type": "code",
   "execution_count": 2,
   "metadata": {
    "collapsed": false
   },
   "outputs": [],
   "source": [
    "cluster=json.loads(file('../json/cluster.json','r').read())\n",
    "citysave=json.loads(file('../json/citysave.json','r').read())"
   ]
  },
  {
   "cell_type": "code",
   "execution_count": 3,
   "metadata": {
    "collapsed": false
   },
   "outputs": [],
   "source": [
    "import wolframalpha\n",
    "app_id='GAH9LP-JVY3X69R5U'\n",
    "#csaladenes@hotmail.com\n",
    "client = wolframalpha.Client(app_id)"
   ]
  },
  {
   "cell_type": "code",
   "execution_count": 4,
   "metadata": {
    "collapsed": false
   },
   "outputs": [],
   "source": [
    "unicities={}\n",
    "for i in cluster:\n",
    "    if cluster[i] not in unicities:\n",
    "        unicities[cluster[i]]=citysave[i]['country']"
   ]
  },
  {
   "cell_type": "code",
   "execution_count": 5,
   "metadata": {
    "collapsed": true
   },
   "outputs": [],
   "source": [
    "G={}\n",
    "error=[]"
   ]
  },
  {
   "cell_type": "code",
   "execution_count": 83,
   "metadata": {
    "collapsed": false
   },
   "outputs": [
    {
     "name": "stdout",
     "output_type": "stream",
     "text": [
      "0 1 2 3 4 5 6 7 8 9 10 11 12 13 14 15 16 17 18 19 20 21 22 23 24 25 26 27 28 29 30 31 32 33 34 35 36 37 38 39 40 41 42 43 44 45 46 47 48 49 50 51 52 53 54 55 56 57 58 59 60 61 62 63 64 65 66 67 68 69 70 71 72 73 74 75 76 77 78 79 80 81 82 83 84 85 86 87 88 89 90 91 92 93 94 95 96 97 98 99 100 101 102 103 104 105 106 107 108 109 110 111 112 113 114 115 116 117 118 119 120 121 122 123 124 125 126 127 128 129 130 131 132 133 134 135 136 137 138 139 140 141 142 143 144 145 146 147 148 149 150 151 152 153 154 155 156 157 158 159 160 161 162 163 164 165 166 167 168 169 170 171 172 173 174 175 176 177 178 179 180 181 182 183 184 185 186 187 188 189 190 191 192 193 194 195 196 197 198 199 200 201 202 203 204 205 206 207 208 209 210 211 212 213 214 215 216 217 218 219 220 221 222 223 224 225 226 227 228 229 230 231 232 233 234 235 236 237 238 239 240 241 242 243 244 245 246 247 248 249 250 251 252 253 254 255 256 257 258 259 260 261 262 263 264 265 266 267 268 269 270 271 272 273 274 275 276 277 278 279 280 281 282 283 284 285 286 287 288 289 290 291 292 293 294 295 296 297 298 299 300 301 302 303 304 305 306 307 308 309 310 311 312 313 314 315 316 317 318 319 320 321 322 323 324 325 326 327 328 329 330 331 332 333 334 335 336 337 338 339 340 341 342 343 344 345 346 347 348 349 350 351 352 353 354 355 356 357 358 359 360 361 362 363 364 365 366 367 368 369 370 371 372 373 374 375 376 377 378 379 380 381 382 383 384 385 386 387 388 389 390 391 392 393 394 395 396 397 398 399 400 401 402 403 404 405 406 407 408 409 410 411 412 413 414 415 416 417 418 419 420 421 422 423 424 425 426 427 428 429 430 431 432 433 434 435 436 437 438 439 440 441 442 443 444 445 446 447 448 449 450 451 452 453 454 455 456 457 458 459 460 461 462 463 464 465 466 467 468 469 470 471 472 473 474 475 476 477 478 479 480 481 482 483 484 485 486 487 488 489 490 491 492 493 494 495 496 497 498 499 500 501 502 503 504 505 506 507 508 509 510 511 512 513 514 515 516 517 518 519 520 521 522 523 524 525 526 527 528 529 530 531 532 533 534 535 536 537 538 539 540 541 542 543 544 545 546 547 548 549 550 551 552 553 554 555 556 557 558 559 560 561 562 563 564 565 566 567 568 569 570 571 572 573 574 575 576 577 578 579 580 581 582 583 584 585 586 587 588 589 590 591 592 593 594 595 596 597 598 599 600 601 602 603 604 605 606 607 608 609 610 611 612 613 614 615 616 617 618 619 620 621 622 623 624 625 626 627 628 629 630 631 632 633 634 635 636 637 638 639 640 641 642 643 644 645 646 647 648 649 650 651 652 653 654 655 656 657 658 659 660 661 662 663 664 665 666 667 668 669 670 671 672 673 674 675 676 677 678 679 680 681 682 683 684 685 686 687 688 689 690 691 692 693 694 695 696 697 698 699 700 701 702 703 704 705 706 707 708 709 710 711 712 713 714 715 716 717 718 719 720 721 722 723 724 725 726 727 728 729 730 731 732 733 734 735 736 737 738 739 740 741 742 743 744 745 746 747 748 749 750 751 752 753 754 755 756 757 758 759 760 761 762 763 764 765 766 767 768 769 770 771 772 773 774 775 776 777 778 779 780 781 782 783 784 785 786 787 788 789 790 791 792 793 794 795 796 797 798 799 800 801 802 803 804 805 806 807 808 809 810 811 812 813 814 815 816 817 818 819 820 821 822 823 824 825 826 827 828 829 830 831 832 833 834 835 836 837 838 839 840 841 842 843 844 845 846 847 848 849 850 851 852 853 854 855 856 857 858 859 860 861 862 863 864 865 866 867 868 869 870 871 872 873 874 875 876 877 878 879 880 881 882 883 884 885 886 887 888 889 890 891 892 893 894 895 896 897 898 899\n"
     ]
    }
   ],
   "source": [
    "uk=unicities.keys()\n",
    "for h in range(900):\n",
    "    c=uk[h]\n",
    "    if c not in G.keys()+error:\n",
    "        print h,\n",
    "        ys={\"pop\":0,\"nearby\":{}}\n",
    "        q='population of '+c+', '+unicities[c]\n",
    "        try:\n",
    "            res = client.query(q)\n",
    "            for i in range(len(res['pod'])):\n",
    "                if res['pod'][i]['@title']==\"Result\":\n",
    "                    x=res['pod'][i]['subpod']['plaintext']\n",
    "                    popul=x[:x.find('people')-1]\n",
    "                    if 'mill' in popul:\n",
    "                            popul=float(popul[:popul.find('mill')-1])*1000000.0\n",
    "                    ys['pop']=int(popul)\n",
    "                if res['pod'][i]['@title']==\"Nearby cities\":\n",
    "                    x=res['pod'][i]['subpod']['plaintext'].split('\\n')\n",
    "                    for y in x[:-1]:\n",
    "                        people=y[y.rfind('|')+2:y.find('people')-1]\n",
    "                        if 'mill' in people:\n",
    "                            people=float(people[:people.find('mill')-1])*1000000.0\n",
    "                        km=float(y[y.find('|')+2:y.find('km')-1])\n",
    "                        ys['nearby'][y.split('|')[0].split(',')[0].strip()]={\"km\":km,\"people\":int(people)}\n",
    "            G[c]=ys\n",
    "        except: error.append(c)"
   ]
  },
  {
   "cell_type": "code",
   "execution_count": 84,
   "metadata": {
    "collapsed": false
   },
   "outputs": [],
   "source": [
    "file(\"../json/pop1.json\",'w').write(json.dumps(G))\n",
    "file(\"../json/pop1e.json\",'w').write(json.dumps(error))"
   ]
  },
  {
   "cell_type": "markdown",
   "metadata": {},
   "source": [
    "Postprocessing"
   ]
  },
  {
   "cell_type": "code",
   "execution_count": 72,
   "metadata": {
    "collapsed": false
   },
   "outputs": [
    {
     "name": "stdout",
     "output_type": "stream",
     "text": [
      "779 121\n"
     ]
    }
   ],
   "source": [
    "G=json.loads(file('../json/pop1.json','r').read())\n",
    "error=json.loads(file('../json/pop1e.json','r').read())\n",
    "print len(G),len(error)"
   ]
  },
  {
   "cell_type": "code",
   "execution_count": 73,
   "metadata": {
    "collapsed": true
   },
   "outputs": [],
   "source": [
    "error2=[]"
   ]
  },
  {
   "cell_type": "code",
   "execution_count": 74,
   "metadata": {
    "collapsed": true
   },
   "outputs": [],
   "source": [
    "import unicodedata\n",
    "def strip_accents(s):\n",
    "   return ''.join(c for c in unicodedata.normalize('NFD', s)\n",
    "                  if unicodedata.category(c) != 'Mn')\n",
    "def remove_accents(input_str):\n",
    "    nfkd_form = unicodedata.normalize('NFKD', input_str)\n",
    "    only_ascii = nfkd_form.encode('ASCII', 'ignore')\n",
    "    return only_ascii"
   ]
  },
  {
   "cell_type": "code",
   "execution_count": 75,
   "metadata": {
    "collapsed": false
   },
   "outputs": [
    {
     "name": "stdout",
     "output_type": "stream",
     "text": [
      "error Fort Huachuca Sierra Vista\n",
      "success Puerto Inírida\n",
      "error Kasos Island\n",
      "error Santa Ana Island\n",
      "error Fera Island\n",
      "error St-Augustin\n",
      "error York Landing\n",
      "error Lamap\n",
      "error Kadhdhoo Island\n",
      "success Mitú\n",
      "error Mangshi\n",
      "error Araracuara\n",
      "error Bhairawa\n",
      "error Lake Manyara National Park\n",
      "error Aménas\n",
      "error Puerto Ordaz\n",
      "error Kabalega Falls\n",
      "error Inglaterra\n",
      "error Labuha-Halmahera Island\n",
      "error Kooddoo Island\n",
      "success São Filipe\n",
      "success Barra Do Garças\n",
      "error Kelsey\n",
      "error Buol-Celebes Island\n",
      "error Yap\n",
      "error Tambor\n",
      "success Sao Tome\n",
      "error Bardufoss\n",
      "error Gustavus\n",
      "error San Andros\n",
      "success Tolú\n",
      "error Repulse Bay\n",
      "error Ayers Rock\n",
      "error Ukunda\n",
      "error Boolgeeda\n",
      "error Sishen\n",
      "error Big Trout\n",
      "error Whale Cove\n",
      "error Sanikiluaq\n",
      "error Santa Cruz-Graciosa Bay-Luova\n",
      "error Coral Harbour\n",
      "error Valesdir\n",
      "error Pagadian\n",
      "\n",
      "error Coondewanna\n",
      "success El Vigía\n",
      "error Paraparaumu\n",
      "error Whatì\n",
      "error Fuyun\n",
      "error Governor's Harbour\n",
      "error Sachs Harbour\n",
      "error Kangiqsujuaq\n",
      "error Tabubil\n",
      "success Ciudad Constitución\n",
      "error Gove\n",
      "error Jeon Ju\n",
      "error Bayannur\n",
      "error Natuashish\n",
      "error Fort Good Hope\n",
      "error Ipota\n",
      "error Kugaaruk\n",
      "error Tofino\n",
      "error St. Theresa Point\n",
      "error Amook Bay\n",
      "error North Ronaldsay\n",
      "error Shamattawa\n",
      "error Ra'sal-Khaymah\n",
      "error Gods River\n",
      "error Tokunoshima\n",
      "error Muskrat Dam\n",
      "success Svolvaer\n",
      "error Club Makokola\n",
      "error Cat Lake\n",
      "error Kalimarau\n",
      "error Assaluyeh\n",
      "error Umiujaq\n",
      "error Peureumeue-Sumatra Island\n",
      "success Guantánamo\n",
      "error Hall Beach\n",
      "error Bearskin Lake\n",
      "error Banmaw\n",
      "error Tahuna-Sangihe Island\n",
      "error Hemavan\n",
      "success Yacuíba\n",
      "error Mahikeng\n",
      "error Bakalalan\n",
      "error Moruya\n",
      "success Puerto Carreño\n",
      "error Anahim Lake\n",
      "error Marsa Alam\n",
      "error Bangda\n",
      "error Sovetsky\n",
      "error Sandy Lake\n",
      "error Termas de Rio Hondo\n",
      "error Praslin Island\n",
      "error Rouyn\n",
      "error Waskaganish\n",
      "error Fort Hope\n",
      "error Hoedspruit\n",
      "error Puvirnituq\n",
      "error Red Dog\n",
      "error Ulusaba\n",
      "success Béchar\n",
      "error Keperveyem\n",
      "error Cicia\n",
      "error Tongoa Island\n",
      "error Cloudbreak\n",
      "error Long Akah\n",
      "error Treasure Cay\n",
      "error Saumlaki-Yamdena Island\n",
      "error Misrata\n",
      "error Kangding\n",
      "error Fort Sandeman\n",
      "error Guantanamo Bay Naval Station\n"
     ]
    }
   ],
   "source": [
    "for c in error:\n",
    "    if c not in G.keys()+error2:\n",
    "        ys={\"pop\":0,\"nearby\":{}}\n",
    "        q=remove_accents(strip_accents('population of '+c.split('/')[0]+', '+unicities[c]))\n",
    "        res = client.query(q)\n",
    "        if 'pod' in res:\n",
    "            for i in range(len(res['pod'])):\n",
    "                if res['pod'][i]['@title']==\"Result\":\n",
    "                    x=res['pod'][i]['subpod']['plaintext']\n",
    "                    if 'available' not in x:\n",
    "                        popul=x[:x.find('people')-1]\n",
    "                        if 'mill' in popul:\n",
    "                            popul=popul[:popul.find('mill')-1]\n",
    "                            if '|' in popul:popul=popul.split('|')[1].strip()\n",
    "                        ys['pop']=int(float(popul)*1000000.0)\n",
    "                if res['pod'][i]['@title']==\"Nearby cities\":\n",
    "                    x=res['pod'][i]['subpod']['plaintext'].split('\\n')\n",
    "                    if 'available' not in x:\n",
    "                        for y in x[:-1]:\n",
    "                            people=y[y.rfind('|')+2:y.find('people')-1]\n",
    "                            if 'mill' in people:\n",
    "                                people=float(people[:people.find('mill')-1])*1000000.0\n",
    "                            km=float(y[y.find('|')+2:y.find(' km ')])\n",
    "                            ys['nearby'][y.split('|')[0].split(',')[0].strip()]={\"km\":km,\"people\":int(people)}\n",
    "                        G[c]=ys\n",
    "                        print 'success',c\n",
    "        else: \n",
    "            print 'error',c\n",
    "            error2.append(c)"
   ]
  },
  {
   "cell_type": "code",
   "execution_count": 78,
   "metadata": {
    "collapsed": false
   },
   "outputs": [
    {
     "name": "stdout",
     "output_type": "stream",
     "text": [
      "792 121 100\n"
     ]
    }
   ],
   "source": [
    "file(\"../json/pop1b.json\",'w').write(json.dumps(G))\n",
    "file(\"../json/pop1eb.json\",'w').write(json.dumps(error2))\n",
    "print len(G),len(error),len(error2)"
   ]
  },
  {
   "cell_type": "markdown",
   "metadata": {},
   "source": [
    "Re-reparse"
   ]
  },
  {
   "cell_type": "code",
   "execution_count": null,
   "metadata": {
    "collapsed": true
   },
   "outputs": [],
   "source": [
    "G=json.loads(file('../json/pop1b.json','r').read())\n",
    "error=json.loads(file('../json/pop1eb.json','r').read())"
   ]
  },
  {
   "cell_type": "code",
   "execution_count": 80,
   "metadata": {
    "collapsed": false
   },
   "outputs": [
    {
     "name": "stdout",
     "output_type": "stream",
     "text": [
      "108\n"
     ]
    }
   ],
   "source": [
    "error3=[]\n",
    "error4=[]\n",
    "uk=unicities.keys()\n",
    "for h in range(900):\n",
    "    c=uk[h]\n",
    "    if c not in G:\n",
    "        error3.append(c)\n",
    "print len(error3)"
   ]
  },
  {
   "cell_type": "code",
   "execution_count": 83,
   "metadata": {
    "collapsed": false
   },
   "outputs": [
    {
     "name": "stdout",
     "output_type": "stream",
     "text": [
      "error Doomadgee\n",
      "error Makabana\n",
      "error Nduli\n",
      "error Al-Qamishli\n",
      "error Hayman Island\n",
      "error Bau-Bau\n",
      "error Dover-Cheswold\n",
      "error Isla Colón\n"
     ]
    }
   ],
   "source": [
    "for c in error3:\n",
    "    if c not in G.keys()+error4:\n",
    "        ys={\"pop\":0,\"nearby\":{}}\n",
    "        q=remove_accents(strip_accents('population of '+c.split('/')[0]+', '+unicities[c]))\n",
    "        res = client.query(q)\n",
    "        good=True\n",
    "        if 'pod' in res:\n",
    "            for i in range(len(res['pod'])):\n",
    "                try:\n",
    "                    if res['pod'][i]['@title']==\"Result\":\n",
    "                        x=res['pod'][i]['subpod']['plaintext']\n",
    "                        if 'available' not in x:\n",
    "                            popul=x[:x.find('people')-1]\n",
    "                            if 'mill' in popul:\n",
    "                                popul=popul[:popul.find('mill')-1]\n",
    "                                if '|' in popul:popul=popul.split('|')[1].strip()\n",
    "                            ys['pop']=int(float(popul)*1000000.0)\n",
    "                    if res['pod'][i]['@title']==\"Nearby cities\":\n",
    "                        x=res['pod'][i]['subpod']['plaintext'].split('\\n')\n",
    "                        if 'available' not in x:\n",
    "                            for y in x[:-1]:\n",
    "                                people=y[y.rfind('|')+2:y.find('people')-1]\n",
    "                                if 'mill' in people:\n",
    "                                    people=float(people[:people.find('mill')-1])*1000000.0\n",
    "                                km=float(y[y.find('|')+2:y.find(' km ')])\n",
    "                                ys['nearby'][y.split('|')[0].split(',')[0].strip()]={\"km\":km,\"people\":int(people)}\n",
    "                            G[c]=ys\n",
    "                            print 'success',c\n",
    "                            good=False\n",
    "                except: pass\n",
    "        if good: \n",
    "            print 'error',c\n",
    "            error4.append(c)"
   ]
  },
  {
   "cell_type": "code",
   "execution_count": 85,
   "metadata": {
    "collapsed": false
   },
   "outputs": [
    {
     "name": "stdout",
     "output_type": "stream",
     "text": [
      "792 108\n"
     ]
    }
   ],
   "source": [
    "file(\"../json/pop1c.json\",'w').write(json.dumps(G))\n",
    "file(\"../json/pop1ec.json\",'w').write(json.dumps(error4))\n",
    "print len(G),len(error4)"
   ]
  }
 ],
 "metadata": {
  "anaconda-cloud": {},
  "kernelspec": {
   "display_name": "Python [conda root]",
   "language": "python",
   "name": "conda-root-py"
  },
  "language_info": {
   "codemirror_mode": {
    "name": "ipython",
    "version": 2
   },
   "file_extension": ".py",
   "mimetype": "text/x-python",
   "name": "python",
   "nbconvert_exporter": "python",
   "pygments_lexer": "ipython2",
   "version": "2.7.13"
  }
 },
 "nbformat": 4,
 "nbformat_minor": 1
}
