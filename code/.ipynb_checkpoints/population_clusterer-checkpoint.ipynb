{
 "cells": [
  {
   "cell_type": "code",
   "execution_count": 54,
   "metadata": {
    "collapsed": true
   },
   "outputs": [],
   "source": [
    "import pandas as pd, json, numpy as np\n",
    "import matplotlib.pyplot as plt\n",
    "%matplotlib inline"
   ]
  },
  {
   "cell_type": "code",
   "execution_count": 55,
   "metadata": {
    "collapsed": false
   },
   "outputs": [],
   "source": [
    "cluster=json.loads(file('../json/cluster.json','r').read())\n",
    "citysave=json.loads(file('../json/citysave2.json','r').read())\n",
    "pop_countries=json.loads(file('../json/pop_countries2.json','r').read())\n",
    "pop_cities=json.loads(file('../json/pop_cities.json','r').read())"
   ]
  },
  {
   "cell_type": "code",
   "execution_count": 56,
   "metadata": {
    "collapsed": true
   },
   "outputs": [],
   "source": [
    "unicities={}\n",
    "for i in cluster:\n",
    "    if cluster[i] not in unicities:\n",
    "        unicities[cluster[i]]=citysave[i]['country']"
   ]
  },
  {
   "cell_type": "code",
   "execution_count": 57,
   "metadata": {
    "collapsed": false
   },
   "outputs": [],
   "source": [
    "parent={}"
   ]
  },
  {
   "cell_type": "code",
   "execution_count": 58,
   "metadata": {
    "collapsed": false
   },
   "outputs": [],
   "source": [
    "for i in pop_cities:\n",
    "    #if a k times larger city is within x km\n",
    "    k=4\n",
    "    x=100\n",
    "    ct={}\n",
    "    for j in pop_cities[i]['nearby']:\n",
    "        if pop_cities[i]['nearby'][j]['people']>pop_cities[i]['pop']*k:\n",
    "            if pop_cities[i]['nearby'][j]['km']<x:\n",
    "                ct[pop_cities[i]['nearby'][j]['people']]=j\n",
    "    if ct:        \n",
    "        cm=ct[max(ct.keys())]\n",
    "        parent[i]={cm:pop_cities[i]['nearby'][cm]['people']}\n",
    "    else:\n",
    "        parent[i]={i:pop_cities[i]['pop']}"
   ]
  },
  {
   "cell_type": "markdown",
   "metadata": {},
   "source": [
    "Create new city list instead of airports with cross-allocating all flights to nearbys"
   ]
  }
 ],
 "metadata": {
  "anaconda-cloud": {},
  "kernelspec": {
   "display_name": "Python [conda root]",
   "language": "python",
   "name": "conda-root-py"
  },
  "language_info": {
   "codemirror_mode": {
    "name": "ipython",
    "version": 2
   },
   "file_extension": ".py",
   "mimetype": "text/x-python",
   "name": "python",
   "nbconvert_exporter": "python",
   "pygments_lexer": "ipython2",
   "version": "2.7.13"
  }
 },
 "nbformat": 4,
 "nbformat_minor": 1
}
