{
 "cells": [
  {
   "cell_type": "code",
   "execution_count": 1,
   "metadata": {
    "collapsed": true
   },
   "outputs": [],
   "source": [
    "import pandas as pd, json, numpy as np\n",
    "import matplotlib.pyplot as plt\n",
    "%matplotlib inline"
   ]
  },
  {
   "cell_type": "code",
   "execution_count": 2,
   "metadata": {
    "collapsed": false
   },
   "outputs": [],
   "source": [
    "cluster=json.loads(file('../json/cluster.json','r').read())\n",
    "citysave=json.loads(file('../json/citysave.json','r').read())"
   ]
  },
  {
   "cell_type": "code",
   "execution_count": 3,
   "metadata": {
    "collapsed": false
   },
   "outputs": [],
   "source": [
    "import wolframalpha\n",
    "app_id='AYWWAE-G3VVGLRAQR'\n",
    "#csaladenes@gmail.com\n",
    "client = wolframalpha.Client(app_id)"
   ]
  },
  {
   "cell_type": "code",
   "execution_count": 4,
   "metadata": {
    "collapsed": false
   },
   "outputs": [],
   "source": [
    "unicities={}\n",
    "for i in cluster:\n",
    "    if cluster[i] not in unicities:\n",
    "        unicities[cluster[i]]=citysave[i]['country']"
   ]
  },
  {
   "cell_type": "code",
   "execution_count": 5,
   "metadata": {
    "collapsed": true
   },
   "outputs": [],
   "source": [
    "G={}\n",
    "error=[]"
   ]
  },
  {
   "cell_type": "code",
   "execution_count": 8,
   "metadata": {
    "collapsed": false
   },
   "outputs": [
    {
     "name": "stdout",
     "output_type": "stream",
     "text": [
      "2700 2701 2702 2703 2704 2705 2706 2707 2708 2709 2710 2711 2712 2713 2714 2715 2716 2717 2718 2719 2720 2721 2722 2723 2724 2725 2726 2727 2728 2729 2730 2731 2732 2733 2734 2735 2736 2737 2738 2739 2740 2741 2742 2743 2744 2745 2746 2747 2748 2749 2750 2751 2752 2753 2754 2755 2756 2757 2758 2759 2760 2761 2762 2763 2764 2765 2766 2767 2768 2769 2770 2771 2772 2773 2774 2775 2776 2777 2778 2779 2780 2781 2782 2783 2784 2785 2786 2787 2788 2789 2790 2791 2792 2793 2794 2795 2796 2797 2798 2799 2800 2801 2802 2803 2804 2805 2806 2807 2808 2809 2810 2811 2812 2813 2814 2815 2816 2817 2818 2819 2820 2821 2822 2823 2824 2825 2826 2827 2828 2829 2830 2831 2832 2833 2834 2835 2836 2837 2838 2839 2840 2841 2842 2843 2844 2845 2846 2847 2848 2849 2850 2851 2852 2853 2854 2855 2856 2857 2858 2859 2860 2861 2862 2863 2864 2865 2866 2867 2868 2869 2870 2871 2872 2873 2874 2875 2876 2877 2878 2879 2880 2881 2882 2883 2884 2885 2886 2887 2888 2889 2890 2891 2892 2893 2894 2895 2896 2897 2898 2899 2900 2901 2902 2903 2904 2905 2906 2907 2908 2909 2910 2911 2912 2913 2914 2915 2916 2917 2918 2919 2920 2921 2922 2923 2924 2925 2926 2927 2928 2929 2930 2931 2932 2933 2934 2935 2936 2937 2938 2939 2940 2941 2942 2943 2944 2945 2946 2947 2948 2949 2950 2951 2952 2953 2954 2955 2956 2957 2958 2959 2960 2961 2962 2963 2964 2965 2966 2967 2968 2969 2970 2971 2972 2973 2974 2975 2976 2977 2978 2979 2980 2981 2982 2983 2984 2985 2986 2987 2988 2989 2990 2991 2992 2993 2994 2995 2996 2997 2998 2999 3000 3001 3002 3003 3004 3005 3006 3007 3008 3009 3010 3011 3012 3013 3014 3015 3016 3017 3018 3019 3020 3021 3022 3023 3024 3025 3026 3027 3028 3029 3030 3031 3032 3033 3034 3035 3036 3037 3038 3039 3040 3041 3042 3043 3044 3045 3046 3047 3048 3049 3050 3051 3052 3053 3054 3055 3056 3057 3058 3059 3060 3061 3062 3063 3064 3065 3066 3067 3068 3069 3070 3071 3072 3073 3074 3075 3076 3077 3078 3079 3080 3081 3082 3083 3084 3085 3086 3087 3088 3089 3090 3091 3092 3093 3094 3095 3096 3097 3098 3099 3100 3101 3102 3103 3104 3105 3106 3107 3108 3109 3110 3111 3112 3113 3114 3115 3116 3117 3118 3119 3120 3121 3122 3123 3124 3125 3126 3127 3128 3129 3130 3131 3132 3133 3134 3135 3136 3137 3138 3139 3140 3141 3142 3143 3144 3145 3146 3147 3148 3149 3150 3151 3152 3153 3154 3155 3156 3157 3158 3159 3160 3161 3162 3163 3164 3165 3166 3167 3168 3169 3170 3171 3172 3173 3174 3175 3176 3177 3178 3179 3180 3181 3182 3183 3184 3185 3186 3187 3188 3189 3190 3191 3192 3193 3194 3195 3196 3197 3198 3199 3200 3201 3202 3203 3204 3205 3206 3207 3208 3209 3210 3211 3212 3213 3214 3215 3216 3217 3218 3219 3220 3221 3222 3223 3224 3225 3226 3227 3228 3229 3230 3231 3232 3233 3234 3235 3236 3237 3238 3239 3240 3241 3242 3243 3244 3245 3246 3247 3248 3249 3250 3251 3252 3253 3254 3255 3256 3257 3258 3259 3260 3261 3262 3263 3264 3265 3266 3267 3268 3269 3270 3271 3272 3273 3274 3275 3276 3277 3278 3279 3280 3281 3282 3283 3284 3285 3286 3287 3288 3289 3290 3291 3292 3293 3294 3295 3296 3297 3298 3299 3300 3301 3302 3303 3304 3305 3306 3307 3308 3309 3310 3311 3312 3313 3314 3315 3316 3317 3318 3319 3320 3321 3322 3323 3324 3325 3326 3327 3328 3329 3330 3331 3332 3333 3334 3335 3336 3337 3338 3339 3340 3341 3342 3343 3344 3345 3346 3347 3348 3349 3350 3351 3352 3353 3354 3355 3356 3357 3358 3359 3360 3361 3362 3363 3364 3365 3366 3367 3368 3369 3370 3371 3372 3373 3374 3375 3376 3377 3378 3379 3380 3381 3382 3383 3384 3385 3386 3387 3388 3389 3390 3391 3392 3393 3394 3395 3396 3397 3398 3399 3400 3401 3402 3403 3404 3405 3406 3407 3408 3409 3410 3411 3412 3413 3414 3415 3416 3417 3418 3419 3420 3421 3422 3423 3424 3425 3426 3427 3428 3429 3430 3431 3432 3433 3434 3435 3436 3437 3438 3439 3440 3441 3442 3443 3444 3445 3446 3447 3448 3449 3450 3451 3452 3453 3454 3455 3456 3457 3458 3459 3460 3461 3462 3463 3464 3465 3466 3467 3468 3469 3470 3471 3472 3473 3474 3475 3476 3477 3478 3479 3480 3481 3482 3483 3484 3485 3486 3487 3488 3489 3490 3491 3492 3493 3494 3495 3496 3497 3498 3499\n"
     ]
    }
   ],
   "source": [
    "uk=unicities.keys()\n",
    "for h in range(2700,len(uk)):\n",
    "    c=uk[h]\n",
    "    if c not in G.keys()+error:\n",
    "        print h,\n",
    "        ys={\"pop\":0,\"nearby\":{}}\n",
    "        q='population of '+c+', '+unicities[c]\n",
    "        try:\n",
    "            res = client.query(q)\n",
    "            for i in range(len(res['pod'])):\n",
    "                if res['pod'][i]['@title']==\"Result\":\n",
    "                    x=res['pod'][i]['subpod']['plaintext']\n",
    "                    popul=x[:x.find('people')-1]\n",
    "                    if 'mill' in popul:\n",
    "                            popul=float(popul[:popul.find('mill')-1])*1000000.0\n",
    "                    ys['pop']=int(popul)\n",
    "                if res['pod'][i]['@title']==\"Nearby cities\":\n",
    "                    x=res['pod'][i]['subpod']['plaintext'].split('\\n')\n",
    "                    for y in x[:-1]:\n",
    "                        people=y[y.rfind('|')+2:y.find('people')-1]\n",
    "                        if 'mill' in people:\n",
    "                            people=float(people[:people.find('mill')-1])*1000000.0\n",
    "                        km=float(y[y.find('|')+2:y.find('km')-1])\n",
    "                        ys['nearby'][y.split('|')[0].split(',')[0].strip()]={\"km\":km,\"people\":int(people)}\n",
    "            G[c]=ys\n",
    "        except: error.append(c)"
   ]
  },
  {
   "cell_type": "code",
   "execution_count": 13,
   "metadata": {
    "collapsed": false
   },
   "outputs": [],
   "source": [
    "file(\"../json/pop4.json\",'w').write(json.dumps(G))\n",
    "file(\"../json/pop4e.json\",'w').write(json.dumps(error))"
   ]
  },
  {
   "cell_type": "markdown",
   "metadata": {
    "collapsed": true
   },
   "source": [
    "Postprocessing"
   ]
  },
  {
   "cell_type": "code",
   "execution_count": 6,
   "metadata": {
    "collapsed": true
   },
   "outputs": [],
   "source": [
    "G=json.loads(file('../json/pop4.json','r').read())\n",
    "error=json.loads(file('../json/pop4e.json','r').read())"
   ]
  },
  {
   "cell_type": "code",
   "execution_count": 7,
   "metadata": {
    "collapsed": true
   },
   "outputs": [],
   "source": [
    "error2=[]"
   ]
  },
  {
   "cell_type": "code",
   "execution_count": 8,
   "metadata": {
    "collapsed": true
   },
   "outputs": [],
   "source": [
    "import unicodedata\n",
    "def strip_accents(s):\n",
    "   return ''.join(c for c in unicodedata.normalize('NFD', s)\n",
    "                  if unicodedata.category(c) != 'Mn')\n",
    "def remove_accents(input_str):\n",
    "    nfkd_form = unicodedata.normalize('NFKD', input_str)\n",
    "    only_ascii = nfkd_form.encode('ASCII', 'ignore')\n",
    "    return only_ascii"
   ]
  },
  {
   "cell_type": "code",
   "execution_count": 10,
   "metadata": {
    "collapsed": false,
    "scrolled": false
   },
   "outputs": [
    {
     "name": "stdout",
     "output_type": "stream",
     "text": [
      "success Belfast\n",
      "success Port Gentil\n",
      "error Nemiscau\n",
      "success Bayamo\n",
      "success Maseru\n",
      "success Nizhnevartovsk\n",
      "success Kapuskasing\n",
      "success Dickinson\n",
      "success Jackson\n",
      "success Baidoa\n",
      "error Learmonth\n",
      "success Presidente Prudente\n",
      "success Mtwara\n",
      "success Caracas\n",
      "success Samarinda\n",
      "success Indore\n",
      "success Tlemcen\n",
      "success Mbandaka\n",
      "success Faro\n",
      "success Sandnessjoen\n",
      "success Bonaventure\n",
      "success Napier\n",
      "success Kokshetau\n",
      "success Binghamton\n",
      "success Tiksi\n",
      "success Lincoln\n",
      "success Summerside\n",
      "success Dayong\n",
      "success Banjarmasin\n",
      "success Enshi\n",
      "success Bordeaux\n",
      "success Hastings\n",
      "success Lages\n",
      "success Tarapoto\n",
      "success Najaf\n",
      "success Wichita Falls\n",
      "success Sabha\n",
      "success El Fasher\n",
      "success Svay Rieng\n",
      "success Rajahmundry\n",
      "success Brownwood\n",
      "success Auburn\n",
      "success Juliaca\n",
      "success Mo i Rana\n",
      "success New York\n",
      "success Casper\n",
      "success Cozumel\n",
      "success Lima\n",
      "success Anta\n",
      "success Bergen\n",
      "success Bradford\n",
      "success Pau\n",
      "success Gillette\n",
      "success Abilene\n",
      "success Isfahan\n",
      "success Caxias do Sul\n",
      "error Kyzylorda\n",
      "success Zephyrhills\n",
      "error Bario\n",
      "success Timisoara\n",
      "success Kindu\n",
      "success Bamiyan\n",
      "success Batman\n",
      "error Moenjodaro\n",
      "error Gods Lake Narrows\n",
      "error Paraburdoo\n",
      "success Taitung\n",
      "success Navoiy\n",
      "success Chifeng\n",
      "success Alghero\n",
      "success Cold Bay\n",
      "success Prince George\n",
      "success Tindouf\n",
      "success Pueblo\n",
      "success Sheridan\n",
      "success Windsor Locks\n",
      "success Port Sudan\n",
      "success Wajir\n",
      "success Chevak\n",
      "success Toyama\n",
      "success Puebla\n",
      "success Komatipoort\n",
      "success Trat\n",
      "success Djanet\n",
      "success Bangor\n",
      "success Maniitsoq\n",
      "error Simara\n",
      "success Golden Triangle\n",
      "success Rock Springs\n",
      "success Ottumwa\n",
      "success Mazar-I-Sharif\n",
      "success Montpellier\n",
      "error Lutselk'e\n",
      "success Prague\n",
      "error Manaung\n",
      "error Deadhorse\n",
      "success Myrtle Beach\n",
      "success Barisal\n",
      "success Kamuela\n",
      "success Huaihua\n",
      "success Zaranj\n",
      "success Kolda\n",
      "error Cape Lisburne\n",
      "error Little Cayman\n",
      "error Rigolet\n",
      "error Ramstein\n",
      "error Red Sucker Lake\n",
      "error Jomsom\n",
      "error Lonorore\n",
      "error Savannakhet\n",
      "error Rurenabaque\n",
      "error Cross Lake\n",
      "error Blanc-Sablon\n",
      "error Heho\n",
      "error Stronsay\n",
      "error Kangirsuk\n",
      "error Amboseli National Park\n",
      "error Jiagedaqi\n",
      "error Ikaria\n",
      "error Monkey Mia\n",
      "error Tin City\n",
      "error Igloolik\n",
      "error Galela-Celebes Island\n",
      "error Beigan Island\n",
      "error Gillam\n",
      "error Sulaimaniyah\n",
      "error Phosphate Hill\n",
      "error Wabush\n",
      "error Bamfield\n",
      "error Tokua\n",
      "error Pakse\n",
      "error Utopia Creek\n",
      "error Dawadmi\n",
      "error Putussibau-Borneo Island\n",
      "error Kadanwari\n",
      "error Iliamna\n",
      "error Maamigili Island\n",
      "error Babo-Papua Island\n",
      "error Mfuwe\n",
      "error Kagau Island\n",
      "error Stewart\n",
      "error Chuuk\n",
      "error Fort MacKay\n",
      "error Kilaguni\n",
      "error Kaadedhdhoo Island\n",
      "error Wemindji\n",
      "error Tengchong\n",
      "error Nanki Shirahama\n",
      "error Little Grand Rapids\n",
      "error Taloyoak\n"
     ]
    }
   ],
   "source": [
    "for c in error:\n",
    "    if c not in G.keys()+error2:\n",
    "        ys={\"pop\":0,\"nearby\":{}}\n",
    "        q=remove_accents(strip_accents('population of '+c.split('/')[0]+', '+unicities[c]))\n",
    "        res = client.query(q)\n",
    "        if 'pod' in res:\n",
    "            for i in range(len(res['pod'])):\n",
    "                if res['pod'][i]['@title']==\"Result\":\n",
    "                    x=res['pod'][i]['subpod']['plaintext']\n",
    "                    if 'available' not in x:\n",
    "                        popul=x[:x.find('people')-1]\n",
    "                        if 'mill' in popul:\n",
    "                            popul=popul[:popul.find('mill')-1]\n",
    "                            if '|' in popul:popul=popul.split('|')[1].strip()\n",
    "                        ys['pop']=int(float(popul)*1000000.0)\n",
    "                if res['pod'][i]['@title']==\"Nearby cities\":\n",
    "                    x=res['pod'][i]['subpod']['plaintext'].split('\\n')\n",
    "                    if 'available' not in x:\n",
    "                        for y in x[:-1]:\n",
    "                            people=y[y.rfind('|')+2:y.find('people')-1]\n",
    "                            if 'mill' in people:\n",
    "                                people=float(people[:people.find('mill')-1])*1000000.0\n",
    "                            km=float(y[y.find('|')+2:y.find(' km ')])\n",
    "                            ys['nearby'][y.split('|')[0].split(',')[0].strip()]={\"km\":km,\"people\":int(people)}\n",
    "                        G[c]=ys\n",
    "                        print 'success',c\n",
    "        else: \n",
    "            print 'error',c\n",
    "            error2.append(c)"
   ]
  },
  {
   "cell_type": "code",
   "execution_count": 11,
   "metadata": {
    "collapsed": false
   },
   "outputs": [
    {
     "name": "stdout",
     "output_type": "stream",
     "text": [
      "680 390 82\n"
     ]
    }
   ],
   "source": [
    "file(\"../json/pop4b.json\",'w').write(json.dumps(G))\n",
    "file(\"../json/pop4eb.json\",'w').write(json.dumps(error2))\n",
    "print len(G),len(error),len(error2)"
   ]
  },
  {
   "cell_type": "markdown",
   "metadata": {},
   "source": [
    "Re-reparse"
   ]
  },
  {
   "cell_type": "code",
   "execution_count": null,
   "metadata": {
    "collapsed": true
   },
   "outputs": [],
   "source": [
    "G=json.loads(file('../json/pop4b.json','r').read())\n",
    "error=json.loads(file('../json/pop4eb.json','r').read())"
   ]
  },
  {
   "cell_type": "code",
   "execution_count": 12,
   "metadata": {
    "collapsed": false
   },
   "outputs": [
    {
     "name": "stdout",
     "output_type": "stream",
     "text": [
      "120\n"
     ]
    }
   ],
   "source": [
    "error3=[]\n",
    "error4=[]\n",
    "uk=unicities.keys()\n",
    "for h in range(2700,len(uk)):\n",
    "    c=uk[h]\n",
    "    if c not in G:\n",
    "        error3.append(c)\n",
    "print len(error3)"
   ]
  },
  {
   "cell_type": "code",
   "execution_count": 13,
   "metadata": {
    "collapsed": false,
    "scrolled": false
   },
   "outputs": [
    {
     "name": "stdout",
     "output_type": "stream",
     "text": [
      "error Dease Lake\n",
      "error Akulivik\n",
      "error Kiri\n",
      "error South Bimini\n",
      "error Orsta Volda\n",
      "error Tarama\n",
      "error Kugluktuk\n",
      "error Val-d'Or\n",
      "error Liberia\n",
      "error Moomba\n",
      "error Syros Island\n",
      "error Paraguaná\n",
      "error Pangkalan Bun\n",
      "error Petropavlosk\n",
      "error Oxford House\n",
      "error Winton\n",
      "error Ivujivik\n",
      "error Kangiqsualujjuaq\n",
      "error Kufra\n",
      "error Fort Bliss-El Paso\n",
      "error Vavau\n",
      "error Leinster\n",
      "error Shangri-La\n",
      "error Xiahe\n",
      "error La Toma (Catamayo)\n",
      "error Bodo\n",
      "error Oudomsay\n",
      "error Gjögur\n",
      "error Saint Marie\n",
      "error Kish Island\n",
      "error Cayman Brac\n",
      "error Kalgoorlie\n",
      "error Loyengalani\n",
      "error Sandspit\n",
      "error Namrole-Buru Island\n",
      "error Onslow\n",
      "error Nador\n",
      "error Lycksele\n",
      "error Uray\n",
      "error Gallivare\n",
      "error Fakfak-Papua Island\n",
      "error Port-Menier\n",
      "error Preguiça\n",
      "error Ulukhaktok\n",
      "error Stella Maris\n",
      "error South Indian Lake\n",
      "error Benbecula\n",
      "error Nemiscau\n",
      "error Learmonth\n",
      "error Iran\n",
      "error Salalah\n",
      "error Gamètì\n",
      "error Mount Isa\n",
      "error Balmaceda\n",
      "error Lanzarote\n",
      "error Ust-Kut\n",
      "error Kyzylorda\n",
      "error Bario\n",
      "error Moenjodaro\n",
      "error Gods Lake Narrows\n",
      "error Paraburdoo\n",
      "error Simara\n",
      "error Cayo Largo del Sur\n",
      "error Koro Island\n",
      "error Lutselk'e\n",
      "error Manaung\n",
      "error Deadhorse\n",
      "error Nantucket\n",
      "error Hamilton Island\n",
      "error Cape Lisburne\n",
      "error Little Cayman\n",
      "error Rigolet\n",
      "error Ramstein\n",
      "error Red Sucker Lake\n",
      "error Mayaguana\n",
      "error Jomsom\n",
      "error Lonorore\n",
      "error Savannakhet\n",
      "error Rurenabaque\n",
      "error Cross Lake\n",
      "error Blanc-Sablon\n",
      "error Heho\n",
      "error Cayo Coco\n",
      "error Stronsay\n",
      "error Kangirsuk\n",
      "error Amboseli National Park\n",
      "error Jiagedaqi\n",
      "error Ikaria\n",
      "error Monkey Mia\n",
      "error Tin City\n",
      "error Igloolik\n",
      "error Gan Island\n",
      "error Galela-Celebes Island\n",
      "error Beigan Island\n",
      "error Gillam\n",
      "error Sulaimaniyah\n",
      "error Phosphate Hill\n",
      "error Wabush\n",
      "error Bamfield\n",
      "error Tokua\n",
      "error Pakse\n",
      "error Utopia Creek\n",
      "error Dawadmi\n",
      "error Putussibau-Borneo Island\n",
      "error Kadanwari\n",
      "error Iliamna\n",
      "error Maamigili Island\n",
      "error Babo-Papua Island\n",
      "error Mfuwe\n",
      "error Kagau Island\n",
      "error Stewart\n",
      "error Chuuk\n",
      "error Fort MacKay\n",
      "error Kilaguni\n",
      "error Kaadedhdhoo Island\n",
      "error Wemindji\n",
      "error Tengchong\n",
      "error Nanki Shirahama\n",
      "error Little Grand Rapids\n",
      "error Taloyoak\n"
     ]
    }
   ],
   "source": [
    "for c in error3:\n",
    "    if c not in G.keys()+error4:\n",
    "        ys={\"pop\":0,\"nearby\":{}}\n",
    "        q=remove_accents(strip_accents('population of '+c.split('/')[0]+', '+unicities[c]))\n",
    "        res = client.query(q)\n",
    "        good=True\n",
    "        if 'pod' in res:\n",
    "            for i in range(len(res['pod'])):\n",
    "                try:\n",
    "                    if res['pod'][i]['@title']==\"Result\":\n",
    "                        x=res['pod'][i]['subpod']['plaintext']\n",
    "                        if 'available' not in x:\n",
    "                            popul=x[:x.find('people')-1]\n",
    "                            if 'mill' in popul:\n",
    "                                popul=popul[:popul.find('mill')-1]\n",
    "                                if '|' in popul:popul=popul.split('|')[1].strip()\n",
    "                            ys['pop']=int(float(popul)*1000000.0)\n",
    "                    if res['pod'][i]['@title']==\"Nearby cities\":\n",
    "                        x=res['pod'][i]['subpod']['plaintext'].split('\\n')\n",
    "                        if 'available' not in x:\n",
    "                            for y in x[:-1]:\n",
    "                                people=y[y.rfind('|')+2:y.find('people')-1]\n",
    "                                if 'mill' in people:\n",
    "                                    people=float(people[:people.find('mill')-1])*1000000.0\n",
    "                                km=float(y[y.find('|')+2:y.find(' km ')])\n",
    "                                ys['nearby'][y.split('|')[0].split(',')[0].strip()]={\"km\":km,\"people\":int(people)}\n",
    "                            G[c]=ys\n",
    "                            print 'success',c\n",
    "                            good=False\n",
    "                except: pass\n",
    "        if good: \n",
    "            print 'error',c\n",
    "            error4.append(c)"
   ]
  },
  {
   "cell_type": "code",
   "execution_count": 14,
   "metadata": {
    "collapsed": false
   },
   "outputs": [
    {
     "name": "stdout",
     "output_type": "stream",
     "text": [
      "680 120\n"
     ]
    }
   ],
   "source": [
    "file(\"../json/pop4c.json\",'w').write(json.dumps(G))\n",
    "file(\"../json/pop4ec.json\",'w').write(json.dumps(error4))\n",
    "print len(G),len(error4)"
   ]
  }
 ],
 "metadata": {
  "anaconda-cloud": {},
  "kernelspec": {
   "display_name": "Python [conda root]",
   "language": "python",
   "name": "conda-root-py"
  },
  "language_info": {
   "codemirror_mode": {
    "name": "ipython",
    "version": 2
   },
   "file_extension": ".py",
   "mimetype": "text/x-python",
   "name": "python",
   "nbconvert_exporter": "python",
   "pygments_lexer": "ipython2",
   "version": "2.7.13"
  }
 },
 "nbformat": 4,
 "nbformat_minor": 1
}
