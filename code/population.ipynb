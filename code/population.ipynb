{
 "cells": [
  {
   "cell_type": "code",
   "execution_count": 1,
   "metadata": {
    "collapsed": true
   },
   "outputs": [],
   "source": [
    "import pandas as pd, json, numpy as np\n",
    "import matplotlib.pyplot as plt\n",
    "%matplotlib inline"
   ]
  },
  {
   "cell_type": "code",
   "execution_count": 2,
   "metadata": {
    "collapsed": false
   },
   "outputs": [],
   "source": [
    "cluster=json.loads(file('../json/cluster.json','r').read())\n",
    "citysave=json.loads(file('../json/citysave.json','r').read())\n",
    "N=json.loads(file('../json/N.json','r').read())"
   ]
  },
  {
   "cell_type": "code",
   "execution_count": 3,
   "metadata": {
    "collapsed": false
   },
   "outputs": [],
   "source": [
    "import wolframalpha\n",
    "#app_id='T7449E-PXXTAHUHUA'\n",
    "#nagyatom@yahoo.com\n",
    "app_id='HHKXW4-Q6WJG2XAXW'\n",
    "#csaladenespp@yahoo.com\n",
    "client = wolframalpha.Client(app_id)"
   ]
  },
  {
   "cell_type": "code",
   "execution_count": 4,
   "metadata": {
    "collapsed": true
   },
   "outputs": [],
   "source": [
    "unicities={}\n",
    "for i in cluster:\n",
    "    if cluster[i] not in unicities:\n",
    "        unicities[cluster[i]]=citysave[i]['country']"
   ]
  },
  {
   "cell_type": "code",
   "execution_count": 5,
   "metadata": {
    "collapsed": false
   },
   "outputs": [],
   "source": [
    "for i in cluster:\n",
    "    citysave[i]['city']=cluster[i]"
   ]
  },
  {
   "cell_type": "code",
   "execution_count": 6,
   "metadata": {
    "collapsed": true
   },
   "outputs": [],
   "source": [
    "file(\"../json/citysave2.json\",'w').write(json.dumps(citysave))"
   ]
  },
  {
   "cell_type": "code",
   "execution_count": 7,
   "metadata": {
    "collapsed": false
   },
   "outputs": [],
   "source": [
    "pop1=json.loads(file('../json/pop1c.json','r').read())\n",
    "err1=json.loads(file('../json/pop1ec.json','r').read())\n",
    "pop2=json.loads(file('../json/pop2c.json','r').read())\n",
    "err2=json.loads(file('../json/pop2ec.json','r').read())\n",
    "pop3=json.loads(file('../json/pop3c.json','r').read())\n",
    "err3=json.loads(file('../json/pop3ec.json','r').read())\n",
    "pop4=json.loads(file('../json/pop4c.json','r').read())\n",
    "err4=json.loads(file('../json/pop4ec.json','r').read())"
   ]
  },
  {
   "cell_type": "markdown",
   "metadata": {},
   "source": [
    "Try to reparse errors"
   ]
  },
  {
   "cell_type": "code",
   "execution_count": 8,
   "metadata": {
    "collapsed": false
   },
   "outputs": [
    {
     "data": {
      "text/plain": [
       "552"
      ]
     },
     "execution_count": 8,
     "metadata": {},
     "output_type": "execute_result"
    }
   ],
   "source": [
    "err=err1+err2+err3+err4\n",
    "G={}\n",
    "error=[]\n",
    "len(err)"
   ]
  },
  {
   "cell_type": "code",
   "execution_count": null,
   "metadata": {
    "collapsed": true
   },
   "outputs": [],
   "source": [
    "import unicodedata\n",
    "def strip_accents(s):\n",
    "   return ''.join(c for c in unicodedata.normalize('NFD', s)\n",
    "                  if unicodedata.category(c) != 'Mn')\n",
    "def remove_accents(input_str):\n",
    "    nfkd_form = unicodedata.normalize('NFKD', input_str)\n",
    "    only_ascii = nfkd_form.encode('ASCII', 'ignore')\n",
    "    return only_ascii"
   ]
  },
  {
   "cell_type": "code",
   "execution_count": null,
   "metadata": {
    "collapsed": false
   },
   "outputs": [
    {
     "name": "stdout",
     "output_type": "stream",
     "text": [
      "error Fort Huachuca Sierra Vista\n",
      "error Kasos Island\n",
      "error Santa Ana Island\n",
      "error Fera Island\n",
      "error St-Augustin\n",
      "error York Landing\n",
      "error Lamap\n",
      "error Kadhdhoo Island\n",
      "error Mangshi\n",
      "error Araracuara\n",
      "error Bhairawa\n",
      "error Lake Manyara National Park\n",
      "error Aménas\n",
      "error Puerto Ordaz\n",
      "error Kabalega Falls\n",
      "error Inglaterra\n",
      "error Labuha-Halmahera Island\n",
      "error Kooddoo Island\n",
      "error Kelsey\n",
      "error Buol-Celebes Island\n",
      "error Yap\n",
      "error Tambor\n",
      "error Bardufoss\n",
      "error Gustavus\n",
      "error San Andros\n",
      "error Repulse Bay\n",
      "error Ayers Rock\n",
      "error Ukunda\n",
      "error Boolgeeda\n",
      "error Sishen\n",
      "error Big Trout\n",
      "error Whale Cove\n",
      "error Sanikiluaq\n",
      "error Santa Cruz-Graciosa Bay-Luova\n",
      "error Coral Harbour\n",
      "error Valesdir\n",
      "error Pagadian\n",
      "\n",
      "error Coondewanna\n",
      "error Paraparaumu\n",
      "error Whatì\n",
      "error Fuyun\n",
      "error Governor's Harbour\n",
      "error Sachs Harbour\n",
      "error Kangiqsujuaq\n",
      "error Tabubil\n",
      "error Gove\n",
      "error Jeon Ju\n",
      "error Bayannur\n",
      "error Natuashish\n",
      "error Fort Good Hope\n",
      "error Ipota\n",
      "error Kugaaruk\n",
      "error Tofino\n",
      "error St. Theresa Point\n",
      "error Amook Bay\n",
      "error North Ronaldsay\n",
      "error Shamattawa\n",
      "error Ra'sal-Khaymah\n",
      "error Gods River\n",
      "error Tokunoshima\n",
      "error Muskrat Dam\n",
      "error Club Makokola\n",
      "error Cat Lake\n",
      "error Kalimarau\n",
      "error Assaluyeh\n",
      "error Umiujaq\n",
      "error Peureumeue-Sumatra Island\n",
      "error Hall Beach\n",
      "error Bearskin Lake\n",
      "error Banmaw\n",
      "error Tahuna-Sangihe Island\n",
      "error Hemavan\n",
      "error Mahikeng\n",
      "error Bakalalan\n",
      "error Moruya\n",
      "error Anahim Lake\n",
      "error Marsa Alam\n",
      "error Bangda\n",
      "error Sovetsky\n",
      "error Sandy Lake\n",
      "error Termas de Rio Hondo\n",
      "error Praslin Island\n",
      "error Rouyn\n",
      "error Waskaganish\n",
      "error Fort Hope\n",
      "error Hoedspruit\n",
      "error Puvirnituq\n",
      "error Red Dog\n",
      "error Ulusaba\n",
      "error Keperveyem\n",
      "error Cicia\n",
      "error Tongoa Island\n",
      "error Cloudbreak\n",
      "error Long Akah\n",
      "error Treasure Cay\n",
      "error Saumlaki-Yamdena Island\n",
      "error Misrata\n",
      "error Kangding\n",
      "error Fort Sandeman\n",
      "error Guantanamo Bay Naval Station\n",
      "error Doomadgee\n",
      "error Makabana\n",
      "error Nduli\n",
      "error Al-Qamishli\n",
      "error Hayman Island\n",
      "error Bau-Bau\n",
      "error Dover-Cheswold\n",
      "error Isla Colón\n",
      "error Los Roques\n",
      "error Wamena\n",
      "error Peawanuck\n",
      "error Paama Island\n",
      "error Quaqtaq\n",
      "error Sumburgh\n",
      "error Blimbingsari\n",
      "error Webequie\n",
      "error West Angelas\n",
      "partial success Dharavandhoo Island\n",
      "success Dharavandhoo Island\n",
      "error Al-Qassim\n",
      "error Cap Skirring\n",
      "error Schefferville\n",
      "error Humberside\n",
      "partial success Nabire-Papua Island\n",
      "error Nabire-Papua Island\n",
      "error Eastmain River\n",
      "error Walaha\n",
      "error Golog\n",
      "error Okinoshima\n",
      "error Argyle\n",
      "error Pickle Lake\n",
      "error Shennongjia\n",
      "error Mungeranie\n",
      "error Tambolaka\n",
      "error Mataveri\n",
      "error Point Salines\n",
      "error Cape Dorset\n",
      "error Petropavlovsk-Kamchatsky\n",
      "error Ekati\n",
      "error Tumling Tar\n",
      "error Kashechewan\n",
      "error Poso-Celebes Island\n",
      "error Tymvou\n",
      "error Tanjung Selor-Borneo Island\n",
      "error La Grande-4\n",
      "error Suavanao\n",
      "error Kasabonika\n",
      "partial success Utila Island\n",
      "success Utila Island\n",
      "error Lac Brochet\n",
      "error Beef Island\n",
      "error Lamen Bay\n",
      "error Patuxent River\n",
      "error Ambryn Island\n",
      "error Tulita\n",
      "error Iles-de-la-Madeleine\n",
      "error Paulatuk\n",
      "error Opapimiskan Lake\n",
      "error Pikangikum\n",
      "error Fort Albany\n",
      "error Waitangi\n",
      "error Keewaywin\n",
      "error Sabang-We Island\n",
      "error Sege\n",
      "error Loh-Linua\n",
      "error Wapekeka\n",
      "error Natashquan\n",
      "error Inukjuak\n",
      "error Merowe\n",
      "error Sept-Iles\n",
      "error Mara Lodges\n",
      "partial success Fuvahmulah Island\n",
      "success Fuvahmulah Island\n",
      "error Pohnpei\n",
      "error Solwesi\n",
      "error Goose Bay\n",
      "error Timika\n",
      "error Malekula Island\n",
      "error Vientiane\n",
      "error Bryce Canyon\n",
      "error Luang Namtha\n",
      "error Satar Tacik-Flores Island\n",
      "error Qaisumah\n",
      "error Kao-Celebes Island\n",
      "error Yoronjima\n",
      "error Toli Toli-Celebes Island\n",
      "error Tasiujaq\n",
      "error Berens River\n",
      "error Puerto Obaldia\n",
      "error McArthur River Mine\n",
      "error Floro\n",
      "error Tadoule Lake\n",
      "error Ifuru\n",
      "error Thermal\n",
      "error Ranai-Natuna Besar Island\n",
      "error Ethiopia\n",
      "error Matei\n",
      "partial success Nevis\n",
      "error Nevis\n",
      "error Colville Lake\n",
      "error Mont-Joli\n",
      "error Samburu South\n",
      "error Kebar\n",
      "error Kingfisher Lake\n",
      "error Australia\n",
      "error Larantuka\n",
      "partial success Djibouti\n",
      "error Djibouti\n",
      "error Malawi\n",
      "error Yangyang\n",
      "error Lebanon\n",
      "partial success Kastelorizo Island\n",
      "error Kastelorizo Island\n",
      "partial success Anglesey\n",
      "error Anglesey\n",
      "error South Andros\n",
      "partial success Islay\n",
      "error Islay\n",
      "partial success Zhezkazgan\n",
      "error Zhezkazgan\n",
      "error Songpan\n",
      "error Saudi Arabia\n",
      "error Tawitawi\n",
      "error Mahshahr\n",
      "partial success Dikson\n",
      "error Dikson\n",
      "partial success Tennant Creek\n",
      "error Tennant Creek\n",
      "error Barter Island\n",
      "partial success Atka\n",
      "error Atka\n",
      "partial success Pajala\n",
      "error Pajala\n",
      "error Bermuda\n",
      "error Peru\n",
      "error Benin\n",
      "partial success Virgin Gorda\n",
      "error Virgin Gorda\n",
      "error Castro\n",
      "partial success San Cristobal\n",
      "error San Cristobal\n",
      "partial success Vanua Balavu\n",
      "error Vanua Balavu\n",
      "partial success Pangnirtung\n",
      "error Pangnirtung\n",
      "error Bamaga\n",
      "partial success Fuerteventura\n",
      "error Fuerteventura\n",
      "error Palm Island\n",
      "error Charleville\n",
      "partial success Churchill\n",
      "error Churchill\n",
      "partial success Graciosa\n",
      "error Graciosa\n",
      "partial success Isle of Man\n",
      "error Isle of Man\n",
      "error Iron Mountain Kingsford\n",
      "error Qinhuangdao\n",
      "error Dobo-Kobror Island\n",
      "error Muan\n",
      "error Barra\n",
      "error Formosa\n",
      "error Longyearbyen\n",
      "partial success Hachijojima\n",
      "error Hachijojima\n",
      "partial success Rankin Inlet\n",
      "error Rankin Inlet\n",
      "partial success Lawas\n",
      "error Lawas\n",
      "error Long Datih\n",
      "error Roti-Rote Island\n",
      "partial success Puerto Jimenez\n",
      "error Puerto Jimenez\n",
      "error Lansdowne House\n",
      "error Barimunya\n",
      "partial success Marudi\n",
      "error Marudi\n",
      "error Mirny\n",
      "error Island Lake\n",
      "error Lajes\n",
      "error Puerto Iguazu\n",
      "partial success Isles Of Scilly\n",
      "error Isles Of Scilly\n",
      "error Round Lake\n",
      "partial success Carbondale-Murphysboro\n",
      "error Carbondale-Murphysboro\n",
      "partial success Coll Island\n",
      "error Coll Island\n",
      "partial success Kramfors\n",
      "error Kramfors\n",
      "error Marau\n",
      "partial success Mong Hsat\n",
      "error Mong Hsat\n",
      "partial success Niue\n",
      "error Niue\n",
      "error Pantnagar\n",
      "error Bingol\n",
      "error Boa Vista\n",
      "error Sintang\n",
      "error Phu Quoc\n",
      "error Lar\n",
      "error Summer Beaver\n",
      "error Telfer\n",
      "error Fort Severn\n",
      "error Qiemo\n",
      "error Skopje\n",
      "error Brize Norton\n",
      "error Eastsound\n",
      "error Churchill Falls\n",
      "error Butuan\n",
      "error Long Seridan\n",
      "error Chakcharan\n",
      "error Olympic Dam\n",
      "error Fort Chipewyan\n",
      "partial success Thimarafushi Island\n",
      "success Thimarafushi Island\n",
      "error Grise Fiord\n",
      "error Chu Lai\n",
      "error Tajima\n",
      "error Lukla\n",
      "error Sachigo Lake\n",
      "error Nerlerit Inaat\n",
      "error Mount Keith\n",
      "error Gotalalamo-Morotai Island\n",
      "error Ramata\n",
      "error Ouango Fitini\n",
      "error Geneina\n",
      "error Skukuza\n",
      "error Knock\n",
      "partial success Merauke-Papua Island\n",
      "success Merauke-Papua Island\n",
      "error East Midlands\n",
      "error Skardu\n",
      "error Kuujjuarapik\n",
      "error Mont Tremblant\n",
      "error Ohrid\n",
      "error Mpacha\n",
      "error Mar del Plata\n",
      "error Port Hope Simpson\n",
      "error Arviat\n",
      "error Kimmirut\n",
      "error Kuujjuaq\n",
      "error Wanzhou\n",
      "error Snare Lake\n",
      "error Deadmans Cay\n",
      "error Kingscote\n",
      "error Sveg\n",
      "error Kaimana-Papua Island\n",
      "error Carajas\n",
      "error Déline\n",
      "error Makkovik\n",
      "error Kosrae\n",
      "error Amami\n",
      "error North Connel\n",
      "error Beida\n",
      "error Poplar Hill\n",
      "error Kattiniq\n",
      "error Ta'izz\n",
      "error Luang Prabang\n",
      "error Aupaluk\n",
      "error Semera\n",
      "error Batu Licin-Borneo Island\n",
      "error Tébessi\n",
      "error Kasompe\n",
      "error Dillon's Bay\n",
      "error Kalskag\n",
      "error Dwangwa\n",
      "error Eday\n",
      "error Karumba\n",
      "error Kithira\n",
      "error Hommalinn\n",
      "error Spring Point\n",
      "error Wunnummin Lake\n",
      "error North Spirit Lake\n",
      "error Baker Lake\n",
      "error Laos\n",
      "error Salluit\n",
      "error Oksibil-Papua Island\n",
      "error Londolovit\n",
      "error Ablow\n",
      "error Abu Simbel\n",
      "error Van Nuys\n",
      "error Qikiqtarjuaq\n",
      "error Liping\n",
      "error Ivalo\n",
      "error General Santos\n",
      "error Sampit Airport\n",
      "error Xieng Khouang\n",
      "error Omitama\n",
      "error Sawan\n"
     ]
    }
   ],
   "source": [
    "for c in err:\n",
    "    if c not in G.keys()+error:\n",
    "        ys={\"pop\":0,\"nearby\":{}}\n",
    "        q=remove_accents(strip_accents('population of '+c.split('/')[0].\\\n",
    "                                       replace('island','').\\\n",
    "                                       replace('Island','').strip()+', '+unicities[c]))\n",
    "        res = client.query(q)\n",
    "        good=True\n",
    "        if 'pod' in res:\n",
    "            for i in range(len(res['pod'])):\n",
    "                try:\n",
    "                    if res['pod'][i]['@title']==\"Result\":\n",
    "                        x=res['pod'][i]['subpod']['plaintext']\n",
    "                        if 'available' not in x:\n",
    "                            popul=x[:x.find('people')-1]\n",
    "                            if 'mill' in popul:\n",
    "                                popul=popul[:popul.find('mill')-1]\n",
    "                                if '|' in popul:popul=popul.split('|')[1].strip()\n",
    "                            ys['pop']=int(float(popul)*1000000.0)\n",
    "                            G[c]=ys\n",
    "                            print 'partial success',c\n",
    "                except: pass\n",
    "                try:\n",
    "                    if res['pod'][i]['@title']==\"Nearby cities\":\n",
    "                        x=res['pod'][i]['subpod']['plaintext'].split('\\n')\n",
    "                        if 'available' not in x:\n",
    "                            for y in x[:-1]:\n",
    "                                people=y[y.rfind('|')+2:y.find('people')-1]\n",
    "                                if 'mill' in people:\n",
    "                                    people=float(people[:people.find('mill')-1])*1000000.0\n",
    "                                km=float(y[y.find('|')+2:y.find(' km ')])\n",
    "                                ys['nearby'][y.split('|')[0].split(',')[0].strip()]={\"km\":km,\"people\":int(people)}\n",
    "                            G[c]=ys\n",
    "                            print 'success',c\n",
    "                            good=False\n",
    "                except: pass\n",
    "        if good: \n",
    "            print 'error',c\n",
    "            error.append(c)"
   ]
  },
  {
   "cell_type": "code",
   "execution_count": null,
   "metadata": {
    "collapsed": true
   },
   "outputs": [],
   "source": [
    "print len(G),len(error)"
   ]
  },
  {
   "cell_type": "code",
   "execution_count": null,
   "metadata": {
    "collapsed": true
   },
   "outputs": [],
   "source": [
    "for i in pop1:\n",
    "    if i in G:print i,1\n",
    "    G[i]=pop1[i]\n",
    "for i in pop2:\n",
    "    if i in G:print i,2\n",
    "    G[i]=pop2[i]\n",
    "for i in pop3:\n",
    "    if i in G:print i,3\n",
    "    G[i]=pop3[i]\n",
    "for i in pop4:\n",
    "    if i in G:print i,4\n",
    "    G[i]=pop4[i]"
   ]
  },
  {
   "cell_type": "code",
   "execution_count": null,
   "metadata": {
    "collapsed": true
   },
   "outputs": [],
   "source": [
    "file(\"../json/pop_cities.json\",'w').write(json.dumps(G))\n",
    "file(\"../json/pope_cities.json\",'w').write(json.dumps(error))\n",
    "print len(G)"
   ]
  },
  {
   "cell_type": "markdown",
   "metadata": {},
   "source": [
    "Country populations"
   ]
  },
  {
   "cell_type": "code",
   "execution_count": 20,
   "metadata": {
    "collapsed": true
   },
   "outputs": [],
   "source": [
    "G={}\n",
    "error=[]"
   ]
  },
  {
   "cell_type": "code",
   "execution_count": 21,
   "metadata": {
    "collapsed": false
   },
   "outputs": [
    {
     "name": "stdout",
     "output_type": "stream",
     "text": [
      "Canada Libyan Arab Jamahiriya Guernsey Turkmenistan Lithuania FYR of Macedonia Cambodia Dem. Rep. of Congo Ethiopia Aruba Swaziland Belize Argentina Bolivia Cameroon Burkina Faso Ghana Saudi Arabia Cape Verde Slovenia Guatemala Bosnia and Herzegovina Guinea Russian Federation Germany Dominica Liberia Maldives Paraguay Pakistan Oman Tanzania Greenland Gabon Niue Monaco New Zealand Yemen Jersey Jamaica Namibia Albania Samoa United Arab Emirates Uruguay India Azerbaijan Madagascar Lesotho Saint Vincent and the Grenadines Kenya Tajikistan Turkey Afghanistan Fiji Bangladesh Eritrea Solomon Islands Saint Lucia Mongolia France Syrian Arab Republic Bermuda Slovakia Somalia Peru Vanuatu Nauru Norway Malawi Cook Islands Benin Cuba Montenegro Saint Kitts and Nevis Togo China Armenia Antigua and Barbuda Dominican Republic Ukraine Bahrain Tonga Finland Western Sahara Indonesia Mauritius Sweden Vietnam British Virgin Islands Guyana Mali Bulgaria United States Romania Angola Cayman Islands South Africa Cyprus Brunei Darussalam Malaysia Austria Mozambique Uganda Japan Niger Isle of Man Brazil Kuwait Panama Rep. of Moldova Costa Rica Luxembourg Bahamas Gibraltar Ireland Italy Nigeria Ecuador Czech Republic Australia Iran Algeria El Salvador Tuvalu Marshall Islands Chile Puerto Rico Belgium Kiribati Haiti Iraq Hong Kong Sierra Leone Georgia Gambia Philippines Portugal Morocco Croatia Guinea-Bissau Thailand Switzerland Grenada Seychelles Chad Estonia Kosovo Equatorial Guinea Lebanon Uzbekistan Egypt Djibouti Rwanda Timor-Leste Spain Colombia Burundi Taiwan Turks and Caicos Islands Barbados Qatar Palau Bhutan Sudan Palestinian Territories Nepal São Tomé and Principe Malta Netherlands Suriname Anguilla Venezuela Micronesia (Federated States of) Israel Myanmar (Burma) Iceland Zambia Senegal Papua New Guinea Cote d'Ivoire Lao People's Dem. Rep. Zimbabwe Jordan Denmark Kazakhstan Poland Cent African Rep Mauritania Kyrgyzstan Montserrat Andorra Trinidad and Tobago Latvia People's Republic of Korea South Sudan Hungary Belarus Honduras Mexico Tunisia Nicaragua Singapore Serbia Comoros United Kingdom Congo Greece Sri Lanka French Guiana Rep. of Korea Botswana\n"
     ]
    }
   ],
   "source": [
    "for c in N:\n",
    "    if c not in G.keys()+error:\n",
    "        print c,\n",
    "        q='population of '+c\n",
    "        try:\n",
    "            res = client.query(q)\n",
    "            for i in range(len(res['pod'])):\n",
    "                if res['pod'][i]['@title']==\"Result\":\n",
    "                    x=res['pod'][i]['subpod']['plaintext']\n",
    "                    popul=x[:x.find('people')-1]\n",
    "                    if 'mill' in popul:\n",
    "                            popul=float(popul[:popul.find('mill')-1])*1000000.0\n",
    "                    G[c]=int(popul)\n",
    "        except: error.append(c)"
   ]
  },
  {
   "cell_type": "code",
   "execution_count": 29,
   "metadata": {
    "collapsed": true
   },
   "outputs": [],
   "source": [
    "file(\"../json/pop_countries.json\",'w').write(json.dumps(G))"
   ]
  },
  {
   "cell_type": "code",
   "execution_count": 26,
   "metadata": {
    "collapsed": false
   },
   "outputs": [
    {
     "data": {
      "text/plain": [
       "[u'FYR of Macedonia',\n",
       " u'India',\n",
       " u'China',\n",
       " u'Palestinian Territories',\n",
       " u'S\\xe3o Tom\\xe9 and Principe',\n",
       " u'Micronesia (Federated States of)',\n",
       " u\"Lao People's Dem. Rep.\"]"
      ]
     },
     "execution_count": 26,
     "metadata": {},
     "output_type": "execute_result"
    }
   ],
   "source": [
    "error"
   ]
  },
  {
   "cell_type": "code",
   "execution_count": 31,
   "metadata": {
    "collapsed": false
   },
   "outputs": [
    {
     "name": "stdout",
     "output_type": "stream",
     "text": [
      "FYR of Macedonia FYR of Macedonia\n",
      "India China Palestinian Territories Palestinian Territories\n",
      "São Tomé and Principe São Tomé and Principe\n",
      "Micronesia (Federated States of) Micronesia (Federated States of)\n",
      "Lao People's Dem. Rep. Lao People's Dem. Rep.\n"
     ]
    }
   ],
   "source": [
    "for c in error:\n",
    "    if c not in G.keys():\n",
    "        print c,\n",
    "        q='population of '+c\n",
    "        try:\n",
    "            res = client.query(q)\n",
    "            for i in range(len(res['pod'])):\n",
    "                if res['pod'][i]['@title']==\"Result\":\n",
    "                    x=res['pod'][i]['subpod']['plaintext']\n",
    "                    popul=x[:x.find('people')-1]\n",
    "                    if 'mill' in popul:\n",
    "                            popul=float(popul[:popul.find('mill')-1])*1000000.0\n",
    "                    elif 'bill' in popul:\n",
    "                            popul=float(popul[:popul.find('bill')-1])*1000000000.0\n",
    "                    G[c]=int(popul)\n",
    "        except: print c"
   ]
  },
  {
   "cell_type": "code",
   "execution_count": 40,
   "metadata": {
    "collapsed": false
   },
   "outputs": [
    {
     "name": "stdout",
     "output_type": "stream",
     "text": [
      "São Tomé and Principe Micronesia (Federated States of) Lao People's Dem. Rep.\n"
     ]
    }
   ],
   "source": [
    "cc={'FYR of Macedonia':'Macedonia',\n",
    "u'São Tomé and Principe':'Sao Tome and Principe',\n",
    "'Micronesia (Federated States of)':'Micronesia',\n",
    "u\"Lao People's Dem. Rep.\":'Laos'}\n",
    "for c in error:\n",
    "    if c not in G.keys()+['Palestinian Territories']:\n",
    "        print c,\n",
    "        q='population of '+cc[c]\n",
    "        res = client.query(q)\n",
    "        for i in range(len(res['pod'])):\n",
    "            if res['pod'][i]['@title']==\"Result\":\n",
    "                x=res['pod'][i]['subpod']['plaintext']\n",
    "                popul=x[:x.find('people')-1]\n",
    "                if 'mill' in popul:\n",
    "                        popul=float(popul[:popul.find('mill')-1])*1000000.0\n",
    "                elif 'bill' in popul:\n",
    "                        popul=float(popul[:popul.find('bill')-1])*1000000000.0\n",
    "                G[c]=int(popul)"
   ]
  },
  {
   "cell_type": "code",
   "execution_count": 55,
   "metadata": {
    "collapsed": false
   },
   "outputs": [
    {
     "name": "stdout",
     "output_type": "stream",
     "text": [
      "Palestinian Territories\n"
     ]
    }
   ],
   "source": [
    "c='Palestinian Territories'\n",
    "print c,\n",
    "q='population of '+c\n",
    "res = client.query(q)\n",
    "for i in range(len(res['pod'])):\n",
    "    s=0\n",
    "    if res['pod'][i]['@title']==\"Result\":\n",
    "        xx=res['pod'][i]['subpod']['plaintext'].split('\\n')\n",
    "        for x in xx[:-1]:\n",
    "            popul=x[x.find('|')+2:x.find('people')-1]\n",
    "            if 'mill' in popul:\n",
    "                    popul=float(popul[:popul.find('mill')-1])*1000000.0\n",
    "            elif 'bill' in popul:\n",
    "                    popul=float(popul[:popul.find('bill')-1])*1000000000.0\n",
    "            s+=int(popul)\n",
    "        G[c]=s"
   ]
  },
  {
   "cell_type": "code",
   "execution_count": 57,
   "metadata": {
    "collapsed": true
   },
   "outputs": [],
   "source": [
    "file(\"../json/pop_countries2.json\",'w').write(json.dumps(G))"
   ]
  }
 ],
 "metadata": {
  "anaconda-cloud": {},
  "kernelspec": {
   "display_name": "Python [conda root]",
   "language": "python",
   "name": "conda-root-py"
  },
  "language_info": {
   "codemirror_mode": {
    "name": "ipython",
    "version": 2
   },
   "file_extension": ".py",
   "mimetype": "text/x-python",
   "name": "python",
   "nbconvert_exporter": "python",
   "pygments_lexer": "ipython2",
   "version": "2.7.13"
  }
 },
 "nbformat": 4,
 "nbformat_minor": 1
}
