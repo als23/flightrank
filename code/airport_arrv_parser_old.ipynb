{
 "cells": [
  {
   "cell_type": "code",
   "execution_count": 2,
   "metadata": {
    "collapsed": true
   },
   "outputs": [],
   "source": [
    "import pandas as pd, json, numpy as np\n",
    "import matplotlib.pyplot as plt\n",
    "%matplotlib inline"
   ]
  },
  {
   "cell_type": "markdown",
   "metadata": {},
   "source": [
    "Load airports of each country"
   ]
  },
  {
   "cell_type": "code",
   "execution_count": 7,
   "metadata": {
    "collapsed": false
   },
   "outputs": [],
   "source": [
    "L=json.loads(file('../json/L.json','r').read())\n",
    "M=json.loads(file('../json/M.json','r').read())\n",
    "N=json.loads(file('../json/N.json','r').read())"
   ]
  },
  {
   "cell_type": "code",
   "execution_count": 15,
   "metadata": {
    "collapsed": true
   },
   "outputs": [],
   "source": [
    "import requests"
   ]
  },
  {
   "cell_type": "code",
   "execution_count": 15,
   "metadata": {
    "collapsed": false
   },
   "outputs": [],
   "source": [
    "AP={}\n",
    "for c in M:\n",
    "    if c not in AP:AP[c]={}\n",
    "    for i in range(len(L[c])):\n",
    "        AP[c][N[c][i]]=L[c][i]"
   ]
  },
  {
   "cell_type": "code",
   "execution_count": 18,
   "metadata": {
    "collapsed": true
   },
   "outputs": [],
   "source": [
    "sch={}"
   ]
  },
  {
   "cell_type": "markdown",
   "metadata": {},
   "source": [
    "record schedules for 2 weeks, then augment count with weekly flight numbers.\n",
    "seasonal and seasonal charter will count as once per week for 3 months, so 12/52 per week. TGM separate, since its history is in the past."
   ]
  },
  {
   "cell_type": "code",
   "execution_count": 24,
   "metadata": {
    "collapsed": true
   },
   "outputs": [],
   "source": [
    "baseurl='https://www.airportia.com/'\n",
    "import requests, urllib2\n",
    "SC={}"
   ]
  },
  {
   "cell_type": "markdown",
   "metadata": {},
   "source": [
    "parse Arrivals"
   ]
  },
  {
   "cell_type": "code",
   "execution_count": null,
   "metadata": {
    "collapsed": false
   },
   "outputs": [
    {
     "name": "stdout",
     "output_type": "stream",
     "text": [
      "Canada\n",
      "YUY YUX XBW ZQS XBR YUL XBE YUB YUD XBB YRT ZTS XPK YUT HZP XPP LAK ZFN YBX YBY YBQ YBR YBS YBT CJH YBV YBW YBH YBI YBJ YBK YBL YBM YBN YBO YBA YBB YBC YBD YLL YBF YBG IUM ZGR ZGS XKO XKS YYN ZGI AKV XFZ YCE SYF YIG YIF YIB YIO YIK YIV XTL ZMT YFE YFG YFA YFB YFC YFL YFO YFH YFJ YFR YFS YFX YPR YPS YPP YPQ ZRR YPT YPZ YPX YPY YPB YPC YPA YPF YPG YPD YPE YPJ YPH YPI YPN YPO YPL YPM CFQ ZNA ZNG ZJN ZNU XQU YHB YMQ YMP YMR YMT YMW YMX YMA YMC QBC YME YMD YMG YMF YMI YMH YMJ YMM YML YMO YMN ZAC SUR YSK YSJ YSI YSH YSO YSN YSM YSL YSC XLF YSA YSG XLB YSE YSD YSZ YSY YSX YSS YSR YSQ YSP YSV YSU YPW YZP YZR YZS YZT YZU YZV YZW YZX YZZ YZA YZC YZD YZE YZF YZG YZH YQR YZM YOD YTZ YTX YTT YTU YTR YTS YTP YTQ YTN YTO YTL YTM YTJ YTK YTH YTI YTF YTG YTD YTE YTB YTC YTA SSQ XCL XCM YHK YHH YHI YHN YHO YHM ZJG YHC YHA YHF YHG YHD YHE YHZ YHY YHR YHS YHP YHT YHU DGF ZRJ WPL WPC YAY YAX YAZ YAU YAT YAW YAV YAQ YAR YAM YAL YAH YAJ YAE DUQ YAG YAF YAA YAC YAB TUX ZEL ZEM KEW KES ZST ZSW ZSP YWR YWQ YWP YWY KIF YWG YWF YWB YWA YWO YWN YWM YWL YWK YWJ ZSJ YWH YWS YBE XGL XGR YLW YLT YLR YLS YLP YLQ ZFW YLX YLY YLF YLD YLE YLB YLC ZFM YLA ZFB ZFA YLM YLJ YLH ZFD KNY KNV YEK YEM YEL YEN YED YEG ZAA YEY YEP YER YEU YET YEV YAD YKE WNN YKC YKA YKG YKF ZOF YKD YKK YKJ YKI YKL YKQ YLO YKU YKT YKZ YKY YKX XRR ZFL ILF DVK ZHP HNX ZBF ZBD ZBM ZTM YRI YRJ YRL YRM YRN YRO YRA YRB YRD YRE YRF YRG YRQ YRR YRS XMP YRV YYU YYT YYW ZMH YYQ YYR YYY YYZ YYE YYD YYG YYF YYA YYC YYB YYM YYL PIW YYI YYH YYJ JHL MSA YOO YOJ YOH YOG ZKE YOE ZKG YOC YOA ZWL YOY YOW YOS YOP YMB ZPO TIL GSL YDN YDO YDL YVO YDJ YDK YDH YDI YDF YDG YDE YDB YDC YDA YDX YDV YDW YDT YDR YDS YDP YDQ YVT YVV YVP YVQ YVR YVZ YVE YVG YVB YVC YVM ZPB CXH YJF YJN YJO YJP ZLT YJT XSI NWP YCZ YCY YCX YCS YCR YCQ YCP YCW YCV YCT YCK YCJ YCI YCH YCO YCN YCM YCL YCC YCB YCA YCG YCF ZGF YCD LRQ YQM YQL YQN YQI YQH YQK YQE YQD YQG YQF YQA YQC YQB ZUC YQY YQX YQZ YQU YQT YQW YQV YQQ YQS ZUM YXZ YXX YXY YXR YXS YXP YXQ YXT YXU YXJ YXK YXH YXI YXN YXL YSB YXC YXF YXD YXE YSF YNL YNM YNN YNO YNI YNK YND YNE YNF YNA YNC YNP YNR YNS DAS YST TNS ZTB YGG YGE YGC YGB YGA YGO YGN YGM YGL YGK YGH YGW YGV YGT YGS YGR YGQ YGP YGZ YGY YGX\n",
      "Libyan Arab Jamahiriya\n",
      "GHT SEB DNF BEN QMQ LMQ WAX TIP MJI BCQ QUB AKF HUQ LTD TOB SRX LAQ MRA NFR\n",
      "Turkmenistan\n",
      "CRZ ASB KRW TAZ MYP\n",
      "Lithuania\n",
      "VNO KUN SQQ PLQ PNV\n",
      "FYR of Macedonia\n",
      "OHD SKP\n",
      "Cambodia\n",
      "PNH BBM MWV KKZ REP HPP TNX KZC KMT KTI KZD PAI KZK OMY SVR RBE KOS\n",
      "Dem. Rep. of Congo\n",
      "KND BZV BZU LUS KOO LIE KMN KMK LKC KBN EPN IDF MSM FDU LIQ BAN BOA BOE DIS BMB LZI BUX PWO SOE KBO IRP FTX NKY BSU MSX OUE ION INO BDV MNO MNB KWZ BKY LBO IKL KRZ FKI KNM EWO GMM MDK LJA MJM GMA KIL KLI MKJ BDT KAP YAN FMI BNC BNB FIH DJM KLY MAT KNJ PUN TSH GOM NIO SIB KEE PNR KEC NKL ANJ MUY KGA MEW PFR OKG BTB LZA LCO GDJ KKW FBM KGN\n",
      "Ethiopia\n",
      "BCO NEJ NEK AXU EGL GLC GHD XBL MKD MKS BCY ETE TIE WRA GNN DIR FNH AMH MYS LFO SKR SZE LLI SXU HIL AWH MQX MUJ ASO AWA GDE ABK NDM DGC GMB JIM JIJ GOB ADD SHC WAC DBM DSE MTF GOR GDQ BEI ALK HUE MZX TUJ BJR OTA PWI DBT DEM\n",
      "Aruba\n",
      "AUA\n",
      "Sri Lanka\n",
      "ACJ CMB DIW MNH KDY KDZ NUF KDW HIM GIU KTY ADP AFK GOY JAF TRR WRZ KCT BJT KEZ BTC HRI DBU\n",
      "Swaziland\n",
      "MTS\n",
      "Guinea-Bissau\n",
      "BQE OXB\n",
      "Argentina\n",
      "RYO GHU CCT CPC CPG OYO OYA EPA PRA MQD UAQ AOL PRQ NQN APZ GPO EQS LHS MJR LPG EHL OVR SZQ SFN PUD JNI RHD CRR AEP VDR RGA CRD RGL EMX VCF LLS VLG ROY ROS TTG IGR AFA FTE IGB CSZ VGS LCP LMD PSS ING PSV LUQ COR RES NEC COC PEH REL CTC PMQ GGS JSM PMY OLN MDZ MDX MDQ CUT ELO RDS CLX FMA RLO TDL OES VME VMA SST TUC BRC ORA GNR RCU RCQ USH CVH CVI SDE VDM SGV UZU CNT RZA CNQ IRJ HOS EZE ULA SLA BHI ARR LCM RSA JUJ NCJ LGS MCS\n",
      "Bolivia\n",
      "REY CIJ SRZ SNM CAM VLM GYA MQK BYC ASC VVI CEP RIB SRB TJA VAH SRD SRE SRJ SJS POI SJV RBQ RBO APB SJB MHW LPB CBB SNG MGD BJO ORU TDD PSZ SBL BVK PUR BVL\n",
      "Cameroon\n",
      "NGE BPC KOB DLA NSI KBI TKC NKS OUR KLE MVR VCC YAO GOU FOM BFX DSC BLC EBW BTA MMF GXX\n",
      "Burkina Faso\n",
      "BOY XNU TMQ FNG XBO XSE DOR XBG DIP XLU XDE OUA OUG XDJ TEG XZA DGU XPA BNR XAR XKA XKY XGG XGA TUQ PUP ARL\n",
      "Ghana\n",
      "ACC TML TKD NYI KMS\n",
      "Saudi Arabia\n",
      "KMC DWD DMM YNB AKH HBT TIF ZUL KMX RAE EAM ELQ SHW RAH XZF AQI HOF EJH MED WAE MJH GIZ DHA EWD ABT JED UZH SLF HAS URY AJF AHB BHH RUH TUU TUI\n",
      "Cape Verde\n",
      "BVR SNE VXE SFL RAI BVC MMO MTI NTO SID\n",
      "Slovenia\n",
      "MBX LJU POW\n",
      "Guatemala\n",
      "CMM DON RER GUA CIQ LOX PCG AAZ UAX HUG TKM PON AQB PKJ PBR ENJ FRS CTF LCF CBV RUV MCR\n",
      "Bosnia and Herzegovina\n",
      "SJJ BNX OMO TZL\n",
      "Kuwait\n",
      "KWI XIJ\n",
      "Russian Federation\n",
      "DKS CKL URS RYB CKH NAL EGO NYM NYA NNM OHO OHH IWA MQF UIK RVH KHV VVO KYZ RAT THX JOK BWO SVO OVS MRV IAA URJ LPK BQS SVX ZIA MJZ IAR KMW TYD KVK OVB PYJ REN AMV KVX GRV AER DME SKX KSZ KUF RGK CEE LDG NER CEK OSW PKC RTW SCW VLU HMA ROV OSF NFG IKS IGT CSH KPW VGD VKT OEL YKS CSY LNX HTG KXK NVR HTA UUA MOW KCK NOZ INA BTK NOJ PEX PEZ NEF EIE PES ACS BCX VUS PEE BZK NJC PVS BKA NUX IKT PVX ASF NBC OKT KJA KRR VOZ VOG KRO ADH NOI LED KEJ GDX UFA GDZ UUS OMS MMK GDG UUD KZN TOX UKX TJM USK BAX AAQ TBW TOF SWT TYA NSK CYX DYR UCT SGC EYK KLD ABA KLF ULY SLY GOJ RZN ULV VLK STW VKO CNN PKV ESL KGP OGZ PWE KGD MCX ARH IJK\n",
      "Jordan\n",
      "AMM MPQ ADJ OMF AQJ\n",
      "Dominica\n",
      "DCF DOM\n",
      "Liberia\n",
      "RVC VOI TPT CPA ROB NIA FOY SNI WES SAZ BYL XSA WOI GRC UCN THC MLW\n",
      "Maldives\n",
      "IFU"
     ]
    }
   ],
   "source": [
    "for c in AP:\n",
    "    print c\n",
    "    airportialinks=AP[c]\n",
    "    sch={}\n",
    "    for i in airportialinks:\n",
    "        print i,\n",
    "        if i not in sch:sch[i]={}\n",
    "        #march 4-31 = 4 weeks\n",
    "        for d in range (4,32):\n",
    "            if d not in sch[i]:\n",
    "                try:\n",
    "                    \n",
    "                    #capture token\n",
    "                    url=baseurl+airportialinks[i]+'arrivals/201703'+str(d)\n",
    "                    s = requests.Session()\n",
    "                    cookiesopen = s.get(url)\n",
    "                    cookies=str(s.cookies)\n",
    "                    fcookies=[[k[:k.find('=')],k[k.find('=')+1:k.find(' for ')]] for k in cookies[cookies.find('Cookie '):].split('Cookie ')[1:]]\n",
    "                    #push token\n",
    "                    opener = urllib2.build_opener()\n",
    "                    for k in fcookies:\n",
    "                        opener.addheaders.append(('Cookie', k[0]+'='+k[1]))\n",
    "                    #read html\n",
    "                    m=s.get(url).content\n",
    "                    sch[i][url]=pd.read_html(m)[0]             \n",
    "                except: pass #print 'no tables',i,d\n",
    "    print \n",
    "    SC[c]=sch"
   ]
  },
  {
   "cell_type": "markdown",
   "metadata": {},
   "source": [
    "parse Departures"
   ]
  },
  {
   "cell_type": "code",
   "execution_count": null,
   "metadata": {
    "collapsed": true
   },
   "outputs": [],
   "source": [
    "SD={}"
   ]
  },
  {
   "cell_type": "code",
   "execution_count": null,
   "metadata": {
    "collapsed": true
   },
   "outputs": [],
   "source": [
    "for c in AP:\n",
    "    print c\n",
    "    airportialinks=AP[c]\n",
    "    sch={}\n",
    "    for i in airportialinks:\n",
    "        print i,\n",
    "        if i not in sch:sch[i]={}\n",
    "        #march 4-31 = 4 weeks\n",
    "        for d in range (4,32):\n",
    "            if d not in sch[i]:\n",
    "                try:\n",
    "                    \n",
    "                    #capture token\n",
    "                    url=baseurl+airportialinks[i]+'departures/201703'+str(d)\n",
    "                    s = requests.Session()\n",
    "                    cookiesopen = s.get(url)\n",
    "                    cookies=str(s.cookies)\n",
    "                    fcookies=[[k[:k.find('=')],k[k.find('=')+1:k.find(' for ')]] for k in cookies[cookies.find('Cookie '):].split('Cookie ')[1:]]\n",
    "                    #push token\n",
    "                    opener = urllib2.build_opener()\n",
    "                    for k in fcookies:\n",
    "                        opener.addheaders.append(('Cookie', k[0]+'='+k[1]))\n",
    "                    #read html\n",
    "                    m=s.get(url).content\n",
    "                    sch[i][url]=pd.read_html(m)[0]             \n",
    "                except: pass #print 'no tables',i,d\n",
    "    print \n",
    "    SD[c]=sch"
   ]
  },
  {
   "cell_type": "markdown",
   "metadata": {
    "collapsed": true
   },
   "source": [
    "Save"
   ]
  },
  {
   "cell_type": "code",
   "execution_count": 43,
   "metadata": {
    "collapsed": false
   },
   "outputs": [],
   "source": [
    "for c in SC:\n",
    "    sch=SC[c]\n",
    "    mdf=pd.DataFrame()\n",
    "    for i in sch:\n",
    "        for d in sch[i]:\n",
    "            df=sch[i][d].drop(sch[i][d].columns[3:],axis=1).drop(sch[i][d].columns[0],axis=1)\n",
    "            df['To']=i\n",
    "            df['Date']=d\n",
    "            mdf=pd.concat([mdf,df])\n",
    "    mdf=mdf.replace('Hahn','Frankfurt')\n",
    "    mdf=mdf.replace('Hahn HHN','Frankfurt HHN')\n",
    "    mdf['City']=[i[:i.rfind(' ')] for i in mdf['From']]\n",
    "    mdf['Airport']=[i[i.rfind(' ')+1:] for i in mdf['From']]\n",
    "    file('countries/'+cnc.T.loc[c]['ISO2']+\"/json/mdf_arrv.json\",'w').write(json.dumps(mdf.reset_index().to_json()))"
   ]
  },
  {
   "cell_type": "code",
   "execution_count": null,
   "metadata": {
    "collapsed": true
   },
   "outputs": [],
   "source": [
    "for c in SD:\n",
    "    sch=SD[c]\n",
    "    mdf=pd.DataFrame()\n",
    "    for i in sch:\n",
    "        for d in sch[i]:\n",
    "            df=sch[i][d].drop(sch[i][d].columns[3:],axis=1).drop(sch[i][d].columns[0],axis=1)\n",
    "            df['From']=i\n",
    "            df['Date']=d\n",
    "            mdf=pd.concat([mdf,df])\n",
    "    mdf=mdf.replace('Hahn','Frankfurt')\n",
    "    mdf=mdf.replace('Hahn HHN','Frankfurt HHN')\n",
    "    mdf['City']=[i[:i.rfind(' ')] for i in mdf['To']]\n",
    "    mdf['Airport']=[i[i.rfind(' ')+1:] for i in mdf['To']]\n",
    "    file('countries/'+cnc.T.loc[c]['ISO2']+\"/json/mdf_dest.json\",'w').write(json.dumps(mdf.reset_index().to_json()))"
   ]
  }
 ],
 "metadata": {
  "anaconda-cloud": {},
  "kernelspec": {
   "display_name": "Python [conda root]",
   "language": "python",
   "name": "conda-root-py"
  },
  "language_info": {
   "codemirror_mode": {
    "name": "ipython",
    "version": 2
   },
   "file_extension": ".py",
   "mimetype": "text/x-python",
   "name": "python",
   "nbconvert_exporter": "python",
   "pygments_lexer": "ipython2",
   "version": "2.7.13"
  }
 },
 "nbformat": 4,
 "nbformat_minor": 1
}
