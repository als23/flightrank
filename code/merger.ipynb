{
 "cells": [
  {
   "cell_type": "code",
   "execution_count": 17,
   "metadata": {
    "collapsed": true
   },
   "outputs": [],
   "source": [
    "import pandas as pd, json, numpy as np\n",
    "import matplotlib.pyplot as plt\n",
    "%matplotlib inline"
   ]
  },
  {
   "cell_type": "code",
   "execution_count": 32,
   "metadata": {
    "collapsed": true
   },
   "outputs": [],
   "source": [
    "SC=json.loads(file('../json/SC2.json','r').read())\n",
    "cnc_path='../../universal/countries/'\n",
    "cnc=pd.read_excel(cnc_path+'cnc.xlsx').set_index('Name')"
   ]
  },
  {
   "cell_type": "code",
   "execution_count": 36,
   "metadata": {
    "collapsed": false
   },
   "outputs": [
    {
     "name": "stdout",
     "output_type": "stream",
     "text": [
      "Libyan Arab Jamahiriya Canada Turkmenistan Lithuania FYR of Macedonia Cambodia Dem. Rep. of Congo Ethiopia Aruba Sri Lanka Guinea-Bissau Argentina Bolivia Cameroon Burkina Faso Ghana Saudi Arabia Japan Cape Verde Slovenia Guatemala Bosnia and Herzegovina Kuwait Russian Federation Jordan Dominica Liberia Maldives Pakistan Oman Tanzania Greenland Gabon Niue Monaco New Zealand Yemen Jersey Jamaica Albania Samoa United Arab Emirates Kosovo India Azerbaijan Lesotho Saint Vincent and the Grenadines Kenya Tajikistan Turkey Afghanistan Bangladesh Mauritania Solomon Islands Turks and Caicos Islands Saint Lucia Mongolia France Syrian Arab Republic Bermuda Slovakia Somalia Peru Vanuatu Nauru Seychelles Norway Malawi Cook Islands Benin Cuba Montenegro Saint Kitts and Nevis Togo China Armenia Timor-Leste Dominican Republic Ukraine Bahrain Tonga Finland Western Sahara Indonesia Mauritius Sweden Vietnam British Virgin Islands Mali Bulgaria United States Romania Angola Cayman Islands South Africa Cyprus Brunei Darussalam Qatar Malaysia Austria Mozambique Uganda Hungary Niger Brazil Guinea Panama Rep. of Moldova Costa Rica Luxembourg Bahamas Chad Gibraltar Ireland Palau Nigeria Ecuador Czech Republic Australia Iran Algeria El Salvador Tuvalu Marshall Islands Chile Puerto Rico Belgium Kiribati Haiti Belize Hong Kong Sierra Leone Georgia Gambia Philippines French Guiana Morocco Namibia Guernsey Thailand Switzerland Grenada Isle of Man Portugal Estonia Uruguay Mexico Lebanon Uzbekistan Tunisia Djibouti Rwanda Antigua and Barbuda Spain Colombia Burundi Taiwan Fiji Barbados Madagascar Italy Bhutan Sudan Nepal São Tomé and Principe Malta Netherlands Suriname Anguilla Venezuela Micronesia (Federated States of) Israel Myanmar (Burma) Iceland Zambia Senegal Papua New Guinea Cote d'Ivoire Lao People's Dem. Rep. Zimbabwe Germany Denmark Kazakhstan Poland Cent African Rep Eritrea Kyrgyzstan Iraq Montserrat Trinidad and Tobago Latvia People's Republic of Korea South Sudan Guyana Belarus Honduras Equatorial Guinea Egypt Nicaragua Singapore Serbia Botswana United Kingdom Congo Greece Paraguay Croatia Rep. of Korea Comoros\n"
     ]
    }
   ],
   "source": [
    "for c in SC:\n",
    "    if len(SC[c])>0:\n",
    "\n",
    "        print c,\n",
    "        #read mdf data\n",
    "        cpath=str(cnc.T.loc[c]['ISO2']).lower()\n",
    "        if cpath=='nan':cpath='na'\n",
    "        cpath='../countries/'+cpath\n",
    "        mdf_dest=pd.read_json(json.loads(file(cpath+'/json/mdf_dest.json','r').read()))\n",
    "        mdf_arrv=pd.read_json(json.loads(file(cpath+'/json/mdf_arrv.json','r').read()))\n",
    "        mdf_dest['ID']=mdf_dest['From']\n",
    "        mdf_arrv['ID']=mdf_arrv['To']\n",
    "        mdf=pd.concat([mdf_dest,mdf_arrv])\n",
    "\n",
    "        #save combined - not necessary, space hog\n",
    "        #file(cpath+\"/json/mdf.json\",'w').write(json.dumps(mdf.reset_index().to_json()))\n",
    "\n",
    "        #parse data into flights\n",
    "        mdg=mdf.set_index(['ID','City','Airport','Airline'])\n",
    "        flights={}\n",
    "        minn=1.0 #want to see minimum 1 flight in the past 2 weeks\n",
    "        for i in mdg.index.get_level_values(0).unique():\n",
    "            #2 weeks downloaded. want to get weekly freq. but multi by 2 dept+arrv\n",
    "            d=4.0\n",
    "            if i not in flights:flights[i]={}\n",
    "            for j in mdg.loc[i].index.get_level_values(0).unique():\n",
    "                if len(mdg.loc[i].loc[j])>minn: #minimum 1 flights required in this period at least once every 2 weeks\n",
    "                    if j not in flights[i]:flights[i][j]={'airports':{},'7freq':0}\n",
    "                    flights[i][j]['7freq']=len(mdg.loc[i].loc[j])/d \n",
    "                    for k in mdg.loc[i].loc[j].index.get_level_values(0).unique():\n",
    "                        if len(mdg.loc[i].loc[j].loc[k])>minn:\n",
    "                            if k not in flights[i][j]['airports']:flights[i][j]['airports'][k]={'airlines':{},'7freq':0}\n",
    "                            flights[i][j]['airports'][k]['7freq']=len(mdg.loc[i].loc[j].loc[k])/d\n",
    "                            for l in mdg.loc[i].loc[j].loc[k].index.get_level_values(0).unique():\n",
    "                                try:\n",
    "                                    if len(mdg.loc[i].loc[j].loc[k].loc[l])>minn: \n",
    "                                        if l not in flights[i][j]['airports'][k]['airlines']:flights[i][j]['airports'][k]['airlines'][l]={'7freq':0}\n",
    "                                        flights[i][j]['airports'][k]['airlines'][l]['7freq']=len(mdg.loc[i].loc[j].loc[k].loc[l])/d\n",
    "                                except:pass\n",
    "        file(cpath+\"/json/flights.json\",'w').write(json.dumps(flights))"
   ]
  }
 ],
 "metadata": {
  "anaconda-cloud": {},
  "kernelspec": {
   "display_name": "Python [conda root]",
   "language": "python",
   "name": "conda-root-py"
  },
  "language_info": {
   "codemirror_mode": {
    "name": "ipython",
    "version": 2
   },
   "file_extension": ".py",
   "mimetype": "text/x-python",
   "name": "python",
   "nbconvert_exporter": "python",
   "pygments_lexer": "ipython2",
   "version": "2.7.13"
  }
 },
 "nbformat": 4,
 "nbformat_minor": 1
}
